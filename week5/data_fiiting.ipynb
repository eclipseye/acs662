{
 "cells": [
  {
   "cell_type": "markdown",
   "id": "3b911f9c-84f1-404b-ae9f-0b956de6af92",
   "metadata": {
    "tags": []
   },
   "source": [
    "## Data Fitting"
   ]
  },
  {
   "cell_type": "markdown",
   "id": "db0fe6df-52df-41b9-9de9-cc2d061e2d7b",
   "metadata": {},
   "source": [
    "Data fitting is one of optimization problems that finds a best fitting line for data <br>\n",
    "\n",
    "Consider we have experiment data with inputs and outputs. The x is the indepent variable or input to the experiment. The y is the dependent variable or measured value of the experiment. The exact form of the function that represents the exeperiment measurement of inputs to output is not known. However, we can approximate the function with a well-known form of functions.\n",
    "\n",
    "*Data fitting* first defines the functional form of the mapping, so called basis fucntion or objective function. Then searching for the parametrs to the function with minimum errors. \n",
    "\n",
    "Error is calculated by using the observations from the domain and passing the inputs to our candidate mapping function and calculating the output, then comparing the calculated output to the observed output.\n",
    "\n",
    "Once finding the best fitting function parameters, then we can use the mapping function to interpolate or extrapolate new points in the domain. \n",
    "\n",
    "Therefore, the key to the data fitting is finding the form of the mapping function."
   ]
  },
  {
   "cell_type": "markdown",
   "id": "276997b4-8efc-4dc8-a313-1f39690f4508",
   "metadata": {},
   "source": [
    "### Least squares"
   ]
  },
  {
   "cell_type": "markdown",
   "id": "e5cfe0c4-f855-425f-a924-9fa725a2b45f",
   "metadata": {},
   "source": [
    "The least square methods is a regression analysis to approximate the mapping function by minimizing the sum of the squares of the residuals."
   ]
  },
  {
   "cell_type": "markdown",
   "id": "12cf8093-f07b-419f-a1f2-a18c704e4ba5",
   "metadata": {},
   "source": [
    "The fitting a data point is calculated by its residual, defined as the difference between the observed value of the dependent variable and the value predicted by the mapping function: <br>\n",
    "\n",
    "$$\n",
    "r_{i} = y_{i} - f(x_i)\n",
    "$$\n",
    "\n",
    "Then the least square method find the optimal parameter values by minimizing the sum of squared residuals: <br>\n",
    "\n",
    "$$\n",
    "S = \\displaystyle\\sum\\limits_{i=1}^{n} r_{i}^{2}\n",
    "$$"
   ]
  },
  {
   "cell_type": "markdown",
   "id": "64826324-6b7f-41ac-a286-ebc216c04dac",
   "metadata": {},
   "source": [
    "### Linear regression"
   ]
  },
  {
   "cell_type": "markdown",
   "id": "d7ae1b76-206c-4294-889e-86b86f580b4e",
   "metadata": {},
   "source": [
    "$$\n",
    "y = a * x + b\n",
    "$$\n",
    "\n",
    "Where y is the calculated output, $x$ is the input, and $a$ and $b$ are parameters of the mapping function found using an optimization algorithm."
   ]
  },
  {
   "cell_type": "markdown",
   "id": "4bd092f2-0a6f-44ff-8fda-a68b4b5f7549",
   "metadata": {},
   "source": [
    "### Polynomial regression"
   ]
  },
  {
   "cell_type": "markdown",
   "id": "281a2898-2fec-4b71-8340-c948459e4bcf",
   "metadata": {},
   "source": [
    "$$\n",
    "y = a \\times x + b \\times x^2 + c\n",
    "$$\n",
    "\n",
    "This is called polynomial regression, and the squared term means it is a second-degree polynomial."
   ]
  },
  {
   "cell_type": "markdown",
   "id": "419f9bec-fab9-446f-89a1-9eed7d802c14",
   "metadata": {},
   "source": [
    "Linear equations of this type can be fit by minimizing least squares and can be calculated analytically. This means we can find the optimal values of the parameters using a little linear algebra."
   ]
  },
  {
   "cell_type": "markdown",
   "id": "59922719-3390-44ed-873b-0281fcd73d46",
   "metadata": {},
   "source": [
    "### Nonlinear least squares"
   ]
  },
  {
   "cell_type": "markdown",
   "id": "edf341ca-6ebc-4dcb-9582-e552583ea39e",
   "metadata": {},
   "source": [
    "The mapping function can be other mathematical functions to the equation, such as sine, cosine, and more. for example,<br>\n",
    "\n",
    "$$\n",
    "y = a \\times \\sin(b \\times x) + c\n",
    "$$\n",
    "\n",
    "Adding arbitrary mathematical functions to our mapping function generally means we cannot calculate the parameters analytically, and instead, we will need to use an iterative optimization algorithm."
   ]
  },
  {
   "cell_type": "markdown",
   "id": "6aebca3b-aa43-4771-929e-014f8c609581",
   "metadata": {},
   "source": [
    "### Example"
   ]
  },
  {
   "cell_type": "code",
   "execution_count": 1,
   "id": "4896e048-9e45-41f6-bca1-096e79f822bd",
   "metadata": {},
   "outputs": [],
   "source": [
    "import numpy as np\n",
    "from matplotlib import pyplot as plt"
   ]
  },
  {
   "cell_type": "code",
   "execution_count": 2,
   "id": "a84a52b7-5ead-4190-a79e-6938433aec99",
   "metadata": {},
   "outputs": [
    {
     "name": "stdout",
     "output_type": "stream",
     "text": [
      "[107.608 108.632 109.773 110.929 112.075 113.27  115.094 116.219 117.388\n",
      " 118.734 120.445 121.95  123.366 125.368 127.852 130.081]\n",
      "[60.323 61.122 60.171 61.187 63.221 63.639 64.989 63.761 66.019 67.857\n",
      " 68.169 66.513 68.655 69.564 69.331 70.551]\n"
     ]
    }
   ],
   "source": [
    "data = np.loadtxt('data.txt')\n",
    "x, y = data[:, 0], data[:, 1]\n",
    "print (x)\n",
    "print (y)"
   ]
  },
  {
   "cell_type": "code",
   "execution_count": 3,
   "id": "5f72ac88-b278-4c28-a801-71af46135fb7",
   "metadata": {},
   "outputs": [
    {
     "data": {
      "image/png": "[encoded data removed]",
      "text/plain": [
       "<Figure size 432x288 with 1 Axes>"
      ]
     },
     "metadata": {
      "needs_background": "light"
     },
     "output_type": "display_data"
    }
   ],
   "source": [
    "plt.scatter(x, y)\n",
    "plt.show()"
   ]
  },
  {
   "cell_type": "markdown",
   "id": "2ed4a754-22ae-45ef-865b-f4414ae1574b",
   "metadata": {},
   "source": [
    "We will use curve_fit module of scipy package."
   ]
  },
  {
   "cell_type": "code",
   "execution_count": 5,
   "id": "6eb68ed1-6ef4-4fbb-adc9-865cafffefbb",
   "metadata": {
    "tags": []
   },
   "outputs": [],
   "source": [
    "from scipy.optimize import curve_fit"
   ]
  },
  {
   "cell_type": "markdown",
   "id": "64eb4015-a1cf-4c78-840e-4e5b62742845",
   "metadata": {},
   "source": [
    "$$\n",
    "y = ax + b\n",
    "$$"
   ]
  },
  {
   "cell_type": "code",
   "execution_count": 6,
   "id": "fbcb4526-e7c0-45ac-ae8f-9020fd77c2a5",
   "metadata": {},
   "outputs": [],
   "source": [
    "# Define the model function\n",
    "def linemap(x, a, b):\n",
    "    return (a * x + b)"
   ]
  },
  {
   "cell_type": "code",
   "execution_count": 8,
   "id": "75d2f68f-92e9-403f-a92e-056592bc1caa",
   "metadata": {},
   "outputs": [
    {
     "name": "stdout",
     "output_type": "stream",
     "text": [
      "[0.48487809 8.38067476]\n",
      "[[ 1.41378134e-03 -1.66011861e-01]\n",
      " [-1.66011861e-01  1.95579106e+01]]\n"
     ]
    }
   ],
   "source": [
    "opt, cov = curve_fit(linemap, x, y)\n",
    "print (opt)\n",
    "print (cov)"
   ]
  },
  {
   "cell_type": "code",
   "execution_count": 9,
   "id": "568fc5b3-146f-4c9f-88e7-5be2148e7466",
   "metadata": {},
   "outputs": [
    {
     "name": "stdout",
     "output_type": "stream",
     "text": [
      "y = 0.48488 * x + 8.38067\n"
     ]
    }
   ],
   "source": [
    "a, b = opt\n",
    "print ('y = %.5f * x + %.5f' % (a, b))"
   ]
  },
  {
   "cell_type": "code",
   "execution_count": 10,
   "id": "1533d1a7-081b-4a2c-b6e9-5a58105e5745",
   "metadata": {},
   "outputs": [
    {
     "data": {
      "image/png": "[encoded data removed]",
      "text/plain": [
       "<Figure size 432x288 with 1 Axes>"
      ]
     },
     "metadata": {
      "needs_background": "light"
     },
     "output_type": "display_data"
    }
   ],
   "source": [
    "plt.scatter(x, y)\n",
    "plt.plot(x, a*x+b, 'r--')\n",
    "plt.show()"
   ]
  },
  {
   "cell_type": "markdown",
   "id": "978dcfcf-f83a-43e5-88a8-ea3ae006ac57",
   "metadata": {},
   "source": [
    "$$\n",
    "y = ax^2 + bx + c\n",
    "$$"
   ]
  },
  {
   "cell_type": "code",
   "execution_count": 11,
   "id": "3ece9749-6f38-43c5-99a3-5d7f234c87e7",
   "metadata": {},
   "outputs": [],
   "source": [
    "def polymap(x, a, b, c):\n",
    "    return (a*x**2 + b*x + c)"
   ]
  },
  {
   "cell_type": "code",
   "execution_count": 12,
   "id": "d1584c87-ef8d-4f8e-acd8-0cb7794ac36e",
   "metadata": {},
   "outputs": [
    {
     "name": "stdout",
     "output_type": "stream",
     "text": [
      "y = -0.01170 * x^2 + 3.25444 * x + -155.02799\n"
     ]
    }
   ],
   "source": [
    "opt, _ = curve_fit(polymap, x, y)\n",
    "a, b, c = opt\n",
    "print ('y = %.5f * x^2 + %.5f * x + %.5f' % (a, b, c))"
   ]
  },
  {
   "cell_type": "code",
   "execution_count": 13,
   "id": "4f3aa0ef-505d-44c0-8bb2-084654a2ed57",
   "metadata": {},
   "outputs": [
    {
     "data": {
      "image/png": "[encoded data removed]",
      "text/plain": [
       "<Figure size 432x288 with 1 Axes>"
      ]
     },
     "metadata": {
      "needs_background": "light"
     },
     "output_type": "display_data"
    }
   ],
   "source": [
    "plt.scatter(x, y)\n",
    "plt.plot(x, a*x**2+b*x+c, 'r--')\n",
    "plt.show()"
   ]
  },
  {
   "cell_type": "markdown",
   "id": "e6181452-32ee-49db-9e93-8b6700c31dd6",
   "metadata": {},
   "source": [
    "$$\n",
    "y = ax^6 + bx^5 + cx^4 + dx^3 + ex^2 + fx + g\n",
    "$$"
   ]
  },
  {
   "cell_type": "code",
   "execution_count": 14,
   "id": "314a3e5c-fd52-477e-a835-6aaef5f8d94d",
   "metadata": {},
   "outputs": [],
   "source": [
    "def sixthmap(x, a, b, c, d, e, f, g):\n",
    "    return (a * x**6 + b * x**5 + c * x**4 + d * x**3 + e * x**2 + f * x + g)"
   ]
  },
  {
   "cell_type": "code",
   "execution_count": 1,
   "id": "53b56232-d374-4e1c-9595-a59ada299842",
   "metadata": {},
   "outputs": [
    {
     "ename": "NameError",
     "evalue": "name 'curve_fit' is not defined",
     "output_type": "error",
     "traceback": [
      "\u001b[1;31m---------------------------------------------------------------------------\u001b[0m",
      "\u001b[1;31mNameError\u001b[0m                                 Traceback (most recent call last)",
      "\u001b[1;32m<ipython-input-1-35fd6523ebfa>\u001b[0m in \u001b[0;36m<module>\u001b[1;34m\u001b[0m\n\u001b[1;32m----> 1\u001b[1;33m \u001b[0mopt\u001b[0m\u001b[1;33m,\u001b[0m \u001b[0m_\u001b[0m \u001b[1;33m=\u001b[0m \u001b[0mcurve_fit\u001b[0m\u001b[1;33m(\u001b[0m\u001b[0msixthmap\u001b[0m\u001b[1;33m,\u001b[0m \u001b[0mx\u001b[0m\u001b[1;33m,\u001b[0m \u001b[0my\u001b[0m\u001b[1;33m)\u001b[0m\u001b[1;33m\u001b[0m\u001b[1;33m\u001b[0m\u001b[0m\n\u001b[0m\u001b[0;32m      2\u001b[0m \u001b[0ma\u001b[0m\u001b[1;33m,\u001b[0m \u001b[0mb\u001b[0m\u001b[1;33m,\u001b[0m \u001b[0mc\u001b[0m\u001b[1;33m,\u001b[0m \u001b[0md\u001b[0m\u001b[1;33m,\u001b[0m \u001b[0me\u001b[0m\u001b[1;33m,\u001b[0m \u001b[0mf\u001b[0m\u001b[1;33m,\u001b[0m \u001b[0mg\u001b[0m \u001b[1;33m=\u001b[0m \u001b[0mopt\u001b[0m\u001b[1;33m\u001b[0m\u001b[1;33m\u001b[0m\u001b[0m\n\u001b[0;32m      3\u001b[0m \u001b[0mprint\u001b[0m \u001b[1;33m(\u001b[0m\u001b[1;34m'y = %.5f * x^6 + %.5f * x^5 + %.5f * x^4 + %.5f * x^3 + %.5f * x^2 + %.5f * x + %.5f'\u001b[0m \u001b[1;33m%\u001b[0m \u001b[1;33m(\u001b[0m\u001b[0ma\u001b[0m\u001b[1;33m,\u001b[0m \u001b[0mb\u001b[0m\u001b[1;33m,\u001b[0m \u001b[0mc\u001b[0m\u001b[1;33m,\u001b[0m \u001b[0md\u001b[0m\u001b[1;33m,\u001b[0m \u001b[0me\u001b[0m\u001b[1;33m,\u001b[0m \u001b[0mf\u001b[0m\u001b[1;33m,\u001b[0m \u001b[0mg\u001b[0m\u001b[1;33m)\u001b[0m\u001b[1;33m)\u001b[0m\u001b[1;33m\u001b[0m\u001b[1;33m\u001b[0m\u001b[0m\n",
      "\u001b[1;31mNameError\u001b[0m: name 'curve_fit' is not defined"
     ]
    }
   ],
   "source": [
    "opt, _ = curve_fit(sixthmap, x, y)\n",
    "a, b, c, d, e, f, g = opt\n",
    "print ('y = %.5f * x^6 + %.5f * x^5 + %.5f * x^4 + %.5f * x^3 + %.5f * x^2 + %.5f * x + %.5f' % (a, b, c, d, e, f, g))"
   ]
  },
  {
   "cell_type": "code",
   "execution_count": 16,
   "id": "7ae9c9bf-d860-44f0-8b8b-4ec23429d41e",
   "metadata": {},
   "outputs": [
    {
     "data": {
      "image/png": "[encoded data removed]",
      "text/plain": [
       "<Figure size 432x288 with 1 Axes>"
      ]
     },
     "metadata": {
      "needs_background": "light"
     },
     "output_type": "display_data"
    }
   ],
   "source": [
    "plt.scatter(x, y)\n",
    "plt.plot(x, sixthmap(x, a, b, c, d, e, f, g), 'r--')\n",
    "plt.show()"
   ]
  },
  {
   "cell_type": "markdown",
   "id": "fdbfba2d-68af-4976-8f10-09359cb03dc8",
   "metadata": {},
   "source": [
    "$$\n",
    "y = a \\sin(b - x) + c x + d\n",
    "$$"
   ]
  },
  {
   "cell_type": "code",
   "execution_count": 17,
   "id": "5ea0a359-ad11-41e9-bcc3-dcdcd9dc238f",
   "metadata": {},
   "outputs": [],
   "source": [
    "def arbmap(x, a, b, c, d):\n",
    "    return a * np.sin(b - x) + c * x + d"
   ]
  },
  {
   "cell_type": "code",
   "execution_count": 18,
   "id": "bced2b9a-1c86-44be-806a-adebba11e510",
   "metadata": {},
   "outputs": [
    {
     "name": "stdout",
     "output_type": "stream",
     "text": [
      "0.88224 * sin(1.50386 - x) + 0.49040 * x + 7.81710\n"
     ]
    }
   ],
   "source": [
    "opt, _ = curve_fit(arbmap, x, y)\n",
    "a, b, c, d = opt\n",
    "print ('%.5f * sin(%.5f - x) + %.5f * x + %.5f' % (a, b, c, d))"
   ]
  },
  {
   "cell_type": "code",
   "execution_count": 19,
   "id": "eb6cd8dd-d43b-4606-b9ae-7acd0408210f",
   "metadata": {},
   "outputs": [
    {
     "data": {
      "image/png": "[encoded data removed]",
      "text/plain": [
       "<Figure size 432x288 with 1 Axes>"
      ]
     },
     "metadata": {
      "needs_background": "light"
     },
     "output_type": "display_data"
    }
   ],
   "source": [
    "plt.scatter(x, y)\n",
    "u = np.arange(107, 130, 0.1)\n",
    "plt.plot(u, arbmap(u, a, b, c, d), 'r--')\n",
    "plt.show()"
   ]
  },
  {
   "cell_type": "markdown",
   "id": "1f438412-8c3d-41e0-915d-301d4b095f7c",
   "metadata": {},
   "source": [
    "$$\n",
    "a \\exp \\Big[ \\frac{(x-b)^{2}}{2c^2} \\Big]\n",
    "$$"
   ]
  },
  {
   "cell_type": "code",
   "execution_count": 20,
   "id": "0f49f32d-ba17-41c3-aa53-1439ac312fd4",
   "metadata": {},
   "outputs": [],
   "source": [
    "def gaussmap(x, a, b, c):\n",
    "    return (a * np.exp(- (x - b)**2 / (2 * c**2)))"
   ]
  },
  {
   "cell_type": "code",
   "execution_count": 23,
   "id": "01d192b7-41b3-40b7-bd65-2d7b83ef2882",
   "metadata": {
    "tags": []
   },
   "outputs": [
    {
     "data": {
      "image/png": "[encoded data removed]",
      "text/plain": [
       "<Figure size 432x288 with 1 Axes>"
      ]
     },
     "metadata": {
      "needs_background": "light"
     },
     "output_type": "display_data"
    }
   ],
   "source": [
    "x = np.linspace(0, 10, 100)\n",
    "y = gaussmap(x, 1, 5, 2)\n",
    "yr = y + 0.2*np.random.normal(size=len(x))\n",
    "plt.plot(x, yr, 'o')\n",
    "plt.show()"
   ]
  },
  {
   "cell_type": "code",
   "execution_count": 24,
   "id": "f30d5d29-6106-4729-afad-8ec61327d964",
   "metadata": {},
   "outputs": [
    {
     "name": "stdout",
     "output_type": "stream",
     "text": [
      "1.06681 * exp(- (x - 4.90848)^2 / 21.90159^2)\n"
     ]
    }
   ],
   "source": [
    "opt, _ = curve_fit(gaussmap, x, yr)\n",
    "a, b, c = opt\n",
    "print ('%.5f * exp(- (x - %.5f)^2 / 2%.5f^2)' % (a, b, c))"
   ]
  },
  {
   "cell_type": "code",
   "execution_count": 25,
   "id": "556f58b2-7867-4168-a2b7-aa14786fb9e8",
   "metadata": {},
   "outputs": [
    {
     "data": {
      "image/png": "[encoded data removed]",
      "text/plain": [
       "<Figure size 720x720 with 1 Axes>"
      ]
     },
     "metadata": {
      "needs_background": "light"
     },
     "output_type": "display_data"
    }
   ],
   "source": [
    "plt.figure(figsize=(10,10))\n",
    "plt.plot(x, yr, 'o', label='data')\n",
    "plt.plot(x, y, 'b-', label='original')\n",
    "plt.plot(x, gaussmap(x, a, b, c), 'r--', label='fitting')\n",
    "plt.legend(loc='best')\n",
    "plt.show()"
   ]
  }
 ],
 "metadata": {
  "kernelspec": {
   "display_name": "Python 3",
   "language": "python",
   "name": "python3"
  },
  "language_info": {
   "codemirror_mode": {
    "name": "ipython",
    "version": 3
   },
   "file_extension": ".py",
   "mimetype": "text/x-python",
   "name": "python",
   "nbconvert_exporter": "python",
   "pygments_lexer": "ipython3",
   "version": "3.8.8"
  }
 },
 "nbformat": 4,
 "nbformat_minor": 5
}
