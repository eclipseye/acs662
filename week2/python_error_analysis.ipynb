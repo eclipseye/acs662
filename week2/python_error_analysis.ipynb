{
 "cells": [
  {
   "cell_type": "markdown",
   "id": "9d9f1e1c-66e5-44c4-ab60-dc83bdb89c7b",
   "metadata": {},
   "source": [
    "# **Error Analysis**"
   ]
  },
  {
   "cell_type": "markdown",
   "id": "c61237cf-5405-4319-9560-3b0957edc5af",
   "metadata": {},
   "source": [
    "There are always errors in any measurements or simulations. **Error Analysis** is the study of uncertainties in measurements."
   ]
  },
  {
   "cell_type": "markdown",
   "id": "31a19637-4d15-4640-8d84-f6ef729bb2c7",
   "metadata": {},
   "source": [
    "**Accuracy and Precision**"
   ]
  },
  {
   "cell_type": "markdown",
   "id": "335d2d42-ce77-4b1e-a4e3-cadfa50b0eda",
   "metadata": {},
   "source": [
    "**Accuracy** measures how close a measured value is to a exact value or an accepted value. Since the exact or accepted value for a physical quantity may be unknown, it is sometimes not possible to determine the accuracy of a measurement. "
   ]
  },
  {
   "cell_type": "markdown",
   "id": "bb6d6292-d92a-45c2-bb67-2826ca8a7ba1",
   "metadata": {},
   "source": [
    "**Precision** measures how closely two or more measurements agree with other. Precision is sometimes referred to as *repeatability* or *reproducibility*. A measurement which is highly reproducible tends to give values which are very close to each other."
   ]
  },
  {
   "cell_type": "markdown",
   "id": "42cf48cf-08f9-4287-a270-e4a78bfbb77a",
   "metadata": {},
   "source": [
    "**Types of Errors: Systematic vs. Random Errors**"
   ]
  },
  {
   "cell_type": "markdown",
   "id": "770207de-f7ed-42e8-a51c-eac458db9055",
   "metadata": {},
   "source": [
    "**Systematic errors** are errors that affect the accuracy of a measurement. Systematic errors are usually caused by measuring instruments that are incorrectly calibrated or are used incorrectly. The accuracy of measurements subject to systematic errors cannot be improved by repeating those measurements. Systematic errors cannot be easily analyzed by statistical analysis."
   ]
  },
  {
   "cell_type": "markdown",
   "id": "1c3aed5f-2152-4aad-b841-ba7b01f1d5c1",
   "metadata": {},
   "source": [
    "**Random errors** are errors that affect the precision of a measurement. Random errors are unpredictable and can’t be replicated by repeating the experiment again. Measurements subject to random errors differ from each other due to random, unpredictable variations in the measurement process. The precision of measurements subject to random errors can be improved by repeating those measurements. Random errors are easily analyzed by statistical analysis."
   ]
  },
  {
   "cell_type": "markdown",
   "id": "56ee35fc-5da5-472f-9999-a3df5ee8d9ea",
   "metadata": {},
   "source": [
    "**Percent Error and Difference**"
   ]
  },
  {
   "cell_type": "markdown",
   "id": "0a23031b-8275-4b2f-850c-64abdde4a4a7",
   "metadata": {},
   "source": [
    "**Percent error** measures the accuracy of a measurement by the difference between a measured or experimental value *E* and a exact or accepted value *A*."
   ]
  },
  {
   "cell_type": "code",
   "execution_count": 1,
   "id": "228ecdd6-f904-429e-af29-0a12dac25171",
   "metadata": {},
   "outputs": [
    {
     "name": "stdout",
     "output_type": "stream",
     "text": [
      "16.666666666666664\n"
     ]
    }
   ],
   "source": [
    "A = 3.0\n",
    "E = 2.5\n",
    "percent_error = abs(E-A) / A * 100\n",
    "print (percent_error)"
   ]
  },
  {
   "cell_type": "code",
   "execution_count": 2,
   "id": "f2b65eae-4ed2-43dc-92af-c4f5f05716d5",
   "metadata": {},
   "outputs": [
    {
     "name": "stdout",
     "output_type": "stream",
     "text": [
      "[60.         16.66666667  6.66666667]\n"
     ]
    }
   ],
   "source": [
    "import numpy as np\n",
    "Er = np.array([1.2, 2.5, 3.2])\n",
    "percent_errors = abs(Er-A) / A * 100\n",
    "print (percent_errors)"
   ]
  },
  {
   "cell_type": "markdown",
   "id": "70c1b6fb-6227-4ec1-84b0-2bfdf97ddaa8",
   "metadata": {},
   "source": [
    "**Percent Difference** measures precision of two measurements by the difference between the measured or experimental values *E1* and *E2* expressed as a fraction the average of the two values."
   ]
  },
  {
   "cell_type": "code",
   "execution_count": 3,
   "id": "7d8d12ed-3430-47b8-bb11-2b730ea0e4f8",
   "metadata": {},
   "outputs": [
    {
     "name": "stdout",
     "output_type": "stream",
     "text": [
      "24.561403508771935\n"
     ]
    }
   ],
   "source": [
    "E1 = 2.5\n",
    "E2 = 3.2\n",
    "percent_difference = abs(E1 - E2) / ((E1 + E2) / 2) * 100\n",
    "print (percent_difference)"
   ]
  },
  {
   "cell_type": "code",
   "execution_count": 4,
   "id": "868f103c-d2bc-44ef-a22b-cd804361d262",
   "metadata": {},
   "outputs": [
    {
     "name": "stdout",
     "output_type": "stream",
     "text": [
      "[28.125       2.27272727 31.25      ]\n"
     ]
    }
   ],
   "source": [
    "Er1 = np.array([2.3, 4.5, 2.2])\n",
    "Er2 = np.array([3.2, 4.4, 3.2])\n",
    "percent_differences = abs(Er1 - Er2) / ((Er2 + Er2) / 2) * 100\n",
    "print (percent_differences)"
   ]
  },
  {
   "cell_type": "markdown",
   "id": "b38430c8-fe27-49d7-8a09-25359ba87d33",
   "metadata": {},
   "source": [
    "**Mean and Standard Deviation**"
   ]
  },
  {
   "cell_type": "markdown",
   "id": "261749e6-1aed-48c1-a830-6956be340564",
   "metadata": {},
   "source": [
    "When a measurement is repeated several times, the measured values are grouped around some central value. This grouping or distribution can be described with **mean** and **standard deviation**. \n",
    "The *mean* measures the central value, and the *standard deviation* describes the spread or deviation of the measured values from the mean. <br>\n",
    "Then, the experimental measurement can be expressed as\n",
    "<center>$x = <x> \\pm \\sigma_{x}$</center>"
   ]
  },
  {
   "cell_type": "code",
   "execution_count": 7,
   "id": "59faf520-2599-4c9f-bfe0-a20ddaca5a13",
   "metadata": {},
   "outputs": [],
   "source": [
    "x = np.array([2.3, 3.2, 2.3, 4.2, 2.1, 2.5, 3.3, 1.3, 5.2, 3.1])\n",
    "x_mean = np.mean(x)\n",
    "x_std = np.std(x)"
   ]
  },
  {
   "cell_type": "code",
   "execution_count": 8,
   "id": "86d254f6-b289-4a18-9836-3ef8ed202f55",
   "metadata": {},
   "outputs": [
    {
     "name": "stdout",
     "output_type": "stream",
     "text": [
      "[2.3 3.2 2.3 4.2 2.1 2.5 3.3 1.3 5.2 3.1]\n",
      "2.95\n",
      "1.0641898326896382\n"
     ]
    }
   ],
   "source": [
    "print (x)\n",
    "print (x_mean)\n",
    "print (x_std)"
   ]
  },
  {
   "cell_type": "code",
   "execution_count": 9,
   "id": "655f9966-d264-43b5-8d86-fd6037878509",
   "metadata": {},
   "outputs": [],
   "source": [
    "y = np.array([2.8, 2.7, 3.1, 2.9, 3.0, 3.1, 2.9, 3.1, 3.0, 2.9])\n",
    "y_mean = np.mean(y)\n",
    "y_std = np.std(y)"
   ]
  },
  {
   "cell_type": "code",
   "execution_count": 10,
   "id": "b102e3be-fa71-4665-be0a-025ceeeb85e3",
   "metadata": {},
   "outputs": [
    {
     "name": "stdout",
     "output_type": "stream",
     "text": [
      "[2.8 2.7 3.1 2.9 3.  3.1 2.9 3.1 3.  2.9]\n",
      "2.95\n",
      "0.12845232578665133\n"
     ]
    }
   ],
   "source": [
    "print (y)\n",
    "print (y_mean)\n",
    "print (y_std)"
   ]
  },
  {
   "cell_type": "code",
   "execution_count": 11,
   "id": "3f5febf5-de98-42c1-b4ad-47cd0ca040f0",
   "metadata": {},
   "outputs": [],
   "source": [
    "from matplotlib import pyplot"
   ]
  },
  {
   "cell_type": "code",
   "execution_count": 12,
   "id": "b70e1eeb-6323-47d1-8d8e-7512f61bc08e",
   "metadata": {},
   "outputs": [
    {
     "data": {
      "text/plain": [
       "[<matplotlib.lines.Line2D at 0x25958514940>]"
      ]
     },
     "execution_count": 12,
     "metadata": {},
     "output_type": "execute_result"
    },
    {
     "data": {
      "image/png": "[encoded data removed]",
      "text/plain": [
       "<Figure size 432x288 with 1 Axes>"
      ]
     },
     "metadata": {
      "needs_background": "light"
     },
     "output_type": "display_data"
    }
   ],
   "source": [
    "pyplot.plot(x)\n",
    "pyplot.plot(y)"
   ]
  },
  {
   "cell_type": "code",
   "execution_count": null,
   "id": "40813940-3948-40c1-95e8-761641ae6580",
   "metadata": {},
   "outputs": [],
   "source": []
  }
 ],
 "metadata": {
  "kernelspec": {
   "display_name": "Python 3",
   "language": "python",
   "name": "python3"
  },
  "language_info": {
   "codemirror_mode": {
    "name": "ipython",
    "version": 3
   },
   "file_extension": ".py",
   "mimetype": "text/x-python",
   "name": "python",
   "nbconvert_exporter": "python",
   "pygments_lexer": "ipython3",
   "version": "3.8.8"
  }
 },
 "nbformat": 4,
 "nbformat_minor": 5
}
