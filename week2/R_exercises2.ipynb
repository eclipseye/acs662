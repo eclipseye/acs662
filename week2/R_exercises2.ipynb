{
 "cells": [
  {
   "cell_type": "markdown",
   "id": "526f4cc3-8fa7-4038-b316-d9e6f756841b",
   "metadata": {
    "tags": []
   },
   "source": [
    "## **Relativistic Factor Calculations**"
   ]
  },
  {
   "cell_type": "markdown",
   "id": "c0483136-4fac-4637-a827-485ef3092c4f",
   "metadata": {},
   "source": [
    "For a given kinetic energy, $T$, the relativistic factor, $\\gamma$ can be calculated\n",
    "<center>$E = \\gamma mc^{c} = E_{0} + T = mc^{2} + T$</center>\n",
    "<center>$\\gamma = 1 + \\frac{T}{mc^{c}}$</center>\n",
    "where $E_{0}$ is the rest energy and $c$ is the speed of light, and $m$ is the mass of the particle."
   ]
  },
  {
   "cell_type": "markdown",
   "id": "a4ad4f63-a3d1-43cf-ab02-df6d3e06f8df",
   "metadata": {},
   "source": [
    "The relativistic factor can be also defined as\n",
    "<center>$\\gamma = \\frac{1}{\\sqrt{1 - \\beta^{2}}}.$</center>"
   ]
  },
  {
   "cell_type": "markdown",
   "id": "f452323f-b1a2-4438-acd5-d2f0b9df8bd3",
   "metadata": {},
   "source": [
    "Particle's energy can be expressed alternatively with momentum, $p$ as\n",
    "<center>$E^{2} = E_{0}^{2} + (pc)^{2}.$</center>"
   ]
  },
  {
   "cell_type": "code",
   "execution_count": 1,
   "id": "34a02acc-e4cc-4050-90e3-82cca7e55648",
   "metadata": {},
   "outputs": [],
   "source": [
    "source('basis.r')"
   ]
  },
  {
   "cell_type": "code",
   "execution_count": 2,
   "id": "f4ce3582-a6ae-4d9c-9a0f-88c475838100",
   "metadata": {},
   "outputs": [],
   "source": [
    "T=3.0 #kinetic energy 3.0 MeV"
   ]
  },
  {
   "cell_type": "code",
   "execution_count": 3,
   "id": "8932ebe4-b9b1-438e-98de-20f015bea2d6",
   "metadata": {},
   "outputs": [
    {
     "name": "stdout",
     "output_type": "stream",
     "text": [
      "[1] 1.003197\n"
     ]
    }
   ],
   "source": [
    "gamma <- get_gamma(t=T)\n",
    "print (gamma)"
   ]
  },
  {
   "cell_type": "code",
   "execution_count": 4,
   "id": "82cdf6e9-68a8-4eeb-8a0e-5e21d9c5577f",
   "metadata": {},
   "outputs": [
    {
     "name": "stdout",
     "output_type": "stream",
     "text": [
      "[1] 0.0797759\n"
     ]
    }
   ],
   "source": [
    "beta <- get_beta(t=T)\n",
    "print (beta)"
   ]
  },
  {
   "cell_type": "code",
   "execution_count": 5,
   "id": "50734152-843b-4996-9d16-e42a427f9b9e",
   "metadata": {},
   "outputs": [
    {
     "name": "stdout",
     "output_type": "stream",
     "text": [
      "[1] 75.09083\n"
     ]
    }
   ],
   "source": [
    "momentum <- get_momentum(gamma=gamma)\n",
    "print (momentum)"
   ]
  },
  {
   "cell_type": "code",
   "execution_count": 6,
   "id": "8a6df864-18a0-4f7e-b848-2fd433632850",
   "metadata": {},
   "outputs": [
    {
     "data": {
      "text/html": [
       "3.0000000000001"
      ],
      "text/latex": [
       "3.0000000000001"
      ],
      "text/markdown": [
       "3.0000000000001"
      ],
      "text/plain": [
       "[1] 3"
      ]
     },
     "metadata": {},
     "output_type": "display_data"
    }
   ],
   "source": [
    "get_kinetic_energy(gamma=gamma)"
   ]
  },
  {
   "cell_type": "code",
   "execution_count": 7,
   "id": "263b307a-5aef-4ee1-9772-8a27aaec53b5",
   "metadata": {},
   "outputs": [
    {
     "data": {
      "text/html": [
       "3.0000000000001"
      ],
      "text/latex": [
       "3.0000000000001"
      ],
      "text/markdown": [
       "3.0000000000001"
      ],
      "text/plain": [
       "[1] 3"
      ]
     },
     "metadata": {},
     "output_type": "display_data"
    }
   ],
   "source": [
    "get_kinetic_energy(beta=beta)"
   ]
  },
  {
   "cell_type": "code",
   "execution_count": null,
   "id": "41158543-8014-4963-b888-56693f56fe4b",
   "metadata": {},
   "outputs": [],
   "source": []
  }
 ],
 "metadata": {
  "kernelspec": {
   "display_name": "R",
   "language": "R",
   "name": "ir"
  },
  "language_info": {
   "codemirror_mode": "r",
   "file_extension": ".r",
   "mimetype": "text/x-r-source",
   "name": "R",
   "pygments_lexer": "r",
   "version": "4.1.1"
  }
 },
 "nbformat": 4,
 "nbformat_minor": 5
}
