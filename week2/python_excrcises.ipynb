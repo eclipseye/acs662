{
 "cells": [
  {
   "cell_type": "markdown",
   "id": "20da9f8c-5d91-4fc7-b968-2da894fff345",
   "metadata": {},
   "source": [
    "## **Arithmetic**"
   ]
  },
  {
   "cell_type": "code",
   "execution_count": 1,
   "id": "7b661fa9-ff83-4655-896c-9015ef17cf12",
   "metadata": {
    "tags": []
   },
   "outputs": [
    {
     "data": {
      "text/plain": [
       "7"
      ]
     },
     "execution_count": 1,
     "metadata": {},
     "output_type": "execute_result"
    }
   ],
   "source": [
    "3 + 4"
   ]
  },
  {
   "cell_type": "code",
   "execution_count": 2,
   "id": "8d241cd5-cdcb-4e7f-a058-17a0cbc82203",
   "metadata": {
    "tags": []
   },
   "outputs": [
    {
     "data": {
      "text/plain": [
       "-1"
      ]
     },
     "execution_count": 2,
     "metadata": {},
     "output_type": "execute_result"
    }
   ],
   "source": [
    "3 - 4"
   ]
  },
  {
   "cell_type": "code",
   "execution_count": 3,
   "id": "d6dcb4b9-1576-46a1-9cde-ed99a0007adf",
   "metadata": {
    "tags": []
   },
   "outputs": [
    {
     "data": {
      "text/plain": [
       "12"
      ]
     },
     "execution_count": 3,
     "metadata": {},
     "output_type": "execute_result"
    }
   ],
   "source": [
    "3 * 4"
   ]
  },
  {
   "cell_type": "code",
   "execution_count": 4,
   "id": "c0e45841-a9f2-49c7-909d-0a0a5f87863a",
   "metadata": {
    "tags": []
   },
   "outputs": [
    {
     "data": {
      "text/plain": [
       "0.75"
      ]
     },
     "execution_count": 4,
     "metadata": {},
     "output_type": "execute_result"
    }
   ],
   "source": [
    "3 / 4"
   ]
  },
  {
   "cell_type": "code",
   "execution_count": 5,
   "id": "9dc37164-37d9-4bea-8f61-6c509076348c",
   "metadata": {},
   "outputs": [
    {
     "data": {
      "text/plain": [
       "-20.0"
      ]
     },
     "execution_count": 5,
     "metadata": {},
     "output_type": "execute_result"
    }
   ],
   "source": [
    "(2 + 3) * 4 / (2 - 3)"
   ]
  },
  {
   "cell_type": "markdown",
   "id": "55f11225-0cae-4dac-96ff-f90a714937d4",
   "metadata": {
    "tags": []
   },
   "source": [
    "## **Variables and Assignments**"
   ]
  },
  {
   "cell_type": "code",
   "execution_count": 6,
   "id": "65bd6e2c-012a-4f04-a22b-ee1afac8535c",
   "metadata": {
    "tags": []
   },
   "outputs": [],
   "source": [
    "a = 3\n",
    "b = 4\n",
    "c = 3.0\n",
    "d = 3 + 2j\n",
    "e = \"string\""
   ]
  },
  {
   "cell_type": "code",
   "execution_count": 7,
   "id": "2caff1ac-8ba6-4361-a283-aac217868e54",
   "metadata": {
    "tags": []
   },
   "outputs": [
    {
     "name": "stdout",
     "output_type": "stream",
     "text": [
      "3\n",
      "3 4 3.0\n",
      "(3+2j)\n",
      "string\n"
     ]
    }
   ],
   "source": [
    "print (a)\n",
    "print (a, b, c)\n",
    "print (d)\n",
    "print (e)"
   ]
  },
  {
   "cell_type": "code",
   "execution_count": 8,
   "id": "d9be14cf-ee5a-4e9c-a098-3257303a535a",
   "metadata": {
    "tags": []
   },
   "outputs": [
    {
     "name": "stdout",
     "output_type": "stream",
     "text": [
      "7\n",
      "-1\n",
      "12\n",
      "0.75\n"
     ]
    }
   ],
   "source": [
    "print (a + b)\n",
    "print (a - b)\n",
    "print (a * b)\n",
    "print (a / b)"
   ]
  },
  {
   "cell_type": "markdown",
   "id": "afdd354c-e801-43dc-ac8a-a6190f4cb602",
   "metadata": {
    "tags": []
   },
   "source": [
    "## **Logical Expression**"
   ]
  },
  {
   "cell_type": "code",
   "execution_count": 9,
   "id": "9b8d8444-36a1-4c69-8a22-44d2a5c54480",
   "metadata": {},
   "outputs": [],
   "source": [
    "a = 3\n",
    "b = -3\n",
    "c = 3"
   ]
  },
  {
   "cell_type": "code",
   "execution_count": 10,
   "id": "0c9ff97f-ffa1-48f6-a5d3-ebdbd88cbc02",
   "metadata": {},
   "outputs": [
    {
     "data": {
      "text/plain": [
       "False"
      ]
     },
     "execution_count": 10,
     "metadata": {},
     "output_type": "execute_result"
    }
   ],
   "source": [
    "a == b"
   ]
  },
  {
   "cell_type": "code",
   "execution_count": 11,
   "id": "8a358c6f-aaba-4cee-8b19-b74a0a2caf38",
   "metadata": {},
   "outputs": [
    {
     "data": {
      "text/plain": [
       "True"
      ]
     },
     "execution_count": 11,
     "metadata": {},
     "output_type": "execute_result"
    }
   ],
   "source": [
    " a != b"
   ]
  },
  {
   "cell_type": "code",
   "execution_count": 12,
   "id": "ffc8b74c-00a6-4c5e-be38-a81ef1369278",
   "metadata": {},
   "outputs": [
    {
     "data": {
      "text/plain": [
       "True"
      ]
     },
     "execution_count": 12,
     "metadata": {},
     "output_type": "execute_result"
    }
   ],
   "source": [
    "a > b"
   ]
  },
  {
   "cell_type": "code",
   "execution_count": 13,
   "id": "d37b43bb-6b17-44af-8f71-dd4d12ad918b",
   "metadata": {},
   "outputs": [
    {
     "data": {
      "text/plain": [
       "False"
      ]
     },
     "execution_count": 13,
     "metadata": {},
     "output_type": "execute_result"
    }
   ],
   "source": [
    "a < b"
   ]
  },
  {
   "cell_type": "code",
   "execution_count": 14,
   "id": "f3d844e2-057c-4443-aaa4-50aa79bf7117",
   "metadata": {},
   "outputs": [
    {
     "data": {
      "text/plain": [
       "False"
      ]
     },
     "execution_count": 14,
     "metadata": {},
     "output_type": "execute_result"
    }
   ],
   "source": [
    "a <= b"
   ]
  },
  {
   "cell_type": "code",
   "execution_count": 15,
   "id": "1291b656-271a-43a4-bd1f-cf30c9cd1d27",
   "metadata": {},
   "outputs": [
    {
     "data": {
      "text/plain": [
       "True"
      ]
     },
     "execution_count": 15,
     "metadata": {},
     "output_type": "execute_result"
    }
   ],
   "source": [
    "(a == b) or (a > b)"
   ]
  },
  {
   "cell_type": "code",
   "execution_count": 16,
   "id": "0ab0726e-8fc7-4f1a-84a0-6ac397c67225",
   "metadata": {},
   "outputs": [
    {
     "data": {
      "text/plain": [
       "False"
      ]
     },
     "execution_count": 16,
     "metadata": {},
     "output_type": "execute_result"
    }
   ],
   "source": [
    "(a !=b) and (a < b)"
   ]
  },
  {
   "cell_type": "markdown",
   "id": "422acef9-a703-4dd4-9fba-56282ebc6edc",
   "metadata": {
    "tags": []
   },
   "source": [
    "## **Lists and Tuples**"
   ]
  },
  {
   "cell_type": "markdown",
   "id": "23f7cfbf-82ef-498f-9c91-be90760a5f43",
   "metadata": {
    "tags": []
   },
   "source": [
    "Python has two data structures, lists and tuples, that consist of a list of one or more elements. The elements of lists or tuples can be numbers or strings, or both. "
   ]
  },
  {
   "cell_type": "markdown",
   "id": "4d17c021-5f17-401b-a6bb-5c45fb0f60f6",
   "metadata": {
    "tags": []
   },
   "source": [
    "Lists are defined by a pair of square brackets on either end with individual elements separated by commas"
   ]
  },
  {
   "cell_type": "code",
   "execution_count": 17,
   "id": "cfa4b603-85d1-404c-81a3-7f45d0f3ef22",
   "metadata": {
    "tags": []
   },
   "outputs": [
    {
     "name": "stdout",
     "output_type": "stream",
     "text": [
      "[1, 2, 3] ['a', 'b', 'c'] [1, 2, 3, 'a', 'b', 'c']\n"
     ]
    }
   ],
   "source": [
    "al = [1, 2, 3]\n",
    "bl = [\"a\", \"b\", 'c']\n",
    "cl = [1, 2, 3, \"a\", \"b\", 'c']\n",
    "print (al, bl, cl)"
   ]
  },
  {
   "cell_type": "markdown",
   "id": "c44b7cbb-4c96-4c92-abb4-5674ace88742",
   "metadata": {
    "tags": []
   },
   "source": [
    "Tuples are lists that are immutable. That is, once defined, the individual elements of a tuple cannot be changed. Whereas a list is written as a sequence of numbers enclosed in square brackets, a tuple is written as a sequence of numbers enclosed in round parentheses."
   ]
  },
  {
   "cell_type": "code",
   "execution_count": 18,
   "id": "c8369078-ee92-4eac-bab9-f8c49fe0d27a",
   "metadata": {
    "tags": []
   },
   "outputs": [
    {
     "name": "stdout",
     "output_type": "stream",
     "text": [
      "(1, 2, 3) ('a', 'b', 'c') (1, 2, 3, 'a', 'b', 'c')\n"
     ]
    }
   ],
   "source": [
    "at = (1, 2, 3)\n",
    "bt = (\"a\", \"b\", 'c')\n",
    "ct = (1, 2, 3, \"a\", \"b\", 'c')\n",
    "print (at, bt, ct)"
   ]
  },
  {
   "cell_type": "code",
   "execution_count": 19,
   "id": "412f5253-a15f-4f86-b890-02b3d2c2dab0",
   "metadata": {
    "tags": []
   },
   "outputs": [
    {
     "name": "stdout",
     "output_type": "stream",
     "text": [
      "1\n"
     ]
    }
   ],
   "source": [
    "print (al[0])"
   ]
  },
  {
   "cell_type": "code",
   "execution_count": 20,
   "id": "13f0bef5-00f2-4fba-859b-814a6de61471",
   "metadata": {
    "tags": []
   },
   "outputs": [
    {
     "name": "stdout",
     "output_type": "stream",
     "text": [
      "1\n"
     ]
    }
   ],
   "source": [
    "print (at[0])"
   ]
  },
  {
   "cell_type": "code",
   "execution_count": 21,
   "id": "94a32325-39f2-4c01-a443-ed813007f60e",
   "metadata": {
    "tags": []
   },
   "outputs": [
    {
     "name": "stdout",
     "output_type": "stream",
     "text": [
      "[5, 2, 3]\n"
     ]
    }
   ],
   "source": [
    "al[0] = 5\n",
    "print (al)"
   ]
  },
  {
   "cell_type": "code",
   "execution_count": 22,
   "id": "565e37f3-01f1-4820-b65a-e84504177b7d",
   "metadata": {
    "tags": []
   },
   "outputs": [
    {
     "ename": "TypeError",
     "evalue": "'tuple' object does not support item assignment",
     "output_type": "error",
     "traceback": [
      "\u001b[1;31m---------------------------------------------------------------------------\u001b[0m",
      "\u001b[1;31mTypeError\u001b[0m                                 Traceback (most recent call last)",
      "\u001b[1;32m~\\AppData\\Local\\Temp/ipykernel_13000/1839213990.py\u001b[0m in \u001b[0;36m<module>\u001b[1;34m\u001b[0m\n\u001b[1;32m----> 1\u001b[1;33m \u001b[0mat\u001b[0m\u001b[1;33m[\u001b[0m\u001b[1;36m0\u001b[0m\u001b[1;33m]\u001b[0m \u001b[1;33m=\u001b[0m \u001b[1;36m5\u001b[0m\u001b[1;33m\u001b[0m\u001b[1;33m\u001b[0m\u001b[0m\n\u001b[0m",
      "\u001b[1;31mTypeError\u001b[0m: 'tuple' object does not support item assignment"
     ]
    }
   ],
   "source": [
    "at[0] = 5"
   ]
  },
  {
   "cell_type": "code",
   "execution_count": 23,
   "id": "58972ac8-0fa1-4f69-9fe3-6811c05dbace",
   "metadata": {
    "tags": []
   },
   "outputs": [
    {
     "ename": "TypeError",
     "evalue": "can only concatenate list (not \"int\") to list",
     "output_type": "error",
     "traceback": [
      "\u001b[1;31m---------------------------------------------------------------------------\u001b[0m",
      "\u001b[1;31mTypeError\u001b[0m                                 Traceback (most recent call last)",
      "\u001b[1;32m~\\AppData\\Local\\Temp/ipykernel_13000/97202.py\u001b[0m in \u001b[0;36m<module>\u001b[1;34m\u001b[0m\n\u001b[1;32m----> 1\u001b[1;33m \u001b[0mal\u001b[0m \u001b[1;33m+\u001b[0m \u001b[1;36m2\u001b[0m\u001b[1;33m\u001b[0m\u001b[1;33m\u001b[0m\u001b[0m\n\u001b[0m\u001b[0;32m      2\u001b[0m \u001b[0mal\u001b[0m \u001b[1;33m*\u001b[0m \u001b[1;36m2.\u001b[0m\u001b[1;33m\u001b[0m\u001b[1;33m\u001b[0m\u001b[0m\n",
      "\u001b[1;31mTypeError\u001b[0m: can only concatenate list (not \"int\") to list"
     ]
    }
   ],
   "source": [
    "al + 2\n",
    "al * 2."
   ]
  },
  {
   "cell_type": "code",
   "execution_count": 24,
   "id": "b5fe5871-87b8-4433-9c4d-71328c698c10",
   "metadata": {
    "tags": []
   },
   "outputs": [
    {
     "ename": "TypeError",
     "evalue": "unsupported operand type(s) for /: 'tuple' and 'int'",
     "output_type": "error",
     "traceback": [
      "\u001b[1;31m---------------------------------------------------------------------------\u001b[0m",
      "\u001b[1;31mTypeError\u001b[0m                                 Traceback (most recent call last)",
      "\u001b[1;32m~\\AppData\\Local\\Temp/ipykernel_13000/2734087353.py\u001b[0m in \u001b[0;36m<module>\u001b[1;34m\u001b[0m\n\u001b[1;32m----> 1\u001b[1;33m \u001b[0mat\u001b[0m \u001b[1;33m/\u001b[0m \u001b[1;36m2\u001b[0m\u001b[1;33m\u001b[0m\u001b[1;33m\u001b[0m\u001b[0m\n\u001b[0m",
      "\u001b[1;31mTypeError\u001b[0m: unsupported operand type(s) for /: 'tuple' and 'int'"
     ]
    }
   ],
   "source": [
    "at / 2"
   ]
  },
  {
   "cell_type": "markdown",
   "id": "b2a85d2d-bbe0-42ce-8899-c49e82c5a716",
   "metadata": {},
   "source": [
    "## **Arrays**"
   ]
  },
  {
   "cell_type": "markdown",
   "id": "a887c3dd-5897-403f-9f5e-446774af8c20",
   "metadata": {},
   "source": [
    "Python does not have built-in support for Arrays, but Python Lists can be used instead."
   ]
  },
  {
   "cell_type": "code",
   "execution_count": 25,
   "id": "8475b6c0-131e-45ee-ad41-bf2d31810d27",
   "metadata": {},
   "outputs": [
    {
     "name": "stdout",
     "output_type": "stream",
     "text": [
      "[[1, 2, 3], [4, 5, 6], [7, 8, 9]]\n"
     ]
    }
   ],
   "source": [
    "aa = [[1, 2, 3], [4, 5, 6], [7, 8, 9]]\n",
    "print (aa)"
   ]
  },
  {
   "cell_type": "code",
   "execution_count": 26,
   "id": "6c8ef438-3586-48fb-9c68-7f99831840cf",
   "metadata": {},
   "outputs": [
    {
     "data": {
      "text/plain": [
       "[1, 2, 3]"
      ]
     },
     "execution_count": 26,
     "metadata": {},
     "output_type": "execute_result"
    }
   ],
   "source": [
    "aa[0]"
   ]
  },
  {
   "cell_type": "code",
   "execution_count": 27,
   "id": "7aa8a380-8466-407b-887d-c68667c0acf7",
   "metadata": {},
   "outputs": [
    {
     "data": {
      "text/plain": [
       "2"
      ]
     },
     "execution_count": 27,
     "metadata": {},
     "output_type": "execute_result"
    }
   ],
   "source": [
    "aa[0][1]"
   ]
  },
  {
   "cell_type": "markdown",
   "id": "002808be-a9a8-4081-805d-1b00ffa9bfac",
   "metadata": {},
   "source": [
    "The NumPy array is the real workhorse of data structures for scientific and engineering applications. The NumPy array is similar to a list but where all the elements of the list are of the same type. The elements of a NumPy array, or simply an array, are usually numbers, but can also be booleans, strings, or other objects."
   ]
  },
  {
   "cell_type": "code",
   "execution_count": 28,
   "id": "bfe24649-d103-4358-8011-c081a92f6d0e",
   "metadata": {},
   "outputs": [
    {
     "ename": "NameError",
     "evalue": "name 'array' is not defined",
     "output_type": "error",
     "traceback": [
      "\u001b[1;31m---------------------------------------------------------------------------\u001b[0m",
      "\u001b[1;31mNameError\u001b[0m                                 Traceback (most recent call last)",
      "\u001b[1;32m~\\AppData\\Local\\Temp/ipykernel_13000/931713851.py\u001b[0m in \u001b[0;36m<module>\u001b[1;34m\u001b[0m\n\u001b[1;32m----> 1\u001b[1;33m \u001b[0mba\u001b[0m \u001b[1;33m=\u001b[0m \u001b[0marray\u001b[0m\u001b[1;33m(\u001b[0m\u001b[0maa\u001b[0m\u001b[1;33m)\u001b[0m\u001b[1;33m\u001b[0m\u001b[1;33m\u001b[0m\u001b[0m\n\u001b[0m",
      "\u001b[1;31mNameError\u001b[0m: name 'array' is not defined"
     ]
    }
   ],
   "source": [
    "ba = array(aa)"
   ]
  },
  {
   "cell_type": "code",
   "execution_count": 29,
   "id": "4bba6d66-505c-4901-9cb6-29a21367cb55",
   "metadata": {},
   "outputs": [],
   "source": [
    "import numpy as np\n",
    "ba = np.array(aa)"
   ]
  },
  {
   "cell_type": "code",
   "execution_count": 30,
   "id": "f0f1bc4b-1331-435c-ade4-5f167f23427e",
   "metadata": {},
   "outputs": [
    {
     "data": {
      "text/plain": [
       "array([[1, 2, 3],\n",
       "       [4, 5, 6],\n",
       "       [7, 8, 9]])"
      ]
     },
     "execution_count": 30,
     "metadata": {},
     "output_type": "execute_result"
    }
   ],
   "source": [
    "ba"
   ]
  },
  {
   "cell_type": "code",
   "execution_count": 31,
   "id": "60bfd395-1482-4d44-b986-3b89cb342e54",
   "metadata": {},
   "outputs": [
    {
     "name": "stdout",
     "output_type": "stream",
     "text": [
      "[[1 2 3]\n",
      " [4 5 6]\n",
      " [7 8 9]]\n"
     ]
    }
   ],
   "source": [
    "print (ba)"
   ]
  },
  {
   "cell_type": "code",
   "execution_count": 32,
   "id": "72254636-a0bf-4ebb-a84e-ca0e1aee5c21",
   "metadata": {},
   "outputs": [
    {
     "name": "stdout",
     "output_type": "stream",
     "text": [
      "3\n",
      "(3, 3)\n"
     ]
    }
   ],
   "source": [
    "print (len(aa))\n",
    "print (ba.shape)"
   ]
  },
  {
   "cell_type": "markdown",
   "id": "db649ac1-7591-424b-b428-9465ee5a9e74",
   "metadata": {},
   "source": [
    "Mathematical operations with arrays"
   ]
  },
  {
   "cell_type": "code",
   "execution_count": 33,
   "id": "81f1b516-37e2-4a6a-b29c-0710c518339f",
   "metadata": {},
   "outputs": [
    {
     "data": {
      "text/plain": [
       "array([[ 3,  4,  5],\n",
       "       [ 6,  7,  8],\n",
       "       [ 9, 10, 11]])"
      ]
     },
     "execution_count": 33,
     "metadata": {},
     "output_type": "execute_result"
    }
   ],
   "source": [
    "ba + 2"
   ]
  },
  {
   "cell_type": "code",
   "execution_count": 34,
   "id": "48348605-393f-4dd5-96bd-343c7d76b5b3",
   "metadata": {},
   "outputs": [
    {
     "data": {
      "text/plain": [
       "array([[-1,  0,  1],\n",
       "       [ 2,  3,  4],\n",
       "       [ 5,  6,  7]])"
      ]
     },
     "execution_count": 34,
     "metadata": {},
     "output_type": "execute_result"
    }
   ],
   "source": [
    "ba - 2"
   ]
  },
  {
   "cell_type": "code",
   "execution_count": 35,
   "id": "e4a705bb-aa8f-43f6-a3a1-cef9ca20c76e",
   "metadata": {},
   "outputs": [
    {
     "data": {
      "text/plain": [
       "array([[ 2,  4,  6],\n",
       "       [ 8, 10, 12],\n",
       "       [14, 16, 18]])"
      ]
     },
     "execution_count": 35,
     "metadata": {},
     "output_type": "execute_result"
    }
   ],
   "source": [
    "ba * 2"
   ]
  },
  {
   "cell_type": "code",
   "execution_count": 36,
   "id": "dab06384-d7c0-441c-8c0a-2effafb2e1bd",
   "metadata": {},
   "outputs": [
    {
     "data": {
      "text/plain": [
       "array([[0.5, 1. , 1.5],\n",
       "       [2. , 2.5, 3. ],\n",
       "       [3.5, 4. , 4.5]])"
      ]
     },
     "execution_count": 36,
     "metadata": {},
     "output_type": "execute_result"
    }
   ],
   "source": [
    "ba / 2"
   ]
  },
  {
   "cell_type": "markdown",
   "id": "65be6906-b264-4a4e-94e2-4aff469e6f3e",
   "metadata": {},
   "source": [
    "## **Dictionary**"
   ]
  },
  {
   "cell_type": "markdown",
   "id": "929bfc60-fab0-4582-b7cb-4a5118da00fb",
   "metadata": {},
   "source": [
    "A Dictionary can be created by placing a sequence of elements within curly {} braces, separated by ‘comma’. Dictionary holds a pair of values, one being the Key and the other corresponding pair element being its Key:value. Values in a dictionary can be of any data type and can be duplicated, whereas keys can’t be repeated and must be immutable."
   ]
  },
  {
   "cell_type": "code",
   "execution_count": 37,
   "id": "6193efaf-ae3c-421b-8c5b-737da7841cd1",
   "metadata": {},
   "outputs": [
    {
     "name": "stdout",
     "output_type": "stream",
     "text": [
      "{'a': 2, 'b': 3, 'c': 4}\n"
     ]
    }
   ],
   "source": [
    "dic1 = {\"a\": 2, \"b\": 3, \"c\": 4}\n",
    "print (dic1)"
   ]
  },
  {
   "cell_type": "code",
   "execution_count": 38,
   "id": "40944680-8e9a-4b9b-82eb-daf3192517f6",
   "metadata": {},
   "outputs": [
    {
     "data": {
      "text/plain": [
       "2"
      ]
     },
     "execution_count": 38,
     "metadata": {},
     "output_type": "execute_result"
    }
   ],
   "source": [
    "dic1[\"a\"]"
   ]
  },
  {
   "cell_type": "code",
   "execution_count": 39,
   "id": "a083d8a0-7633-4018-abb3-dfdb6886f6cd",
   "metadata": {},
   "outputs": [
    {
     "ename": "KeyError",
     "evalue": "0",
     "output_type": "error",
     "traceback": [
      "\u001b[1;31m---------------------------------------------------------------------------\u001b[0m",
      "\u001b[1;31mKeyError\u001b[0m                                  Traceback (most recent call last)",
      "\u001b[1;32m~\\AppData\\Local\\Temp/ipykernel_13000/2722651711.py\u001b[0m in \u001b[0;36m<module>\u001b[1;34m\u001b[0m\n\u001b[1;32m----> 1\u001b[1;33m \u001b[0mdic1\u001b[0m\u001b[1;33m[\u001b[0m\u001b[1;36m0\u001b[0m\u001b[1;33m]\u001b[0m\u001b[1;33m\u001b[0m\u001b[1;33m\u001b[0m\u001b[0m\n\u001b[0m",
      "\u001b[1;31mKeyError\u001b[0m: 0"
     ]
    }
   ],
   "source": [
    "dic1[0]"
   ]
  },
  {
   "cell_type": "code",
   "execution_count": 48,
   "id": "376be577-4acf-4f18-b46a-ab5714c41641",
   "metadata": {},
   "outputs": [
    {
     "ename": "TypeError",
     "evalue": "'int' object is not subscriptable",
     "output_type": "error",
     "traceback": [
      "\u001b[1;31m---------------------------------------------------------------------------\u001b[0m",
      "\u001b[1;31mTypeError\u001b[0m                                 Traceback (most recent call last)",
      "\u001b[1;32m~\\AppData\\Local\\Temp/ipykernel_13000/1616485650.py\u001b[0m in \u001b[0;36m<module>\u001b[1;34m\u001b[0m\n\u001b[1;32m----> 1\u001b[1;33m \u001b[0mdic1\u001b[0m\u001b[1;33m[\u001b[0m\u001b[1;34m\"a\"\u001b[0m\u001b[1;33m]\u001b[0m\u001b[1;33m[\u001b[0m\u001b[1;36m0\u001b[0m\u001b[1;33m]\u001b[0m\u001b[1;33m\u001b[0m\u001b[1;33m\u001b[0m\u001b[0m\n\u001b[0m",
      "\u001b[1;31mTypeError\u001b[0m: 'int' object is not subscriptable"
     ]
    }
   ],
   "source": [
    "dic1[\"a\"][0]"
   ]
  },
  {
   "cell_type": "code",
   "execution_count": 43,
   "id": "104e6fdb-78e4-4011-bd08-cae20f73501f",
   "metadata": {},
   "outputs": [
    {
     "data": {
      "text/plain": [
       "4"
      ]
     },
     "execution_count": 43,
     "metadata": {},
     "output_type": "execute_result"
    }
   ],
   "source": [
    "dic1['c']"
   ]
  },
  {
   "cell_type": "code",
   "execution_count": 44,
   "id": "0af488c6-bb93-470b-887a-e3f213f5abc9",
   "metadata": {},
   "outputs": [
    {
     "name": "stdout",
     "output_type": "stream",
     "text": [
      "{'col1': [1, 2], 'col2': (3, 4, 5), 'col3': ['a', 'b'], 'col4': 5, 'col5': 5.0, 'col6': 'last'}\n"
     ]
    }
   ],
   "source": [
    "dic2 = {\"col1\": [1,2], \"col2\": (3, 4, 5), \"col3\": [\"a\", \"b\"], \"col4\": 5, \"col5\": 5., \"col6\": \"last\"}\n",
    "print (dic2)"
   ]
  },
  {
   "cell_type": "code",
   "execution_count": 45,
   "id": "b677939e-005f-411e-9173-0e0ea367a364",
   "metadata": {},
   "outputs": [
    {
     "name": "stdout",
     "output_type": "stream",
     "text": [
      "<class 'list'>\n",
      "<class 'tuple'>\n",
      "<class 'list'>\n",
      "<class 'int'>\n",
      "<class 'float'>\n",
      "<class 'str'>\n"
     ]
    }
   ],
   "source": [
    "print (type(dic2[\"col1\"]))\n",
    "print (type(dic2[\"col2\"]))\n",
    "print (type(dic2[\"col3\"]))\n",
    "print (type(dic2[\"col4\"]))\n",
    "print (type(dic2[\"col5\"]))\n",
    "print (type(dic2[\"col6\"]))"
   ]
  },
  {
   "cell_type": "code",
   "execution_count": 46,
   "id": "a9118b39-8c7d-40ea-b3d0-adc897b945b7",
   "metadata": {},
   "outputs": [
    {
     "name": "stdout",
     "output_type": "stream",
     "text": [
      "1\n",
      "5\n",
      "b\n"
     ]
    }
   ],
   "source": [
    "print (dic2['col1'][0])\n",
    "print (dic2['col2'][2])\n",
    "print (dic2['col3'][1])"
   ]
  },
  {
   "cell_type": "markdown",
   "id": "536dc848-e8db-4e0a-af0d-4cf7e0ddd2e2",
   "metadata": {},
   "source": [
    "## **Series and Data Frames**"
   ]
  },
  {
   "cell_type": "markdown",
   "id": "a559e597-0b99-4222-b951-582ae5d8d173",
   "metadata": {},
   "source": [
    "Series is a one-dimensional labeled array capable of holding any data type. The axis labels are collectively referred to as the index"
   ]
  },
  {
   "cell_type": "code",
   "execution_count": 49,
   "id": "554e7bad-9b7f-4cb7-a81d-f77c4127e602",
   "metadata": {},
   "outputs": [],
   "source": [
    "import pandas as pd"
   ]
  },
  {
   "cell_type": "code",
   "execution_count": 50,
   "id": "a5f0f70a-04b3-4a33-aa38-9f3a4d44d539",
   "metadata": {},
   "outputs": [
    {
     "name": "stdout",
     "output_type": "stream",
     "text": [
      "{'a': 1, 'b': 2, 'c': 3}\n"
     ]
    }
   ],
   "source": [
    "d1 = {\"a\": 1, \"b\": 2, \"c\": 3}\n",
    "print (d1)"
   ]
  },
  {
   "cell_type": "code",
   "execution_count": 51,
   "id": "49c6c188-9f08-4308-a333-1808f8edc662",
   "metadata": {},
   "outputs": [
    {
     "name": "stdout",
     "output_type": "stream",
     "text": [
      "a    1\n",
      "b    2\n",
      "c    3\n",
      "dtype: int64\n"
     ]
    }
   ],
   "source": [
    "s1 = pd.Series(d1)\n",
    "print (s1)"
   ]
  },
  {
   "cell_type": "code",
   "execution_count": 52,
   "id": "f371e4db-9e97-4275-9640-5cf214060405",
   "metadata": {},
   "outputs": [
    {
     "name": "stdout",
     "output_type": "stream",
     "text": [
      "[1 2 3]\n"
     ]
    }
   ],
   "source": [
    "d2 = np.array([1, 2, 3])\n",
    "print (d2)"
   ]
  },
  {
   "cell_type": "code",
   "execution_count": 53,
   "id": "0f85fd9c-4dee-4922-a1ee-4c9a5c97d68d",
   "metadata": {},
   "outputs": [
    {
     "name": "stdout",
     "output_type": "stream",
     "text": [
      "a    1\n",
      "b    2\n",
      "c    3\n",
      "dtype: int32\n"
     ]
    }
   ],
   "source": [
    "s2 = pd.Series(d2, index=[\"a\", \"b\", \"c\"])\n",
    "print (s2)"
   ]
  },
  {
   "cell_type": "code",
   "execution_count": 54,
   "id": "c39cb72e-0d13-43ea-97fd-3aec119b807e",
   "metadata": {},
   "outputs": [
    {
     "data": {
      "text/plain": [
       "(3,)"
      ]
     },
     "execution_count": 54,
     "metadata": {},
     "output_type": "execute_result"
    }
   ],
   "source": [
    "s1.shape"
   ]
  },
  {
   "cell_type": "code",
   "execution_count": 55,
   "id": "d99ddf28-43d1-4ca2-b015-4ace86603ffd",
   "metadata": {},
   "outputs": [
    {
     "data": {
      "text/plain": [
       "(3,)"
      ]
     },
     "execution_count": 55,
     "metadata": {},
     "output_type": "execute_result"
    }
   ],
   "source": [
    "s2.shape"
   ]
  },
  {
   "cell_type": "code",
   "execution_count": 56,
   "id": "5b2d7c3a-0fa5-41a8-9a03-96f24b3836ec",
   "metadata": {},
   "outputs": [
    {
     "data": {
      "text/plain": [
       "a    True\n",
       "b    True\n",
       "c    True\n",
       "dtype: bool"
      ]
     },
     "execution_count": 56,
     "metadata": {},
     "output_type": "execute_result"
    }
   ],
   "source": [
    "s1 == s2"
   ]
  },
  {
   "cell_type": "markdown",
   "id": "7c9aab1e-1cfa-4d53-86d5-7e22df267fec",
   "metadata": {},
   "source": [
    "Pandas DataFrame is Two-dimensional, size-mutable, potentially heterogeneous tabular data. <br>\n",
    "Data structure also contains labeled axes (rows and columns). Arithmetic operations align on both row and column labels. "
   ]
  },
  {
   "cell_type": "code",
   "execution_count": 57,
   "id": "89da2f8c-5124-41db-838e-eadf2b6c1292",
   "metadata": {},
   "outputs": [
    {
     "name": "stdout",
     "output_type": "stream",
     "text": [
      "{'col1': [1, 2], 'col2': [3, 4]}\n"
     ]
    }
   ],
   "source": [
    "d3 = {'col1': [1, 2], 'col2': [3, 4]}\n",
    "print (d3)"
   ]
  },
  {
   "cell_type": "code",
   "execution_count": 58,
   "id": "92e2e1fd-f36f-4044-a39f-d6fca86de15a",
   "metadata": {},
   "outputs": [
    {
     "name": "stdout",
     "output_type": "stream",
     "text": [
      "   col1  col2\n",
      "0     1     3\n",
      "1     2     4\n"
     ]
    }
   ],
   "source": [
    "df1 = pd.DataFrame(data=d3)\n",
    "print (df1)"
   ]
  },
  {
   "cell_type": "code",
   "execution_count": 59,
   "id": "c2c70a2e-218c-4f75-9a9f-c93870b2f93e",
   "metadata": {},
   "outputs": [
    {
     "name": "stdout",
     "output_type": "stream",
     "text": [
      "[[1. 2. 3.]\n",
      " [4. 5. 6.]\n",
      " [7. 8. 9.]]\n"
     ]
    }
   ],
   "source": [
    "d4 = np.array([[1, 2, 3], [4, 5, 6], [7., 8., 9.]])\n",
    "print (d4)"
   ]
  },
  {
   "cell_type": "code",
   "execution_count": 60,
   "id": "23d668a3-d83c-47c9-954d-e2f4e333215a",
   "metadata": {},
   "outputs": [
    {
     "name": "stdout",
     "output_type": "stream",
     "text": [
      "   col1  col2  col3\n",
      "0   1.0   2.0   3.0\n",
      "1   4.0   5.0   6.0\n",
      "2   7.0   8.0   9.0\n"
     ]
    }
   ],
   "source": [
    "df2 = pd.DataFrame(d4, columns=['col1', 'col2', 'col3'])\n",
    "print (df2)"
   ]
  },
  {
   "cell_type": "code",
   "execution_count": 61,
   "id": "eb45a168-e557-4cf1-b50a-4cd85b66e570",
   "metadata": {},
   "outputs": [
    {
     "name": "stdout",
     "output_type": "stream",
     "text": [
      "0    1\n",
      "1    2\n",
      "Name: col1, dtype: int64\n",
      "0    1.0\n",
      "1    4.0\n",
      "2    7.0\n",
      "Name: col1, dtype: float64\n"
     ]
    }
   ],
   "source": [
    "print (df1['col1'])\n",
    "print (df2['col1'])"
   ]
  },
  {
   "cell_type": "code",
   "execution_count": 62,
   "id": "09e7bec5-fee3-4937-8f3c-677e306e3f0c",
   "metadata": {},
   "outputs": [
    {
     "data": {
      "text/plain": [
       "(2, 2)"
      ]
     },
     "execution_count": 62,
     "metadata": {},
     "output_type": "execute_result"
    }
   ],
   "source": [
    "df1.shape"
   ]
  },
  {
   "cell_type": "code",
   "execution_count": 63,
   "id": "e1d09fb4-fbd4-436d-b91e-9a545489de66",
   "metadata": {},
   "outputs": [
    {
     "data": {
      "text/plain": [
       "(3, 3)"
      ]
     },
     "execution_count": 63,
     "metadata": {},
     "output_type": "execute_result"
    }
   ],
   "source": [
    "df2.shape"
   ]
  },
  {
   "cell_type": "code",
   "execution_count": 64,
   "id": "c2c1cdc2-4283-4a18-aa8c-aca5f76cd99d",
   "metadata": {},
   "outputs": [
    {
     "data": {
      "text/html": [
       "<div>\n",
       "<style scoped>\n",
       "    .dataframe tbody tr th:only-of-type {\n",
       "        vertical-align: middle;\n",
       "    }\n",
       "\n",
       "    .dataframe tbody tr th {\n",
       "        vertical-align: top;\n",
       "    }\n",
       "\n",
       "    .dataframe thead th {\n",
       "        text-align: right;\n",
       "    }\n",
       "</style>\n",
       "<table border=\"1\" class=\"dataframe\">\n",
       "  <thead>\n",
       "    <tr style=\"text-align: right;\">\n",
       "      <th></th>\n",
       "      <th>col1</th>\n",
       "      <th>col2</th>\n",
       "    </tr>\n",
       "  </thead>\n",
       "  <tbody>\n",
       "    <tr>\n",
       "      <th>0</th>\n",
       "      <td>2</td>\n",
       "      <td>4</td>\n",
       "    </tr>\n",
       "    <tr>\n",
       "      <th>1</th>\n",
       "      <td>3</td>\n",
       "      <td>5</td>\n",
       "    </tr>\n",
       "  </tbody>\n",
       "</table>\n",
       "</div>"
      ],
      "text/plain": [
       "   col1  col2\n",
       "0     2     4\n",
       "1     3     5"
      ]
     },
     "execution_count": 64,
     "metadata": {},
     "output_type": "execute_result"
    }
   ],
   "source": [
    "df1 + 1"
   ]
  },
  {
   "cell_type": "code",
   "execution_count": 65,
   "id": "4cb93f74-bca3-4e26-a3bc-54bacaf9146b",
   "metadata": {},
   "outputs": [
    {
     "data": {
      "text/html": [
       "<div>\n",
       "<style scoped>\n",
       "    .dataframe tbody tr th:only-of-type {\n",
       "        vertical-align: middle;\n",
       "    }\n",
       "\n",
       "    .dataframe tbody tr th {\n",
       "        vertical-align: top;\n",
       "    }\n",
       "\n",
       "    .dataframe thead th {\n",
       "        text-align: right;\n",
       "    }\n",
       "</style>\n",
       "<table border=\"1\" class=\"dataframe\">\n",
       "  <thead>\n",
       "    <tr style=\"text-align: right;\">\n",
       "      <th></th>\n",
       "      <th>col1</th>\n",
       "      <th>col2</th>\n",
       "      <th>col3</th>\n",
       "    </tr>\n",
       "  </thead>\n",
       "  <tbody>\n",
       "    <tr>\n",
       "      <th>0</th>\n",
       "      <td>2.0</td>\n",
       "      <td>4.0</td>\n",
       "      <td>6.0</td>\n",
       "    </tr>\n",
       "    <tr>\n",
       "      <th>1</th>\n",
       "      <td>8.0</td>\n",
       "      <td>10.0</td>\n",
       "      <td>12.0</td>\n",
       "    </tr>\n",
       "    <tr>\n",
       "      <th>2</th>\n",
       "      <td>14.0</td>\n",
       "      <td>16.0</td>\n",
       "      <td>18.0</td>\n",
       "    </tr>\n",
       "  </tbody>\n",
       "</table>\n",
       "</div>"
      ],
      "text/plain": [
       "   col1  col2  col3\n",
       "0   2.0   4.0   6.0\n",
       "1   8.0  10.0  12.0\n",
       "2  14.0  16.0  18.0"
      ]
     },
     "execution_count": 65,
     "metadata": {},
     "output_type": "execute_result"
    }
   ],
   "source": [
    "df2 * 2"
   ]
  },
  {
   "cell_type": "markdown",
   "id": "00a1a2d1-3d8b-4577-af3b-d14999a4ea98",
   "metadata": {},
   "source": [
    "## **Functions**"
   ]
  },
  {
   "cell_type": "markdown",
   "id": "a39e1fa4-588d-462e-b4fa-f45a120513e5",
   "metadata": {},
   "source": [
    "A function is a group of related statements that performs a specific task. <br>\n",
    "The Python interpreter has a number of functions and types built into it that are always available."
   ]
  },
  {
   "cell_type": "code",
   "execution_count": 66,
   "id": "729ff580-8020-43c1-939d-3cc2502535ef",
   "metadata": {},
   "outputs": [
    {
     "name": "stdout",
     "output_type": "stream",
     "text": [
      "3 3\n"
     ]
    }
   ],
   "source": [
    "a = -3\n",
    "b = 3\n",
    "print (abs(a), abs(b))"
   ]
  },
  {
   "cell_type": "code",
   "execution_count": 67,
   "id": "7c431e07-d743-4047-a701-ee3ce18506d7",
   "metadata": {},
   "outputs": [
    {
     "data": {
      "text/plain": [
       "3"
      ]
     },
     "execution_count": 67,
     "metadata": {},
     "output_type": "execute_result"
    }
   ],
   "source": [
    "max(a, b)"
   ]
  },
  {
   "cell_type": "code",
   "execution_count": 68,
   "id": "81b7e5a4-aedc-4c1a-8c46-0a4bb24c4803",
   "metadata": {},
   "outputs": [
    {
     "data": {
      "text/plain": [
       "-3"
      ]
     },
     "execution_count": 68,
     "metadata": {},
     "output_type": "execute_result"
    }
   ],
   "source": [
    "min(a, b)"
   ]
  },
  {
   "cell_type": "markdown",
   "id": "8d1dc8a2-fbc0-4719-bfd3-e1236d39aa3d",
   "metadata": {},
   "source": [
    "The four steps to defining a function in Python are the following:\n",
    "\n",
    "1) Use the keyword def to declare the function and follow this up with the function name.\n",
    "2) Add parameters to the function: they should be within the parentheses of the function. End your line with a colon.\n",
    "3) Add statements that the functions should execute.\n",
    "4) End your function with a return statement if the function should output something. Without the return statement, your function will return an object None"
   ]
  },
  {
   "cell_type": "code",
   "execution_count": 70,
   "id": "58b7d244-6238-47ab-ba73-05922ec1c2aa",
   "metadata": {},
   "outputs": [
    {
     "name": "stdout",
     "output_type": "stream",
     "text": [
      "-3\n"
     ]
    }
   ],
   "source": [
    "print_value(a)"
   ]
  },
  {
   "cell_type": "code",
   "execution_count": 71,
   "id": "522305f0-1433-48f4-837d-a981fb8771f4",
   "metadata": {},
   "outputs": [],
   "source": [
    "def print_value(x):\n",
    "    print(x)"
   ]
  },
  {
   "cell_type": "markdown",
   "id": "58e76146-b144-41a2-9512-ebe0a6699945",
   "metadata": {},
   "source": [
    "## **Conditional Execution**"
   ]
  },
  {
   "cell_type": "markdown",
   "id": "ce4d1f5a-04c4-4dd7-846c-0d39d5bc8fa8",
   "metadata": {},
   "source": [
    "Evaluate information and then choose one course of action or another based on the condition: conditional execution of a statement or group of statements based on the value of an expression."
   ]
  },
  {
   "cell_type": "code",
   "execution_count": 72,
   "id": "f36bc217-7933-4d94-8c55-bda5e42c119e",
   "metadata": {
    "tags": []
   },
   "outputs": [],
   "source": [
    "x = 0\n",
    "y = 5"
   ]
  },
  {
   "cell_type": "code",
   "execution_count": 73,
   "id": "1bd299f3-b56a-492b-ba80-e60872792d34",
   "metadata": {},
   "outputs": [
    {
     "name": "stdout",
     "output_type": "stream",
     "text": [
      "yes\n"
     ]
    }
   ],
   "source": [
    "if x < y:\n",
    "    print('yes')"
   ]
  },
  {
   "cell_type": "code",
   "execution_count": 74,
   "id": "7e9d065d-662a-423b-b98c-e5df6723ff44",
   "metadata": {},
   "outputs": [
    {
     "name": "stdout",
     "output_type": "stream",
     "text": [
      "no\n"
     ]
    }
   ],
   "source": [
    "if y < x:\n",
    "    print('yes')\n",
    "else:\n",
    "    print('no')"
   ]
  },
  {
   "cell_type": "code",
   "execution_count": 75,
   "id": "62c48ba6-6fc6-4247-b065-c980ff697c8a",
   "metadata": {},
   "outputs": [
    {
     "name": "stdout",
     "output_type": "stream",
     "text": [
      "y\n"
     ]
    }
   ],
   "source": [
    "if x:\n",
    "    print('x')\n",
    "elif y:\n",
    "    print('y')\n",
    "else:\n",
    "    print('no')"
   ]
  },
  {
   "cell_type": "code",
   "execution_count": 76,
   "id": "52d370f5-a695-4fd5-b64c-da9b4377ad2f",
   "metadata": {},
   "outputs": [
    {
     "name": "stdout",
     "output_type": "stream",
     "text": [
      "yes\n"
     ]
    }
   ],
   "source": [
    "if x or y:\n",
    "    print('yes')"
   ]
  },
  {
   "cell_type": "code",
   "execution_count": 77,
   "id": "0de668f5-230f-406d-adc3-63a919040db8",
   "metadata": {},
   "outputs": [],
   "source": [
    "if x and y:\n",
    "    print('yes')"
   ]
  },
  {
   "cell_type": "code",
   "execution_count": 78,
   "id": "e607aed0-0aa6-4d65-bf86-55b20ac63b52",
   "metadata": {},
   "outputs": [
    {
     "name": "stdout",
     "output_type": "stream",
     "text": [
      "foo bar\n"
     ]
    }
   ],
   "source": [
    "l = ['foo', 'bar', 'world']\n",
    "if 'hello' in l:\n",
    "    print('hello')\n",
    "elif 'foo' in l:\n",
    "    print('foo bar')    "
   ]
  },
  {
   "cell_type": "markdown",
   "id": "910691b0-c083-4443-8930-a730f518fd9a",
   "metadata": {},
   "source": [
    "## **Loops**"
   ]
  },
  {
   "cell_type": "markdown",
   "id": "661adbdd-3136-410f-9927-64c529e06400",
   "metadata": {},
   "source": [
    "A loop is a block of code that will repeat over and over again. There are two types of loops, **while loops** and **for loops**. While loops will repeat until a condition is no longer true, and for loops will repeat a certain number of times."
   ]
  },
  {
   "cell_type": "code",
   "execution_count": 79,
   "id": "62daaf62-3118-47a2-ad93-fe83fcf28b1e",
   "metadata": {},
   "outputs": [
    {
     "name": "stdout",
     "output_type": "stream",
     "text": [
      "0 Hello World!\n",
      "1 Hello World!\n",
      "2 Hello World!\n",
      "3 Hello World!\n",
      "4 Hello World!\n"
     ]
    }
   ],
   "source": [
    "count = 0\n",
    "while (count < 5):\n",
    "    print(count, \"Hello World!\")\n",
    "    count = count + 1"
   ]
  },
  {
   "cell_type": "code",
   "execution_count": 80,
   "id": "ba5f90a4-b0c7-470a-9f87-099af1f78fae",
   "metadata": {},
   "outputs": [
    {
     "name": "stdout",
     "output_type": "stream",
     "text": [
      "0 Hello World\n",
      "1 Hello World\n",
      "2 Hello World\n",
      "3 Hello World\n",
      "4 Hello World\n",
      "5 In Else Block\n"
     ]
    }
   ],
   "source": [
    "count = 0\n",
    "while (count < 5):\n",
    "    print(count, \"Hello World\")\n",
    "    count += 1\n",
    "else:\n",
    "    print(count, \"In Else Block\")"
   ]
  },
  {
   "cell_type": "code",
   "execution_count": 81,
   "id": "80d468c6-6eca-42a6-bf5c-886399620e0a",
   "metadata": {},
   "outputs": [
    {
     "name": "stdout",
     "output_type": "stream",
     "text": [
      "0\n",
      "1\n",
      "2\n",
      "3\n",
      "4\n"
     ]
    }
   ],
   "source": [
    "n = 5\n",
    "for i in range(0, n):\n",
    "    print(i)"
   ]
  },
  {
   "cell_type": "code",
   "execution_count": null,
   "id": "954015d5-2d6a-4fb2-8e8e-0ca506832f39",
   "metadata": {},
   "outputs": [],
   "source": []
  },
  {
   "cell_type": "code",
   "execution_count": 82,
   "id": "c3c0f424-8161-4f77-8e24-945d67a48e75",
   "metadata": {},
   "outputs": [
    {
     "name": "stdout",
     "output_type": "stream",
     "text": [
      "a\n",
      "b\n",
      "c\n"
     ]
    }
   ],
   "source": [
    "l = [\"a\", \"b\", \"c\"]\n",
    "for i in l:\n",
    "    print(i)"
   ]
  },
  {
   "cell_type": "code",
   "execution_count": 83,
   "id": "70bc9426-f93e-46ac-8445-ca144edff673",
   "metadata": {},
   "outputs": [
    {
     "name": "stdout",
     "output_type": "stream",
     "text": [
      "a\n",
      "b\n",
      "c\n"
     ]
    }
   ],
   "source": [
    "t = (\"a\", \"b\", \"c\")\n",
    "for i in t:\n",
    "    print(i)"
   ]
  },
  {
   "cell_type": "code",
   "execution_count": 84,
   "id": "dafd7ab6-f276-49f6-8d1f-0bf1df676a3c",
   "metadata": {},
   "outputs": [
    {
     "name": "stdout",
     "output_type": "stream",
     "text": [
      "H\n",
      "e\n",
      "l\n",
      "l\n",
      "o\n"
     ]
    }
   ],
   "source": [
    "s = \"Hello\"\n",
    "for i in s :\n",
    "    print(i)"
   ]
  },
  {
   "cell_type": "code",
   "execution_count": 85,
   "id": "516b556d-c3aa-4e33-844e-3da9505832c5",
   "metadata": {},
   "outputs": [
    {
     "name": "stdout",
     "output_type": "stream",
     "text": [
      "xyz  123\n",
      "abc  345\n"
     ]
    }
   ],
   "source": [
    "d = dict()\n",
    "d['xyz'] = 123\n",
    "d['abc'] = 345\n",
    "for i in d :\n",
    "    print(\"%s  %d\" %(i, d[i]))"
   ]
  },
  {
   "cell_type": "code",
   "execution_count": null,
   "id": "b93fbe57-73a7-45e5-b1e6-bb2af3daf834",
   "metadata": {},
   "outputs": [],
   "source": []
  }
 ],
 "metadata": {
  "kernelspec": {
   "display_name": "Python 3 (ipykernel)",
   "language": "python",
   "name": "python3"
  },
  "language_info": {
   "codemirror_mode": {
    "name": "ipython",
    "version": 3
   },
   "file_extension": ".py",
   "mimetype": "text/x-python",
   "name": "python",
   "nbconvert_exporter": "python",
   "pygments_lexer": "ipython3",
   "version": "3.8.12"
  }
 },
 "nbformat": 4,
 "nbformat_minor": 5
}
