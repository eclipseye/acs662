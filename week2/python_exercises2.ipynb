{
 "cells": [
  {
   "cell_type": "markdown",
   "id": "4b1792a2-0478-406f-9a68-65a6c6bfad30",
   "metadata": {
    "tags": []
   },
   "source": [
    "## **Relativistic Factor Calculations**"
   ]
  },
  {
   "cell_type": "markdown",
   "id": "83b278ab-11e8-41f3-ba9d-19606b824a05",
   "metadata": {},
   "source": [
    "For a given kinetic energy, $T$, the relativistic factor, $\\gamma$ can be calculated\n",
    "\n",
    "$$\n",
    "E = \\gamma mc^{c} = E_{0} + T = mc^{2} + T\n",
    "$$\n",
    "\n",
    "$$\n",
    "\\gamma = 1 + \\frac{T}{mc^{c}}\n",
    "$$\n",
    "\n",
    "where $E_{0}$ is the rest energy and $c$ is the speed of light, and $m$ is the mass of the particle."
   ]
  },
  {
   "cell_type": "markdown",
   "id": "97a205ca-c209-4981-8b5b-dd51eb597e83",
   "metadata": {},
   "source": [
    "The relativistic factor can be also defined as\n",
    "\n",
    "$$\n",
    "\\gamma = \\frac{1}{\\sqrt{1 - \\beta^{2}}}.\n",
    "$$"
   ]
  },
  {
   "cell_type": "markdown",
   "id": "62ae959a-a112-4d89-8190-11da287fb9c2",
   "metadata": {},
   "source": [
    "Particle's energy can be expressed alternatively with momentum, $p$ as\n",
    "\n",
    "$$\n",
    "E^{2} = E_{0}^{2} + (pc)^{2}.\n",
    "$$"
   ]
  },
  {
   "cell_type": "code",
   "execution_count": 1,
   "id": "e0d836e5-ea57-4259-a60b-28a3c30e69b6",
   "metadata": {},
   "outputs": [],
   "source": [
    "import basis"
   ]
  },
  {
   "cell_type": "code",
   "execution_count": 2,
   "id": "acca787f-fce1-4acf-a604-adc9d2ebd9b9",
   "metadata": {},
   "outputs": [],
   "source": [
    "T = 3.0 #kinetic energy 3.0 MeV"
   ]
  },
  {
   "cell_type": "code",
   "execution_count": 5,
   "id": "3f97543c-df51-43ac-a8af-9e292391441e",
   "metadata": {},
   "outputs": [
    {
     "name": "stdout",
     "output_type": "stream",
     "text": [
      "1.0031973667977454\n"
     ]
    }
   ],
   "source": [
    "gamma = basis.get_gamma(t=T)\n",
    "print (gamma)"
   ]
  },
  {
   "cell_type": "code",
   "execution_count": 6,
   "id": "a57fd127-6991-46df-be76-7a710292510d",
   "metadata": {},
   "outputs": [
    {
     "name": "stdout",
     "output_type": "stream",
     "text": [
      "0.07977590087428728\n"
     ]
    }
   ],
   "source": [
    "beta = basis.get_beta(t=T)\n",
    "print (beta)"
   ]
  },
  {
   "cell_type": "code",
   "execution_count": 7,
   "id": "eb8cadb2-d025-44a1-8bb3-579fadefb9b6",
   "metadata": {},
   "outputs": [
    {
     "name": "stdout",
     "output_type": "stream",
     "text": [
      "75.09082825352299\n"
     ]
    }
   ],
   "source": [
    "momentum = basis.get_momentum(gamma=gamma)\n",
    "print (momentum)"
   ]
  },
  {
   "cell_type": "code",
   "execution_count": 8,
   "id": "ff74b65a-d07f-4d70-ad08-748e7945e854",
   "metadata": {},
   "outputs": [
    {
     "data": {
      "text/plain": [
       "3.000000000000097"
      ]
     },
     "execution_count": 8,
     "metadata": {},
     "output_type": "execute_result"
    }
   ],
   "source": [
    "basis.get_kinetic_energy(gamma=gamma)"
   ]
  },
  {
   "cell_type": "code",
   "execution_count": 9,
   "id": "327c2a19-9272-4bd6-9f2e-be8870326031",
   "metadata": {},
   "outputs": [
    {
     "data": {
      "text/plain": [
       "3.000000000000097"
      ]
     },
     "execution_count": 9,
     "metadata": {},
     "output_type": "execute_result"
    }
   ],
   "source": [
    "basis.get_kinetic_energy(beta=beta)"
   ]
  },
  {
   "cell_type": "code",
   "execution_count": null,
   "id": "c55fb862-6fb5-4414-ac39-6a92f2c72bba",
   "metadata": {},
   "outputs": [],
   "source": []
  }
 ],
 "metadata": {
  "kernelspec": {
   "display_name": "Python 3",
   "language": "python",
   "name": "python3"
  },
  "language_info": {
   "codemirror_mode": {
    "name": "ipython",
    "version": 3
   },
   "file_extension": ".py",
   "mimetype": "text/x-python",
   "name": "python",
   "nbconvert_exporter": "python",
   "pygments_lexer": "ipython3",
   "version": "3.8.8"
  }
 },
 "nbformat": 4,
 "nbformat_minor": 5
}
