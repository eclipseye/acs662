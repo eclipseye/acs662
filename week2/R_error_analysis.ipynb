{
 "cells": [
  {
   "cell_type": "markdown",
   "id": "a831f2a2-cffb-4905-85db-5bdc3306fd36",
   "metadata": {},
   "source": [
    "# **Error Analysis**"
   ]
  },
  {
   "cell_type": "markdown",
   "id": "00c3db7e-44e7-4870-8871-328ccfc05ebc",
   "metadata": {},
   "source": [
    "There are always errors in any measurements or simulations. **Error Analysis** is the study of uncertainties in measurements."
   ]
  },
  {
   "cell_type": "markdown",
   "id": "94d5c9b1-4084-407b-a8c7-ce84c973ba1f",
   "metadata": {},
   "source": [
    "**Accuracy and Precision**"
   ]
  },
  {
   "cell_type": "markdown",
   "id": "9557f92c-f1ad-493c-aa14-324fac2c6e5c",
   "metadata": {},
   "source": [
    "**Accuracy** measures how close a measured value is to a exact value or an accepted value. Since the exact or accepted value for a physical quantity may be unknown, it is sometimes not possible to determine the accuracy of a measurement. "
   ]
  },
  {
   "cell_type": "markdown",
   "id": "b924d4ab-60df-4318-8c9d-b962d90e97b0",
   "metadata": {},
   "source": [
    "**Precision** measures how closely two or more measurements agree with other. Precision is sometimes referred to as *repeatability* or *reproducibility*. A measurement which is highly reproducible tends to give values which are very close to each other."
   ]
  },
  {
   "cell_type": "markdown",
   "id": "95e721e8-9c29-4b1b-8708-b82557537975",
   "metadata": {},
   "source": [
    "**Types of Errors: Systematic vs. Random Errors**"
   ]
  },
  {
   "cell_type": "markdown",
   "id": "0c86cb9b-0516-4a12-97e0-e805d506548d",
   "metadata": {},
   "source": [
    "**Systematic errors** are errors that affect the accuracy of a measurement. Systematic errors are usually caused by measuring instruments that are incorrectly calibrated or are used incorrectly. The accuracy of measurements subject to systematic errors cannot be improved by repeating those measurements. Systematic errors cannot be easily analyzed by statistical analysis."
   ]
  },
  {
   "cell_type": "markdown",
   "id": "b88ff8c5-116a-4136-b817-3f058064c032",
   "metadata": {},
   "source": [
    "**Random errors** are errors that affect the precision of a measurement. Random errors are unpredictable and can’t be replicated by repeating the experiment again. Measurements subject to random errors differ from each other due to random, unpredictable variations in the measurement process. The precision of measurements subject to random errors can be improved by repeating those measurements. Random errors are easily analyzed by statistical analysis."
   ]
  },
  {
   "cell_type": "markdown",
   "id": "83f93d2c-843e-4630-8981-3ae82d51fb68",
   "metadata": {},
   "source": [
    "**Percent Error and Difference**"
   ]
  },
  {
   "cell_type": "markdown",
   "id": "f9856ae2-28a4-4eab-bfdb-233b59831702",
   "metadata": {},
   "source": [
    "**Percent error** measures the accuracy of a measurement by the difference between a measured or experimental value *E* and a exact or accepted value *A*."
   ]
  },
  {
   "cell_type": "code",
   "execution_count": 1,
   "id": "ce993c04-7754-47d0-ad9b-fdc81a4d7ca0",
   "metadata": {},
   "outputs": [
    {
     "name": "stdout",
     "output_type": "stream",
     "text": [
      "[1] 16.66667\n"
     ]
    }
   ],
   "source": [
    "A = 3.0\n",
    "E = 2.5\n",
    "percent_error = abs(E-A) / A * 100\n",
    "print (percent_error)"
   ]
  },
  {
   "cell_type": "code",
   "execution_count": 2,
   "id": "c867b39f-a621-4ef0-aca8-127794197fcf",
   "metadata": {},
   "outputs": [
    {
     "name": "stdout",
     "output_type": "stream",
     "text": [
      "[1] 60.000000 16.666667  6.666667\n"
     ]
    }
   ],
   "source": [
    "Er = c(1.2, 2.5, 3.2)\n",
    "percent_errors = abs(Er-A) / A * 100\n",
    "print (percent_errors)"
   ]
  },
  {
   "cell_type": "markdown",
   "id": "83863d3d-12fa-4f94-a771-b85bac4bfb87",
   "metadata": {},
   "source": [
    "**Percent Difference** measures precision of two measurements by the difference between the measured or experimental values *E1* and *E2* expressed as a fraction the average of the two values."
   ]
  },
  {
   "cell_type": "code",
   "execution_count": 3,
   "id": "845b5a3d-98e2-494f-9cc1-d50f5ff5b3e9",
   "metadata": {},
   "outputs": [
    {
     "name": "stdout",
     "output_type": "stream",
     "text": [
      "[1] 24.5614\n"
     ]
    }
   ],
   "source": [
    "E1 = 2.5\n",
    "E2 = 3.2\n",
    "percent_difference = abs(E1 - E2) / ((E1 + E2) / 2) * 100\n",
    "print (percent_difference)"
   ]
  },
  {
   "cell_type": "code",
   "execution_count": 4,
   "id": "4a63c252-9b53-4343-9a96-6311004acc28",
   "metadata": {},
   "outputs": [
    {
     "name": "stdout",
     "output_type": "stream",
     "text": [
      "[1] 28.125000  2.272727 31.250000\n"
     ]
    }
   ],
   "source": [
    "Er1 = c(2.3, 4.5, 2.2)\n",
    "Er2 = c(3.2, 4.4, 3.2)\n",
    "percent_differences = abs(Er1 - Er2) / ((Er2 + Er2) / 2) * 100\n",
    "print (percent_differences)"
   ]
  },
  {
   "cell_type": "markdown",
   "id": "f03328ec-5ce3-4a5c-9f42-11c7d6b69556",
   "metadata": {},
   "source": [
    "**Mean and Standard Deviation**"
   ]
  },
  {
   "cell_type": "markdown",
   "id": "4b6acb75-6126-49a3-999f-6346ff3a08ab",
   "metadata": {},
   "source": [
    "When a measurement is repeated several times, the measured values are grouped around some central value. This grouping or distribution can be described with **mean** and **standard deviation**. \n",
    "The *mean* measures the central value, and the *standard deviation* describes the spread or deviation of the measured values from the mean. <br>\n",
    "Then, the experimental measurement can be expressed as\n",
    "<center>$x = <x> \\pm \\sigma_{x}$</center>"
   ]
  },
  {
   "cell_type": "code",
   "execution_count": 5,
   "id": "17c01cc7-9e1c-4eed-b93b-2d9b886731c3",
   "metadata": {},
   "outputs": [],
   "source": [
    "x = c(2.3, 3.2, 2.3, 4.2, 2.1, 2.5, 3.3, 1.3, 5.2, 3.1)\n",
    "x_mean = mean(x)\n",
    "x_std = sd(x)"
   ]
  },
  {
   "cell_type": "code",
   "execution_count": 6,
   "id": "c4966a71-7af7-4fdd-a425-3ac75c15ef50",
   "metadata": {},
   "outputs": [
    {
     "name": "stdout",
     "output_type": "stream",
     "text": [
      " [1] 2.3 3.2 2.3 4.2 2.1 2.5 3.3 1.3 5.2 3.1\n",
      "[1] 2.95\n",
      "[1] 1.121755\n"
     ]
    }
   ],
   "source": [
    "print (x)\n",
    "print (x_mean)\n",
    "print (x_std)"
   ]
  },
  {
   "cell_type": "code",
   "execution_count": 7,
   "id": "c9c815e5-1849-4642-82fc-02c8d17fa072",
   "metadata": {},
   "outputs": [],
   "source": [
    "y = c(2.8, 2.7, 3.1, 2.9, 3.0, 3.1, 2.9, 3.1, 3.0, 2.9)\n",
    "y_mean = mean(y)\n",
    "y_std = sd(y)"
   ]
  },
  {
   "cell_type": "code",
   "execution_count": 8,
   "id": "3652ae5f-8fbb-496a-8a56-f7a8f4c03541",
   "metadata": {},
   "outputs": [
    {
     "data": {
      "image/png": "[encoded data removed]",
      "text/plain": [
       "plot without title"
      ]
     },
     "metadata": {
      "image/png": {
       "height": 420,
       "width": 420
      }
     },
     "output_type": "display_data"
    }
   ],
   "source": [
    "plot(x, type=\"o\", col=\"blue\")\n",
    "lines(y, type=\"o\", col=\"red\")"
   ]
  },
  {
   "cell_type": "code",
   "execution_count": null,
   "id": "74d1509c-cb4d-48ec-9671-2d070494b937",
   "metadata": {},
   "outputs": [],
   "source": []
  }
 ],
 "metadata": {
  "kernelspec": {
   "display_name": "R",
   "language": "R",
   "name": "ir"
  },
  "language_info": {
   "codemirror_mode": "r",
   "file_extension": ".r",
   "mimetype": "text/x-r-source",
   "name": "R",
   "pygments_lexer": "r",
   "version": "4.1.1"
  }
 },
 "nbformat": 4,
 "nbformat_minor": 5
}
