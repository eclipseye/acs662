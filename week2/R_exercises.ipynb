{
 "cells": [
  {
   "cell_type": "markdown",
   "id": "c1512d08-04fa-499d-846b-225fd80dda3d",
   "metadata": {},
   "source": [
    "## **Arithmetic**"
   ]
  },
  {
   "cell_type": "code",
   "execution_count": 1,
   "id": "6f1c28c9-7170-4d16-a2c0-a5b0d21a8640",
   "metadata": {
    "tags": []
   },
   "outputs": [
    {
     "data": {
      "text/html": [
       "7"
      ],
      "text/latex": [
       "7"
      ],
      "text/markdown": [
       "7"
      ],
      "text/plain": [
       "[1] 7"
      ]
     },
     "metadata": {},
     "output_type": "display_data"
    }
   ],
   "source": [
    "3 + 4"
   ]
  },
  {
   "cell_type": "code",
   "execution_count": 2,
   "id": "daac4654-abaf-4a20-949a-2610b0c690d9",
   "metadata": {
    "tags": []
   },
   "outputs": [
    {
     "data": {
      "text/html": [
       "-1"
      ],
      "text/latex": [
       "-1"
      ],
      "text/markdown": [
       "-1"
      ],
      "text/plain": [
       "[1] -1"
      ]
     },
     "metadata": {},
     "output_type": "display_data"
    }
   ],
   "source": [
    "3 - 4"
   ]
  },
  {
   "cell_type": "code",
   "execution_count": 3,
   "id": "5683ccb0-74d4-427d-8e48-f10496434b39",
   "metadata": {},
   "outputs": [
    {
     "data": {
      "text/html": [
       "12"
      ],
      "text/latex": [
       "12"
      ],
      "text/markdown": [
       "12"
      ],
      "text/plain": [
       "[1] 12"
      ]
     },
     "metadata": {},
     "output_type": "display_data"
    }
   ],
   "source": [
    "3 * 4"
   ]
  },
  {
   "cell_type": "code",
   "execution_count": 4,
   "id": "a3c68024-1077-4ce4-b83f-0203f171ca54",
   "metadata": {},
   "outputs": [
    {
     "data": {
      "text/html": [
       "0.75"
      ],
      "text/latex": [
       "0.75"
      ],
      "text/markdown": [
       "0.75"
      ],
      "text/plain": [
       "[1] 0.75"
      ]
     },
     "metadata": {},
     "output_type": "display_data"
    }
   ],
   "source": [
    "3 / 4"
   ]
  },
  {
   "cell_type": "code",
   "execution_count": 5,
   "id": "c76001be-00dc-4ad4-bb78-6ca20142ad4a",
   "metadata": {},
   "outputs": [
    {
     "data": {
      "text/html": [
       "-20"
      ],
      "text/latex": [
       "-20"
      ],
      "text/markdown": [
       "-20"
      ],
      "text/plain": [
       "[1] -20"
      ]
     },
     "metadata": {},
     "output_type": "display_data"
    }
   ],
   "source": [
    "(2 + 3) * 4 / (2 - 3)"
   ]
  },
  {
   "cell_type": "markdown",
   "id": "df96344d-5545-4d94-bee6-189efa9b481f",
   "metadata": {},
   "source": [
    "## **Variables and Assignments**"
   ]
  },
  {
   "cell_type": "code",
   "execution_count": 6,
   "id": "d3f52b3c-3c14-4ea6-b51f-10246e07f390",
   "metadata": {},
   "outputs": [],
   "source": [
    "a <- 3\n",
    "b <- 4\n",
    "c = 3\n",
    "d <- 3 + 2i\n",
    "e <- \"string\""
   ]
  },
  {
   "cell_type": "code",
   "execution_count": 7,
   "id": "5a2238df-c9e6-4705-90ef-80c8c8f61d88",
   "metadata": {},
   "outputs": [
    {
     "name": "stdout",
     "output_type": "stream",
     "text": [
      "[1] 3\n",
      "[1] 3\n",
      "[1] 3 4 3\n",
      "[1] 3+2i\n",
      "[1] \"string\"\n"
     ]
    }
   ],
   "source": [
    "print (a)\n",
    "print (a,b,c)\n",
    "print (c(a,b,c))\n",
    "print (d)\n",
    "print (e)"
   ]
  },
  {
   "cell_type": "code",
   "execution_count": 8,
   "id": "9ece5993-a670-43a2-ba42-fa0f1aeeba62",
   "metadata": {},
   "outputs": [
    {
     "name": "stdout",
     "output_type": "stream",
     "text": [
      "[1] 7\n",
      "[1] -1\n",
      "[1] 12\n",
      "[1] 0.75\n"
     ]
    }
   ],
   "source": [
    "print (a + b)\n",
    "print (a - b)\n",
    "print (a * b)\n",
    "print (a / b)"
   ]
  },
  {
   "cell_type": "markdown",
   "id": "9361fff9-3295-4fe8-889e-fc6f2b6bcbc7",
   "metadata": {},
   "source": [
    "## **Logical Expression**"
   ]
  },
  {
   "cell_type": "code",
   "execution_count": 9,
   "id": "82961cb8-cdc7-4011-a84f-4150af707765",
   "metadata": {},
   "outputs": [],
   "source": [
    "a <- 3\n",
    "b <- -3\n",
    "c <- 3"
   ]
  },
  {
   "cell_type": "code",
   "execution_count": 10,
   "id": "04672c80-2168-4b95-b52e-f770782cca89",
   "metadata": {},
   "outputs": [
    {
     "data": {
      "text/html": [
       "FALSE"
      ],
      "text/latex": [
       "FALSE"
      ],
      "text/markdown": [
       "FALSE"
      ],
      "text/plain": [
       "[1] FALSE"
      ]
     },
     "metadata": {},
     "output_type": "display_data"
    }
   ],
   "source": [
    "a == b"
   ]
  },
  {
   "cell_type": "code",
   "execution_count": 11,
   "id": "9078de0f-93a2-4a30-8486-b1774fab1a62",
   "metadata": {},
   "outputs": [
    {
     "data": {
      "text/html": [
       "TRUE"
      ],
      "text/latex": [
       "TRUE"
      ],
      "text/markdown": [
       "TRUE"
      ],
      "text/plain": [
       "[1] TRUE"
      ]
     },
     "metadata": {},
     "output_type": "display_data"
    }
   ],
   "source": [
    "a != b"
   ]
  },
  {
   "cell_type": "code",
   "execution_count": 12,
   "id": "d4e212d2-4a2a-4816-a102-ad6afc542ead",
   "metadata": {},
   "outputs": [
    {
     "data": {
      "text/html": [
       "TRUE"
      ],
      "text/latex": [
       "TRUE"
      ],
      "text/markdown": [
       "TRUE"
      ],
      "text/plain": [
       "[1] TRUE"
      ]
     },
     "metadata": {},
     "output_type": "display_data"
    }
   ],
   "source": [
    "a > b"
   ]
  },
  {
   "cell_type": "code",
   "execution_count": 13,
   "id": "8f1f6071-30df-4736-87b3-04dce77d069e",
   "metadata": {},
   "outputs": [
    {
     "data": {
      "text/html": [
       "FALSE"
      ],
      "text/latex": [
       "FALSE"
      ],
      "text/markdown": [
       "FALSE"
      ],
      "text/plain": [
       "[1] FALSE"
      ]
     },
     "metadata": {},
     "output_type": "display_data"
    }
   ],
   "source": [
    "a < b"
   ]
  },
  {
   "cell_type": "code",
   "execution_count": 14,
   "id": "4512e1b4-7b7a-4363-af2c-d54364bb1b32",
   "metadata": {},
   "outputs": [
    {
     "data": {
      "text/html": [
       "FALSE"
      ],
      "text/latex": [
       "FALSE"
      ],
      "text/markdown": [
       "FALSE"
      ],
      "text/plain": [
       "[1] FALSE"
      ]
     },
     "metadata": {},
     "output_type": "display_data"
    }
   ],
   "source": [
    "a <= b"
   ]
  },
  {
   "cell_type": "code",
   "execution_count": 15,
   "id": "df6122e7-baad-4348-b888-bf3000daa16a",
   "metadata": {},
   "outputs": [
    {
     "data": {
      "text/html": [
       "TRUE"
      ],
      "text/latex": [
       "TRUE"
      ],
      "text/markdown": [
       "TRUE"
      ],
      "text/plain": [
       "[1] TRUE"
      ]
     },
     "metadata": {},
     "output_type": "display_data"
    }
   ],
   "source": [
    "(a == b) || (a > b)"
   ]
  },
  {
   "cell_type": "code",
   "execution_count": 16,
   "id": "0ee5cb96-409d-4427-8dfb-90af98ed09cf",
   "metadata": {},
   "outputs": [
    {
     "data": {
      "text/html": [
       "FALSE"
      ],
      "text/latex": [
       "FALSE"
      ],
      "text/markdown": [
       "FALSE"
      ],
      "text/plain": [
       "[1] FALSE"
      ]
     },
     "metadata": {},
     "output_type": "display_data"
    }
   ],
   "source": [
    "(a !=b) && (a < b)"
   ]
  },
  {
   "cell_type": "markdown",
   "id": "97ea8398-421b-4e7e-8e7e-76388e432f29",
   "metadata": {},
   "source": [
    "## **Vectors**"
   ]
  },
  {
   "cell_type": "code",
   "execution_count": 17,
   "id": "6614a2d6-ece2-4a68-85c5-47c21a7436f4",
   "metadata": {},
   "outputs": [],
   "source": [
    "av <- c(1, 2, 3)\n",
    "bv <- c(\"a\", \"b\", \"c\")\n",
    "cv <- c(1, 2, 3, \"a\", \"b\", \"c\")"
   ]
  },
  {
   "cell_type": "code",
   "execution_count": 18,
   "id": "c0aec915-52bc-46c1-b549-ea65c53d0ac7",
   "metadata": {},
   "outputs": [
    {
     "name": "stdout",
     "output_type": "stream",
     "text": [
      "[1] 1 2 3\n",
      "[1] \"a\" \"b\" \"c\"\n",
      "[1] \"1\" \"2\" \"3\" \"a\" \"b\" \"c\"\n"
     ]
    }
   ],
   "source": [
    "print (av)\n",
    "print (bv)\n",
    "print (cv)"
   ]
  },
  {
   "cell_type": "code",
   "execution_count": 19,
   "id": "9db467dc-c177-40c5-af3a-bdbf40ca7411",
   "metadata": {},
   "outputs": [
    {
     "name": "stdout",
     "output_type": "stream",
     "text": [
      "numeric(0)\n",
      "[1] 1\n",
      "[1] \"b\"\n",
      "[1] \"3\"\n"
     ]
    }
   ],
   "source": [
    "print (av[0])\n",
    "print (av[1])\n",
    "print (bv[2])\n",
    "print (cv[3])"
   ]
  },
  {
   "cell_type": "code",
   "execution_count": 20,
   "id": "1b201145-ea3e-42c8-bc91-764db024c2f4",
   "metadata": {},
   "outputs": [
    {
     "name": "stdout",
     "output_type": "stream",
     "text": [
      "[1] 1 2 3\n"
     ]
    }
   ],
   "source": [
    "print (av)"
   ]
  },
  {
   "cell_type": "code",
   "execution_count": 21,
   "id": "cbd60b8c-0108-4368-beb3-b6f9147d09af",
   "metadata": {},
   "outputs": [
    {
     "name": "stdout",
     "output_type": "stream",
     "text": [
      "[1] 3 2 3\n"
     ]
    }
   ],
   "source": [
    "av[1] <- 3\n",
    "print (av)"
   ]
  },
  {
   "cell_type": "code",
   "execution_count": 22,
   "id": "517bbb1a-11d4-4e70-a217-e96a0a541255",
   "metadata": {},
   "outputs": [
    {
     "name": "stdout",
     "output_type": "stream",
     "text": [
      "[1] \"new element\" \"b\"           \"c\"          \n"
     ]
    }
   ],
   "source": [
    "bv[1] <- \"new element\"\n",
    "print (bv)"
   ]
  },
  {
   "cell_type": "markdown",
   "id": "aaaed7a7-20b7-4157-97ed-4909bee14d27",
   "metadata": {},
   "source": [
    "## **Matrices**"
   ]
  },
  {
   "cell_type": "markdown",
   "id": "c1c89df1-e2bd-4138-ac7a-ff26fc43e503",
   "metadata": {},
   "source": [
    "Matrix in R is a table-like structure consisting of elements arranged in a fixed number of rows and columns. All the elements belong to a single data type. Elements of a matrix can be accessed by providing indexes of rows and columns"
   ]
  },
  {
   "cell_type": "code",
   "execution_count": 28,
   "id": "86ebe756-7c0e-4a30-85b9-afa57435795b",
   "metadata": {},
   "outputs": [
    {
     "name": "stdout",
     "output_type": "stream",
     "text": [
      "     [,1] [,2] [,3]\n",
      "[1,]    1    4    7\n",
      "[2,]    2    5    8\n",
      "[3,]    3    6    9\n"
     ]
    }
   ],
   "source": [
    "am <- matrix(c(1, 2, 3, 4, 5, 6, 7, 8, 9), nrow=3, ncol=3)\n",
    "print (am)"
   ]
  },
  {
   "cell_type": "code",
   "execution_count": 29,
   "id": "a5747a55-95b6-4994-b816-718559b5a56f",
   "metadata": {},
   "outputs": [
    {
     "name": "stdout",
     "output_type": "stream",
     "text": [
      "     [,1] [,2] [,3]\n",
      "[1,]    1    2    3\n",
      "[2,]    4    5    6\n",
      "[3,]    7    8    9\n"
     ]
    }
   ],
   "source": [
    "bm <- matrix(c(1, 2, 3, 4, 5, 6, 7, 8, 9), nrow=3, ncol=3, byrow=TRUE)\n",
    "print (bm)"
   ]
  },
  {
   "cell_type": "markdown",
   "id": "a3c518d3-a4c3-43a5-b6d2-53c0e9384247",
   "metadata": {},
   "source": [
    "## **Arrays**"
   ]
  },
  {
   "cell_type": "markdown",
   "id": "e057ee23-6e59-44d7-9dfa-1c323c833d23",
   "metadata": {},
   "source": [
    "Arrays are data storage objects in R containing more than or equal to 1 dimension. Arrays can contain only a single data type. The **array()** function is built-in function which takes input as avector and arranges them according to **dim** argument"
   ]
  },
  {
   "cell_type": "code",
   "execution_count": 30,
   "id": "b81e7b1f-4e48-4ff6-9bf4-1f3b272a5af2",
   "metadata": {},
   "outputs": [
    {
     "name": "stdout",
     "output_type": "stream",
     "text": [
      "[1] 1 2 3\n",
      "[1] 4 5 6\n",
      "[1] 7 8 9\n"
     ]
    }
   ],
   "source": [
    "av <- c(1, 2, 3)\n",
    "bv <- c(4, 5, 6)\n",
    "cv <- c(7, 8, 9)\n",
    "print (av)\n",
    "print (bv)\n",
    "print (cv)"
   ]
  },
  {
   "cell_type": "code",
   "execution_count": 35,
   "id": "feaa8814-9069-4e23-8d04-1fd9491f1124",
   "metadata": {},
   "outputs": [],
   "source": [
    "aa <- array(c(av, bv, cv), dim=c(3,3))"
   ]
  },
  {
   "cell_type": "code",
   "execution_count": 36,
   "id": "f22c1f7f-f2aa-4728-bc98-97daf9565ee7",
   "metadata": {},
   "outputs": [
    {
     "name": "stdout",
     "output_type": "stream",
     "text": [
      "     [,1] [,2] [,3]\n",
      "[1,]    1    4    7\n",
      "[2,]    2    5    8\n",
      "[3,]    3    6    9\n"
     ]
    }
   ],
   "source": [
    "print (aa)"
   ]
  },
  {
   "cell_type": "code",
   "execution_count": 37,
   "id": "b7398330-4019-4adc-beec-2a4db9e7f121",
   "metadata": {},
   "outputs": [],
   "source": [
    "rn <- c(\"first\", \"second\", \"third\")\n",
    "cn <- c(\"av\", \"bv\", \"cv\")\n",
    "ba <- array(c(av, bv, cv), dim=c(3,3), dimnames=list(rn, cn))"
   ]
  },
  {
   "cell_type": "code",
   "execution_count": 38,
   "id": "493445bb-98ce-485d-b331-cb09dd8fa34b",
   "metadata": {},
   "outputs": [
    {
     "name": "stdout",
     "output_type": "stream",
     "text": [
      "       av bv cv\n",
      "first   1  4  7\n",
      "second  2  5  8\n",
      "third   3  6  9\n"
     ]
    }
   ],
   "source": [
    "print (ba)"
   ]
  },
  {
   "cell_type": "code",
   "execution_count": 39,
   "id": "31bc0c0f-c563-4dd8-ba4d-0fa012723c4e",
   "metadata": {},
   "outputs": [
    {
     "data": {
      "text/html": [
       "<table class=\"dataframe\">\n",
       "<caption>A matrix: 3 × 3 of type dbl</caption>\n",
       "<thead>\n",
       "\t<tr><th></th><th scope=col>av</th><th scope=col>bv</th><th scope=col>cv</th></tr>\n",
       "</thead>\n",
       "<tbody>\n",
       "\t<tr><th scope=row>first</th><td>3</td><td>6</td><td> 9</td></tr>\n",
       "\t<tr><th scope=row>second</th><td>4</td><td>7</td><td>10</td></tr>\n",
       "\t<tr><th scope=row>third</th><td>5</td><td>8</td><td>11</td></tr>\n",
       "</tbody>\n",
       "</table>\n"
      ],
      "text/latex": [
       "A matrix: 3 × 3 of type dbl\n",
       "\\begin{tabular}{r|lll}\n",
       "  & av & bv & cv\\\\\n",
       "\\hline\n",
       "\tfirst & 3 & 6 &  9\\\\\n",
       "\tsecond & 4 & 7 & 10\\\\\n",
       "\tthird & 5 & 8 & 11\\\\\n",
       "\\end{tabular}\n"
      ],
      "text/markdown": [
       "\n",
       "A matrix: 3 × 3 of type dbl\n",
       "\n",
       "| <!--/--> | av | bv | cv |\n",
       "|---|---|---|---|\n",
       "| first | 3 | 6 |  9 |\n",
       "| second | 4 | 7 | 10 |\n",
       "| third | 5 | 8 | 11 |\n",
       "\n"
      ],
      "text/plain": [
       "       av bv cv\n",
       "first  3  6   9\n",
       "second 4  7  10\n",
       "third  5  8  11"
      ]
     },
     "metadata": {},
     "output_type": "display_data"
    }
   ],
   "source": [
    "ba + 2"
   ]
  },
  {
   "cell_type": "code",
   "execution_count": 40,
   "id": "b52f16ef-2245-40b9-90f2-2dfae798179d",
   "metadata": {},
   "outputs": [
    {
     "data": {
      "text/html": [
       "<table class=\"dataframe\">\n",
       "<caption>A matrix: 3 × 3 of type dbl</caption>\n",
       "<thead>\n",
       "\t<tr><th></th><th scope=col>av</th><th scope=col>bv</th><th scope=col>cv</th></tr>\n",
       "</thead>\n",
       "<tbody>\n",
       "\t<tr><th scope=row>first</th><td>-1</td><td>2</td><td>5</td></tr>\n",
       "\t<tr><th scope=row>second</th><td> 0</td><td>3</td><td>6</td></tr>\n",
       "\t<tr><th scope=row>third</th><td> 1</td><td>4</td><td>7</td></tr>\n",
       "</tbody>\n",
       "</table>\n"
      ],
      "text/latex": [
       "A matrix: 3 × 3 of type dbl\n",
       "\\begin{tabular}{r|lll}\n",
       "  & av & bv & cv\\\\\n",
       "\\hline\n",
       "\tfirst & -1 & 2 & 5\\\\\n",
       "\tsecond &  0 & 3 & 6\\\\\n",
       "\tthird &  1 & 4 & 7\\\\\n",
       "\\end{tabular}\n"
      ],
      "text/markdown": [
       "\n",
       "A matrix: 3 × 3 of type dbl\n",
       "\n",
       "| <!--/--> | av | bv | cv |\n",
       "|---|---|---|---|\n",
       "| first | -1 | 2 | 5 |\n",
       "| second |  0 | 3 | 6 |\n",
       "| third |  1 | 4 | 7 |\n",
       "\n"
      ],
      "text/plain": [
       "       av bv cv\n",
       "first  -1 2  5 \n",
       "second  0 3  6 \n",
       "third   1 4  7 "
      ]
     },
     "metadata": {},
     "output_type": "display_data"
    }
   ],
   "source": [
    "ba - 2"
   ]
  },
  {
   "cell_type": "code",
   "execution_count": 41,
   "id": "dddfe140-9aef-4be1-aea5-fc2ff63e9eca",
   "metadata": {},
   "outputs": [
    {
     "data": {
      "text/html": [
       "<table class=\"dataframe\">\n",
       "<caption>A matrix: 3 × 3 of type dbl</caption>\n",
       "<thead>\n",
       "\t<tr><th></th><th scope=col>av</th><th scope=col>bv</th><th scope=col>cv</th></tr>\n",
       "</thead>\n",
       "<tbody>\n",
       "\t<tr><th scope=row>first</th><td>2</td><td> 8</td><td>14</td></tr>\n",
       "\t<tr><th scope=row>second</th><td>4</td><td>10</td><td>16</td></tr>\n",
       "\t<tr><th scope=row>third</th><td>6</td><td>12</td><td>18</td></tr>\n",
       "</tbody>\n",
       "</table>\n"
      ],
      "text/latex": [
       "A matrix: 3 × 3 of type dbl\n",
       "\\begin{tabular}{r|lll}\n",
       "  & av & bv & cv\\\\\n",
       "\\hline\n",
       "\tfirst & 2 &  8 & 14\\\\\n",
       "\tsecond & 4 & 10 & 16\\\\\n",
       "\tthird & 6 & 12 & 18\\\\\n",
       "\\end{tabular}\n"
      ],
      "text/markdown": [
       "\n",
       "A matrix: 3 × 3 of type dbl\n",
       "\n",
       "| <!--/--> | av | bv | cv |\n",
       "|---|---|---|---|\n",
       "| first | 2 |  8 | 14 |\n",
       "| second | 4 | 10 | 16 |\n",
       "| third | 6 | 12 | 18 |\n",
       "\n"
      ],
      "text/plain": [
       "       av bv cv\n",
       "first  2   8 14\n",
       "second 4  10 16\n",
       "third  6  12 18"
      ]
     },
     "metadata": {},
     "output_type": "display_data"
    }
   ],
   "source": [
    "ba * 2"
   ]
  },
  {
   "cell_type": "code",
   "execution_count": 42,
   "id": "4c5f9fcd-2671-4033-bbf2-7bad21dbc1e4",
   "metadata": {},
   "outputs": [
    {
     "data": {
      "text/html": [
       "<table class=\"dataframe\">\n",
       "<caption>A matrix: 3 × 3 of type dbl</caption>\n",
       "<thead>\n",
       "\t<tr><th></th><th scope=col>av</th><th scope=col>bv</th><th scope=col>cv</th></tr>\n",
       "</thead>\n",
       "<tbody>\n",
       "\t<tr><th scope=row>first</th><td>0.5</td><td>2.0</td><td>3.5</td></tr>\n",
       "\t<tr><th scope=row>second</th><td>1.0</td><td>2.5</td><td>4.0</td></tr>\n",
       "\t<tr><th scope=row>third</th><td>1.5</td><td>3.0</td><td>4.5</td></tr>\n",
       "</tbody>\n",
       "</table>\n"
      ],
      "text/latex": [
       "A matrix: 3 × 3 of type dbl\n",
       "\\begin{tabular}{r|lll}\n",
       "  & av & bv & cv\\\\\n",
       "\\hline\n",
       "\tfirst & 0.5 & 2.0 & 3.5\\\\\n",
       "\tsecond & 1.0 & 2.5 & 4.0\\\\\n",
       "\tthird & 1.5 & 3.0 & 4.5\\\\\n",
       "\\end{tabular}\n"
      ],
      "text/markdown": [
       "\n",
       "A matrix: 3 × 3 of type dbl\n",
       "\n",
       "| <!--/--> | av | bv | cv |\n",
       "|---|---|---|---|\n",
       "| first | 0.5 | 2.0 | 3.5 |\n",
       "| second | 1.0 | 2.5 | 4.0 |\n",
       "| third | 1.5 | 3.0 | 4.5 |\n",
       "\n"
      ],
      "text/plain": [
       "       av  bv  cv \n",
       "first  0.5 2.0 3.5\n",
       "second 1.0 2.5 4.0\n",
       "third  1.5 3.0 4.5"
      ]
     },
     "metadata": {},
     "output_type": "display_data"
    }
   ],
   "source": [
    "ba / 2"
   ]
  },
  {
   "cell_type": "markdown",
   "id": "cc3e0564-f84b-4693-aa5d-423ce90ae759",
   "metadata": {},
   "source": [
    "## **Data Frames**"
   ]
  },
  {
   "cell_type": "markdown",
   "id": "29c607d8-fb19-4382-a300-3df1ed63c4ea",
   "metadata": {},
   "source": [
    "A data frame is used for storing data tables. It is a list of vectors of equal length"
   ]
  },
  {
   "cell_type": "code",
   "execution_count": 43,
   "id": "09a8f6d5-1aa4-4dff-98ad-d2a9260a7789",
   "metadata": {},
   "outputs": [],
   "source": [
    "a = c(1, 2, 3) \n",
    "b = c(\"aa\", \"bb\", \"cc\") \n",
    "c = c(TRUE, FALSE, TRUE) \n",
    "df = data.frame(a, b, c)"
   ]
  },
  {
   "cell_type": "code",
   "execution_count": 44,
   "id": "0e632ca0-fd5f-4042-a674-e46245233672",
   "metadata": {},
   "outputs": [
    {
     "name": "stdout",
     "output_type": "stream",
     "text": [
      "  a  b     c\n",
      "1 1 aa  TRUE\n",
      "2 2 bb FALSE\n",
      "3 3 cc  TRUE\n"
     ]
    }
   ],
   "source": [
    "print (df)"
   ]
  },
  {
   "cell_type": "code",
   "execution_count": 45,
   "id": "2212c19b-b175-4159-b491-b209ca501e54",
   "metadata": {},
   "outputs": [
    {
     "data": {
      "text/html": [
       "<table class=\"dataframe\">\n",
       "<caption>A data.frame: 3 × 1</caption>\n",
       "<thead>\n",
       "\t<tr><th scope=col>a</th></tr>\n",
       "\t<tr><th scope=col>&lt;dbl&gt;</th></tr>\n",
       "</thead>\n",
       "<tbody>\n",
       "\t<tr><td>1</td></tr>\n",
       "\t<tr><td>2</td></tr>\n",
       "\t<tr><td>3</td></tr>\n",
       "</tbody>\n",
       "</table>\n"
      ],
      "text/latex": [
       "A data.frame: 3 × 1\n",
       "\\begin{tabular}{l}\n",
       " a\\\\\n",
       " <dbl>\\\\\n",
       "\\hline\n",
       "\t 1\\\\\n",
       "\t 2\\\\\n",
       "\t 3\\\\\n",
       "\\end{tabular}\n"
      ],
      "text/markdown": [
       "\n",
       "A data.frame: 3 × 1\n",
       "\n",
       "| a &lt;dbl&gt; |\n",
       "|---|\n",
       "| 1 |\n",
       "| 2 |\n",
       "| 3 |\n",
       "\n"
      ],
      "text/plain": [
       "  a\n",
       "1 1\n",
       "2 2\n",
       "3 3"
      ]
     },
     "metadata": {},
     "output_type": "display_data"
    }
   ],
   "source": [
    "df[1]"
   ]
  },
  {
   "cell_type": "code",
   "execution_count": 46,
   "id": "31fb53ee-e0cf-4366-b4cf-3f10ed3892ce",
   "metadata": {},
   "outputs": [
    {
     "data": {
      "text/html": [
       "<table class=\"dataframe\">\n",
       "<caption>A data.frame: 3 × 1</caption>\n",
       "<thead>\n",
       "\t<tr><th scope=col>c</th></tr>\n",
       "\t<tr><th scope=col>&lt;lgl&gt;</th></tr>\n",
       "</thead>\n",
       "<tbody>\n",
       "\t<tr><td> TRUE</td></tr>\n",
       "\t<tr><td>FALSE</td></tr>\n",
       "\t<tr><td> TRUE</td></tr>\n",
       "</tbody>\n",
       "</table>\n"
      ],
      "text/latex": [
       "A data.frame: 3 × 1\n",
       "\\begin{tabular}{l}\n",
       " c\\\\\n",
       " <lgl>\\\\\n",
       "\\hline\n",
       "\t  TRUE\\\\\n",
       "\t FALSE\\\\\n",
       "\t  TRUE\\\\\n",
       "\\end{tabular}\n"
      ],
      "text/markdown": [
       "\n",
       "A data.frame: 3 × 1\n",
       "\n",
       "| c &lt;lgl&gt; |\n",
       "|---|\n",
       "|  TRUE |\n",
       "| FALSE |\n",
       "|  TRUE |\n",
       "\n"
      ],
      "text/plain": [
       "  c    \n",
       "1  TRUE\n",
       "2 FALSE\n",
       "3  TRUE"
      ]
     },
     "metadata": {},
     "output_type": "display_data"
    }
   ],
   "source": [
    "df['c']"
   ]
  },
  {
   "cell_type": "code",
   "execution_count": 47,
   "id": "6fcab209-a5b5-483b-9a46-bda1041f9828",
   "metadata": {},
   "outputs": [
    {
     "data": {
      "text/html": [
       "<table class=\"dataframe\">\n",
       "<caption>A data.frame: 3 × 2</caption>\n",
       "<thead>\n",
       "\t<tr><th scope=col>a</th><th scope=col>b</th></tr>\n",
       "\t<tr><th scope=col>&lt;dbl&gt;</th><th scope=col>&lt;chr&gt;</th></tr>\n",
       "</thead>\n",
       "<tbody>\n",
       "\t<tr><td>1</td><td>aa</td></tr>\n",
       "\t<tr><td>2</td><td>bb</td></tr>\n",
       "\t<tr><td>3</td><td>cc</td></tr>\n",
       "</tbody>\n",
       "</table>\n"
      ],
      "text/latex": [
       "A data.frame: 3 × 2\n",
       "\\begin{tabular}{ll}\n",
       " a & b\\\\\n",
       " <dbl> & <chr>\\\\\n",
       "\\hline\n",
       "\t 1 & aa\\\\\n",
       "\t 2 & bb\\\\\n",
       "\t 3 & cc\\\\\n",
       "\\end{tabular}\n"
      ],
      "text/markdown": [
       "\n",
       "A data.frame: 3 × 2\n",
       "\n",
       "| a &lt;dbl&gt; | b &lt;chr&gt; |\n",
       "|---|---|\n",
       "| 1 | aa |\n",
       "| 2 | bb |\n",
       "| 3 | cc |\n",
       "\n"
      ],
      "text/plain": [
       "  a b \n",
       "1 1 aa\n",
       "2 2 bb\n",
       "3 3 cc"
      ]
     },
     "metadata": {},
     "output_type": "display_data"
    }
   ],
   "source": [
    "df[1:2]"
   ]
  },
  {
   "cell_type": "code",
   "execution_count": 48,
   "id": "65cbe9ec-5325-402e-a3d7-192349ff2677",
   "metadata": {},
   "outputs": [
    {
     "data": {
      "text/html": [
       "<table class=\"dataframe\">\n",
       "<caption>A data.frame: 2 × 3</caption>\n",
       "<thead>\n",
       "\t<tr><th></th><th scope=col>a</th><th scope=col>b</th><th scope=col>c</th></tr>\n",
       "\t<tr><th></th><th scope=col>&lt;dbl&gt;</th><th scope=col>&lt;chr&gt;</th><th scope=col>&lt;lgl&gt;</th></tr>\n",
       "</thead>\n",
       "<tbody>\n",
       "\t<tr><th scope=row>1</th><td>1</td><td>aa</td><td> TRUE</td></tr>\n",
       "\t<tr><th scope=row>2</th><td>2</td><td>bb</td><td>FALSE</td></tr>\n",
       "</tbody>\n",
       "</table>\n"
      ],
      "text/latex": [
       "A data.frame: 2 × 3\n",
       "\\begin{tabular}{r|lll}\n",
       "  & a & b & c\\\\\n",
       "  & <dbl> & <chr> & <lgl>\\\\\n",
       "\\hline\n",
       "\t1 & 1 & aa &  TRUE\\\\\n",
       "\t2 & 2 & bb & FALSE\\\\\n",
       "\\end{tabular}\n"
      ],
      "text/markdown": [
       "\n",
       "A data.frame: 2 × 3\n",
       "\n",
       "| <!--/--> | a &lt;dbl&gt; | b &lt;chr&gt; | c &lt;lgl&gt; |\n",
       "|---|---|---|---|\n",
       "| 1 | 1 | aa |  TRUE |\n",
       "| 2 | 2 | bb | FALSE |\n",
       "\n"
      ],
      "text/plain": [
       "  a b  c    \n",
       "1 1 aa  TRUE\n",
       "2 2 bb FALSE"
      ]
     },
     "metadata": {},
     "output_type": "display_data"
    }
   ],
   "source": [
    "df[1:2,]"
   ]
  },
  {
   "cell_type": "code",
   "execution_count": 49,
   "id": "cc6f38ea-17e1-4ab2-a8b4-ad254a51fc40",
   "metadata": {},
   "outputs": [
    {
     "name": "stdout",
     "output_type": "stream",
     "text": [
      "[1] 1 2 3\n",
      "[1]  TRUE FALSE  TRUE\n",
      "[1] \"aa\" \"bb\" \"cc\"\n"
     ]
    }
   ],
   "source": [
    "print (df$a)\n",
    "print (df$c)\n",
    "print (df$b)"
   ]
  },
  {
   "cell_type": "code",
   "execution_count": 50,
   "id": "bb89fd46-2338-49ce-b1fa-2a79938c1356",
   "metadata": {},
   "outputs": [
    {
     "name": "stdout",
     "output_type": "stream",
     "text": [
      "[1] 2\n",
      "[1] \"cc\"\n",
      "[1] TRUE\n"
     ]
    }
   ],
   "source": [
    "print (df$a[2])\n",
    "print (df$b[3])\n",
    "print (df$c[1])"
   ]
  },
  {
   "cell_type": "markdown",
   "id": "18694842-4631-4ad4-a63c-5fdd7349a205",
   "metadata": {},
   "source": [
    "## **Functions**"
   ]
  },
  {
   "cell_type": "markdown",
   "id": "8d64cc6a-c304-4a81-99a5-8bce6ef36242",
   "metadata": {},
   "source": [
    "A function is a group of related statements that performs a specific task. <br>\n",
    "The R interpreter has a number of functions and types built into it that are always available."
   ]
  },
  {
   "cell_type": "code",
   "execution_count": 51,
   "id": "551a49d5-6507-44f8-988c-c032dc5c8deb",
   "metadata": {
    "tags": []
   },
   "outputs": [
    {
     "name": "stdout",
     "output_type": "stream",
     "text": [
      "[1] 3 3\n"
     ]
    }
   ],
   "source": [
    "a <- -3\n",
    "b <- 3\n",
    "print (c(abs(a), abs(b)))"
   ]
  },
  {
   "cell_type": "code",
   "execution_count": 52,
   "id": "8e42aa68-dc96-4ea1-a915-14128b61e971",
   "metadata": {},
   "outputs": [
    {
     "data": {
      "text/html": [
       "3"
      ],
      "text/latex": [
       "3"
      ],
      "text/markdown": [
       "3"
      ],
      "text/plain": [
       "[1] 3"
      ]
     },
     "metadata": {},
     "output_type": "display_data"
    }
   ],
   "source": [
    "max(a, b)"
   ]
  },
  {
   "cell_type": "code",
   "execution_count": 53,
   "id": "082e2d23-b965-4091-a2df-a40391dfb20b",
   "metadata": {},
   "outputs": [
    {
     "data": {
      "text/html": [
       "-3"
      ],
      "text/latex": [
       "-3"
      ],
      "text/markdown": [
       "-3"
      ],
      "text/plain": [
       "[1] -3"
      ]
     },
     "metadata": {},
     "output_type": "display_data"
    }
   ],
   "source": [
    "min(a, b)"
   ]
  },
  {
   "cell_type": "markdown",
   "id": "56eb901c-2a56-4a3c-a2bf-eafb8e0ce394",
   "metadata": {},
   "source": [
    "The five steps to defining a function in Python are the following:\n",
    "\n",
    "1) Declare the function name and follow with the keyword *function*.\n",
    "2) Add parameters to the function: they should be within the parentheses of the function. End your line with a left curly bracket.\n",
    "3) Add statements that the functions should execute.\n",
    "4) End your function with a return statement if the function should output something. Without the return statement, your function will return an object None\n",
    "5) End your function with a right curly bracket."
   ]
  },
  {
   "cell_type": "code",
   "execution_count": 54,
   "id": "435bd407-6c51-45fc-a665-15c348546a4c",
   "metadata": {},
   "outputs": [],
   "source": [
    "print_value <- function(x) {\n",
    "    print(x)\n",
    "}"
   ]
  },
  {
   "cell_type": "code",
   "execution_count": 56,
   "id": "6c7ccbfc-27e8-4f7d-b314-8ba4933986d2",
   "metadata": {},
   "outputs": [
    {
     "name": "stdout",
     "output_type": "stream",
     "text": [
      "[1] -3\n"
     ]
    }
   ],
   "source": [
    "print_value(a)"
   ]
  },
  {
   "cell_type": "markdown",
   "id": "93ef4d0c-cbab-410b-ae87-32c34f09c13b",
   "metadata": {},
   "source": [
    "## **Conditional Execution**"
   ]
  },
  {
   "cell_type": "markdown",
   "id": "7fd122c7-8034-471e-936e-7e1511ce50db",
   "metadata": {},
   "source": [
    "Evaluate information and then choose one course of action or another based on the condition: conditional execution of a statement or group of statements based on the value of an expression."
   ]
  },
  {
   "cell_type": "code",
   "execution_count": 57,
   "id": "c61c1f06-0917-496e-b877-8ddd19ebfd3d",
   "metadata": {
    "tags": []
   },
   "outputs": [],
   "source": [
    "x <- 0\n",
    "y <- 5"
   ]
  },
  {
   "cell_type": "code",
   "execution_count": 58,
   "id": "ae09e1c0-a7fc-45d0-a72c-92377860bfa0",
   "metadata": {},
   "outputs": [
    {
     "name": "stdout",
     "output_type": "stream",
     "text": [
      "[1] \"yes\"\n"
     ]
    }
   ],
   "source": [
    "if (x < y) {\n",
    "    print('yes')\n",
    "}"
   ]
  },
  {
   "cell_type": "code",
   "execution_count": 59,
   "id": "3dd2e9d9-2404-4ef4-8ebb-47888c5a77cf",
   "metadata": {},
   "outputs": [
    {
     "name": "stdout",
     "output_type": "stream",
     "text": [
      "[1] \"no\"\n"
     ]
    }
   ],
   "source": [
    "if (y < x) {\n",
    "    print('yes')\n",
    "} else {\n",
    "    print('no')\n",
    "}"
   ]
  },
  {
   "cell_type": "code",
   "execution_count": 60,
   "id": "8534947c-cc2d-4fec-9969-42866f474f95",
   "metadata": {},
   "outputs": [
    {
     "name": "stdout",
     "output_type": "stream",
     "text": [
      "[1] \"y\"\n"
     ]
    }
   ],
   "source": [
    "if (x) {\n",
    "    print('x')\n",
    "} else if (y) {\n",
    "    print('y')\n",
    "} else {\n",
    "    print('no')\n",
    "}"
   ]
  },
  {
   "cell_type": "code",
   "execution_count": 61,
   "id": "6fbdd3fb-c0c1-4173-b7d2-6c8998bfa398",
   "metadata": {},
   "outputs": [
    {
     "name": "stdout",
     "output_type": "stream",
     "text": [
      "[1] \"yes\"\n"
     ]
    }
   ],
   "source": [
    "if (x | y) {\n",
    "    print('yes')\n",
    "}"
   ]
  },
  {
   "cell_type": "code",
   "execution_count": 62,
   "id": "accb4477-1b9c-4f5d-a49d-93dc69fe7f57",
   "metadata": {},
   "outputs": [],
   "source": [
    "if (x & y) {\n",
    "    print('yes')\n",
    "}"
   ]
  },
  {
   "cell_type": "code",
   "execution_count": 63,
   "id": "6ab92630-436d-4667-b7a9-169f2b6548f4",
   "metadata": {},
   "outputs": [
    {
     "name": "stdout",
     "output_type": "stream",
     "text": [
      "[1] \"foo bar\"\n"
     ]
    }
   ],
   "source": [
    "l <- c('foo', 'bar', 'world')\n",
    "if ('hello' %in% l) {\n",
    "    print('hello')\n",
    "} else if ('foo' %in% l) {\n",
    "    print('foo bar')\n",
    "}"
   ]
  },
  {
   "cell_type": "markdown",
   "id": "0094b773-9e03-494d-9726-1f8a1b678e4f",
   "metadata": {},
   "source": [
    "## **Loops**"
   ]
  },
  {
   "cell_type": "markdown",
   "id": "3613b1af-c45c-4173-97f6-d33dad0ec150",
   "metadata": {},
   "source": [
    "A loop is a block of code that will repeat over and over again. There are two types of loops, **while loops** and **for loops**. While loops will repeat until a condition is no longer true, and for loops will repeat a certain number of times."
   ]
  },
  {
   "cell_type": "code",
   "execution_count": 64,
   "id": "972fd7b8-0be4-48e6-8b99-c045e9694060",
   "metadata": {},
   "outputs": [
    {
     "name": "stdout",
     "output_type": "stream",
     "text": [
      "[1] \"0\"            \"Hello World!\"\n",
      "[1] \"1\"            \"Hello World!\"\n",
      "[1] \"2\"            \"Hello World!\"\n",
      "[1] \"3\"            \"Hello World!\"\n",
      "[1] \"4\"            \"Hello World!\"\n"
     ]
    }
   ],
   "source": [
    "count <- 0\n",
    "while (count < 5) {\n",
    "    print(c(count, \"Hello World!\"))\n",
    "    count <- count + 1\n",
    "}"
   ]
  },
  {
   "cell_type": "code",
   "execution_count": 65,
   "id": "3b2307f1-3d82-4f5e-9eb9-0e2318ebee86",
   "metadata": {},
   "outputs": [
    {
     "name": "stdout",
     "output_type": "stream",
     "text": [
      "[1] 1\n",
      "[1] 2\n",
      "[1] 3\n",
      "[1] 4\n",
      "[1] 5\n"
     ]
    }
   ],
   "source": [
    "n = 5\n",
    "for (i in 1:n) {\n",
    "    print(i)\n",
    "}"
   ]
  },
  {
   "cell_type": "code",
   "execution_count": 66,
   "id": "2b3e436d-a3e7-4fd7-aec3-f4edca38f30e",
   "metadata": {},
   "outputs": [
    {
     "name": "stdout",
     "output_type": "stream",
     "text": [
      "[1] \"a\"\n",
      "[1] \"b\"\n",
      "[1] \"c\"\n"
     ]
    }
   ],
   "source": [
    "l <- c(\"a\", \"b\", \"c\")\n",
    "for (i in l) {\n",
    "    print(i)\n",
    "}"
   ]
  },
  {
   "cell_type": "code",
   "execution_count": 67,
   "id": "cf53962b-9c25-4d9e-849b-d6579111956f",
   "metadata": {},
   "outputs": [
    {
     "name": "stdout",
     "output_type": "stream",
     "text": [
      "[1] \"Hello\"\n"
     ]
    }
   ],
   "source": [
    "s = \"Hello\"\n",
    "for (i in s) {\n",
    "    print(i)\n",
    "}"
   ]
  },
  {
   "cell_type": "code",
   "execution_count": null,
   "id": "7ce33523-3ef7-4874-9e32-ec87f8901512",
   "metadata": {},
   "outputs": [],
   "source": []
  }
 ],
 "metadata": {
  "kernelspec": {
   "display_name": "R",
   "language": "R",
   "name": "ir"
  },
  "language_info": {
   "codemirror_mode": "r",
   "file_extension": ".r",
   "mimetype": "text/x-r-source",
   "name": "R",
   "pygments_lexer": "r",
   "version": "4.1.1"
  }
 },
 "nbformat": 4,
 "nbformat_minor": 5
}
