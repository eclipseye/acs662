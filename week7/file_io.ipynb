{
 "cells": [
  {
   "cell_type": "markdown",
   "id": "ac6515cd-7c52-450a-b631-3aef600386ff",
   "metadata": {
    "tags": []
   },
   "source": [
    "# File I/O"
   ]
  },
  {
   "cell_type": "markdown",
   "id": "da059501-e2e5-4d82-9a46-5a0bc6961ba9",
   "metadata": {},
   "source": [
    "In Python (or other programming languages), data can be printed out on the screen in a human-readable form, or written to a file for future use. \n",
    "\n",
    "There are three ways of writing values: \n",
    "1) expression statements and the print() function.\n",
    "2) the standard outputs and errors with sys.stdout and sys.err\n",
    "3) using the write() method of file objects \n",
    "\n",
    "In this lecture, we will discuss 3) (We have unknowingly used the method 1) from the previous classes)"
   ]
  },
  {
   "cell_type": "markdown",
   "id": "762e4a63-2763-48f4-a592-25f77a3796a2",
   "metadata": {
    "tags": []
   },
   "source": [
    "## Formatting"
   ]
  },
  {
   "cell_type": "markdown",
   "id": "0620a699-5e5a-451f-900a-d86705173579",
   "metadata": {},
   "source": [
    "### Old string formatting"
   ]
  },
  {
   "cell_type": "code",
   "execution_count": 1,
   "id": "d23f33f7-9be0-481a-9a5e-8ee446292561",
   "metadata": {},
   "outputs": [
    {
     "name": "stdout",
     "output_type": "stream",
     "text": [
      "3 4\n"
     ]
    }
   ],
   "source": [
    "a = 3\n",
    "b = 4\n",
    "print (a, b)"
   ]
  },
  {
   "cell_type": "code",
   "execution_count": 2,
   "id": "ee23288f-0943-4ee3-8340-4c3a98aa279e",
   "metadata": {},
   "outputs": [
    {
     "name": "stdout",
     "output_type": "stream",
     "text": [
      "a is 3 and b is 4.\n"
     ]
    }
   ],
   "source": [
    "print ('a is %d and b is %d.' % (a, b))"
   ]
  },
  {
   "cell_type": "markdown",
   "id": "633097db-9d9c-42ec-a65c-fe38e25e66e3",
   "metadata": {},
   "source": [
    "### Formatted string literals"
   ]
  },
  {
   "cell_type": "code",
   "execution_count": 3,
   "id": "ce3f090e-9220-4442-bdd1-14a8df55c80c",
   "metadata": {},
   "outputs": [
    {
     "name": "stdout",
     "output_type": "stream",
     "text": [
      "a is 3 and b is 4.\n"
     ]
    }
   ],
   "source": [
    "print (f'a is {a} and b is {b}.')"
   ]
  },
  {
   "cell_type": "code",
   "execution_count": 8,
   "id": "67e47a77-6633-4a6d-992c-f11fe619dd24",
   "metadata": {
    "tags": []
   },
   "outputs": [
    {
     "name": "stdout",
     "output_type": "stream",
     "text": [
      "The value of pi is approximately 3.1415926536.\n"
     ]
    }
   ],
   "source": [
    "import numpy as np\n",
    "print(f'The value of pi is approximately {np.pi:0.10f}.')"
   ]
  },
  {
   "cell_type": "code",
   "execution_count": 9,
   "id": "d4e2a796-cdc7-4b17-8999-cd612a0eb255",
   "metadata": {},
   "outputs": [
    {
     "name": "stdout",
     "output_type": "stream",
     "text": [
      "Seoul      ==> 02\n",
      "Sejong     ==> 044\n",
      "Daejeon    ==> 042\n",
      "Busan      ==> 055\n"
     ]
    }
   ],
   "source": [
    "table = {'Seoul': 2, 'Sejong': 44, 'Daejeon': 42, 'Busan': 55}\n",
    "for city, areacode in table.items():\n",
    "    print(f'{city:10} ==> 0{areacode:d}')"
   ]
  },
  {
   "cell_type": "markdown",
   "id": "8f5cd264-9b04-4b57-9ae4-e021cc3b0ad3",
   "metadata": {},
   "source": [
    "### String format method"
   ]
  },
  {
   "cell_type": "markdown",
   "id": "5fc4d182-2135-4f7d-abc1-9a8133bc3d6f",
   "metadata": {},
   "source": [
    "Usage: `str.format()`"
   ]
  },
  {
   "cell_type": "code",
   "execution_count": 10,
   "id": "16ba3099-61cd-4815-ad89-4d0fd6f8576c",
   "metadata": {},
   "outputs": [
    {
     "name": "stdout",
     "output_type": "stream",
     "text": [
      "Today is Wednesday, October 20th\n"
     ]
    }
   ],
   "source": [
    "print('Today is {}, {} {}'.format('Wednesday', 'October', '20th'))"
   ]
  },
  {
   "cell_type": "code",
   "execution_count": 11,
   "id": "4d53a5ff-d051-4beb-8f97-38f4fafe173e",
   "metadata": {},
   "outputs": [
    {
     "name": "stdout",
     "output_type": "stream",
     "text": [
      "Today is Wednesday, October 20th\n"
     ]
    }
   ],
   "source": [
    "print('Today is {0}, {1} {2}'.format('Wednesday', 'October', '20th'))"
   ]
  },
  {
   "cell_type": "code",
   "execution_count": 12,
   "id": "ae10eeb3-4eca-482f-bc25-c41b9f87f259",
   "metadata": {},
   "outputs": [
    {
     "name": "stdout",
     "output_type": "stream",
     "text": [
      "Today is Wednesday, October 20th\n"
     ]
    }
   ],
   "source": [
    "print('Today is {1}, {2} {0}'.format('20th', 'Wednesday', 'October'))"
   ]
  },
  {
   "cell_type": "code",
   "execution_count": 13,
   "id": "4afac12e-393c-47cc-b1d5-c0226a9b609b",
   "metadata": {},
   "outputs": [
    {
     "name": "stdout",
     "output_type": "stream",
     "text": [
      "Today is Wednesday, October 20th\n"
     ]
    }
   ],
   "source": [
    "print('Today is {0}, {mon} {day}'.format('Wednesday', mon='October', day='20th'))"
   ]
  },
  {
   "cell_type": "markdown",
   "id": "0d80f395-81c1-4b99-b575-6ed6bcef77c9",
   "metadata": {},
   "source": [
    "### Manual string format"
   ]
  },
  {
   "cell_type": "code",
   "execution_count": 14,
   "id": "3f0f5921-42c4-440d-ada7-64b2419ba8fa",
   "metadata": {},
   "outputs": [
    {
     "name": "stdout",
     "output_type": "stream",
     "text": [
      "0123456789\n",
      "    02    \n",
      "   044    \n",
      "   042    \n",
      "   055    \n"
     ]
    }
   ],
   "source": [
    "table = {'Seoul': 2, 'Sejong': 44, 'Daejeon': 42, 'Busan': 55}\n",
    "print (\"0123456789\")\n",
    "for city, areacode in table.items():\n",
    "    print(f'0{areacode:d}'.center(10))"
   ]
  },
  {
   "cell_type": "code",
   "execution_count": 15,
   "id": "de46897f-70e6-4a68-9faf-8742adc0e59d",
   "metadata": {},
   "outputs": [
    {
     "name": "stdout",
     "output_type": "stream",
     "text": [
      "0123456789\n",
      "        02\n",
      "       044\n",
      "       042\n",
      "       055\n"
     ]
    }
   ],
   "source": [
    "print (\"0123456789\")\n",
    "for city, areacode in table.items():\n",
    "    print(f'0{areacode:d}'.rjust(10))"
   ]
  },
  {
   "cell_type": "code",
   "execution_count": 16,
   "id": "a3f66950-339c-4686-a9d4-25841036dbdb",
   "metadata": {},
   "outputs": [
    {
     "name": "stdout",
     "output_type": "stream",
     "text": [
      "0123456789\n",
      "02        \n",
      "044       \n",
      "042       \n",
      "055       \n"
     ]
    }
   ],
   "source": [
    "print (\"0123456789\")\n",
    "for city, areacode in table.items():\n",
    "    print(f'0{areacode:d}'.ljust(10))"
   ]
  },
  {
   "cell_type": "markdown",
   "id": "2bd09a64-d2ab-4a55-a48e-908a0d25be67",
   "metadata": {},
   "source": [
    "## Reading and Writing Files"
   ]
  },
  {
   "cell_type": "markdown",
   "id": "ba3d48c1-16c7-42f6-b59f-75da014451a0",
   "metadata": {},
   "source": [
    "`open()` returns a file object, and is most commonly used with two arguments: `open(filename, mode)`.\n",
    "\n",
    "*mode* can be \n",
    "1) *'r'* for only reading \n",
    "2) *'w'* for only writing (an existing file with the same name will be erased)\n",
    "3) *'a'* for appending (any data written to the file is automatically added to the end)\n",
    "4) *'r+'* for both reading and writing. \n",
    "\n",
    "The mode argument is optional; *'r'* will be assumed if it’s omitted."
   ]
  },
  {
   "cell_type": "code",
   "execution_count": 17,
   "id": "55a0fcac-36a6-4665-834c-55908f42ffe9",
   "metadata": {},
   "outputs": [],
   "source": [
    "f = open('emptyfile', 'w')"
   ]
  },
  {
   "cell_type": "markdown",
   "id": "11b1e01b-8ab2-4961-8df1-fe416708fc34",
   "metadata": {},
   "source": [
    "When the file writing is completed, it should be closed with `close()`"
   ]
  },
  {
   "cell_type": "code",
   "execution_count": 18,
   "id": "b1824aa9-91cf-4a25-9b21-0c257002d40a",
   "metadata": {},
   "outputs": [
    {
     "data": {
      "text/plain": [
       "False"
      ]
     },
     "execution_count": 18,
     "metadata": {},
     "output_type": "execute_result"
    }
   ],
   "source": [
    "f.closed"
   ]
  },
  {
   "cell_type": "code",
   "execution_count": 19,
   "id": "2758c5a7-be9c-4c19-8175-6fddf9be3754",
   "metadata": {},
   "outputs": [],
   "source": [
    "f.close()"
   ]
  },
  {
   "cell_type": "code",
   "execution_count": 20,
   "id": "5cfc6d7c-030e-4c0a-9fd6-25134d5b2fd4",
   "metadata": {},
   "outputs": [
    {
     "data": {
      "text/plain": [
       "True"
      ]
     },
     "execution_count": 20,
     "metadata": {},
     "output_type": "execute_result"
    }
   ],
   "source": [
    "f.closed"
   ]
  },
  {
   "cell_type": "code",
   "execution_count": 21,
   "id": "1f8f3b08-a289-4154-b1d6-d655e48d3342",
   "metadata": {},
   "outputs": [],
   "source": [
    "with open('emptyfile') as f:\n",
    "    #something with file\n",
    "    read_data = f.read()"
   ]
  },
  {
   "cell_type": "code",
   "execution_count": 22,
   "id": "bfbf5e3c-a819-48d6-b6e9-c74c6392f125",
   "metadata": {},
   "outputs": [
    {
     "data": {
      "text/plain": [
       "True"
      ]
     },
     "execution_count": 22,
     "metadata": {},
     "output_type": "execute_result"
    }
   ],
   "source": [
    "f.closed"
   ]
  },
  {
   "cell_type": "code",
   "execution_count": 23,
   "id": "0e0b716c-7034-49bd-94d9-7b77ad5b5cbc",
   "metadata": {},
   "outputs": [
    {
     "data": {
      "text/plain": [
       "''"
      ]
     },
     "execution_count": 23,
     "metadata": {},
     "output_type": "execute_result"
    }
   ],
   "source": [
    "read_data"
   ]
  },
  {
   "cell_type": "code",
   "execution_count": 24,
   "id": "bcb2278b-a838-4f04-90df-7fc240e9b401",
   "metadata": {},
   "outputs": [],
   "source": [
    "f = open('myfile', 'r')\n",
    "#f.readline()"
   ]
  },
  {
   "cell_type": "code",
   "execution_count": 25,
   "id": "2605a6a6-92eb-4e89-9f47-02ff4ae07a8d",
   "metadata": {},
   "outputs": [
    {
     "name": "stdout",
     "output_type": "stream",
     "text": [
      "1 1\n",
      "2 4\n",
      "3 9\n",
      "4 16\n",
      "5 25"
     ]
    }
   ],
   "source": [
    "for line in f:\n",
    "    print(line, end='')"
   ]
  },
  {
   "cell_type": "code",
   "execution_count": 26,
   "id": "d96a630e-1b23-445e-964a-b4e2e2a46590",
   "metadata": {},
   "outputs": [
    {
     "name": "stdout",
     "output_type": "stream",
     "text": [
      "1 1\n",
      "\n",
      "2 4\n",
      "\n",
      "3 9\n",
      "\n",
      "4 16\n",
      "\n",
      "5 25\n"
     ]
    }
   ],
   "source": [
    "f = open('myfile', 'r')\n",
    "for line in f.readlines():\n",
    "    print(line)"
   ]
  },
  {
   "cell_type": "code",
   "execution_count": 27,
   "id": "484749fd-f3b4-4c24-b24d-c538d7ff93ee",
   "metadata": {},
   "outputs": [
    {
     "data": {
      "text/plain": [
       "['1 1\\n', '2 4\\n', '3 9\\n', '4 16\\n', '5 25']"
      ]
     },
     "execution_count": 27,
     "metadata": {},
     "output_type": "execute_result"
    }
   ],
   "source": [
    "f = open('myfile', 'r')\n",
    "list(f)"
   ]
  },
  {
   "cell_type": "code",
   "execution_count": 28,
   "id": "5fdd8585-d3b7-40a4-94e4-870ae8e9e562",
   "metadata": {},
   "outputs": [
    {
     "data": {
      "text/plain": [
       "['1 1\\n', '2 4\\n', '3 9\\n', '4 16\\n', '5 25']"
      ]
     },
     "execution_count": 28,
     "metadata": {},
     "output_type": "execute_result"
    }
   ],
   "source": [
    "f = open('myfile', 'r')\n",
    "f.readlines()"
   ]
  },
  {
   "cell_type": "code",
   "execution_count": 29,
   "id": "3e38f09b-bdb9-430b-a9d4-0b20d108c53c",
   "metadata": {},
   "outputs": [],
   "source": [
    "f.close()"
   ]
  },
  {
   "cell_type": "code",
   "execution_count": 30,
   "id": "df4a2e07-40e6-4310-b648-13283f414b16",
   "metadata": {},
   "outputs": [
    {
     "ename": "UnsupportedOperation",
     "evalue": "not readable",
     "output_type": "error",
     "traceback": [
      "\u001b[1;31m---------------------------------------------------------------------------\u001b[0m",
      "\u001b[1;31mUnsupportedOperation\u001b[0m                      Traceback (most recent call last)",
      "\u001b[1;32m~\\AppData\\Local\\Temp/ipykernel_12960/2222412357.py\u001b[0m in \u001b[0;36m<module>\u001b[1;34m\u001b[0m\n\u001b[0;32m      7\u001b[0m     \u001b[0mf2\u001b[0m\u001b[1;33m.\u001b[0m\u001b[0mwrite\u001b[0m\u001b[1;33m(\u001b[0m\u001b[0mline\u001b[0m\u001b[1;33m)\u001b[0m\u001b[1;33m\u001b[0m\u001b[1;33m\u001b[0m\u001b[0m\n\u001b[0;32m      8\u001b[0m \u001b[1;33m\u001b[0m\u001b[0m\n\u001b[1;32m----> 9\u001b[1;33m \u001b[0mf2\u001b[0m\u001b[1;33m.\u001b[0m\u001b[0mreadlines\u001b[0m\u001b[1;33m(\u001b[0m\u001b[1;33m)\u001b[0m\u001b[1;33m\u001b[0m\u001b[1;33m\u001b[0m\u001b[0m\n\u001b[0m\u001b[0;32m     10\u001b[0m \u001b[0mf2\u001b[0m\u001b[1;33m.\u001b[0m\u001b[0mclose\u001b[0m\u001b[1;33m(\u001b[0m\u001b[1;33m)\u001b[0m\u001b[1;33m\u001b[0m\u001b[1;33m\u001b[0m\u001b[0m\n",
      "\u001b[1;31mUnsupportedOperation\u001b[0m: not readable"
     ]
    }
   ],
   "source": [
    "f = open('myfile', 'r')\n",
    "lines = f.readlines()\n",
    "f.close()\n",
    "\n",
    "f2 = open('newfile', 'w')\n",
    "for line in lines:\n",
    "    f2.write(line)\n",
    "\n",
    "f2.readlines()\n",
    "f2.close()"
   ]
  },
  {
   "cell_type": "code",
   "execution_count": 31,
   "id": "023fd58c-67c1-4573-a629-0769e7335399",
   "metadata": {},
   "outputs": [
    {
     "data": {
      "text/plain": [
       "['1 1\\n', '2 4\\n', '3 9\\n', '4 16\\n', '5 25']"
      ]
     },
     "execution_count": 31,
     "metadata": {},
     "output_type": "execute_result"
    }
   ],
   "source": [
    "f2 = open('newfile', 'r')\n",
    "f2.readlines()"
   ]
  },
  {
   "cell_type": "code",
   "execution_count": 32,
   "id": "20f79eaa-25b7-4b4d-82da-43b570c9fa03",
   "metadata": {},
   "outputs": [],
   "source": [
    "f2.close()"
   ]
  },
  {
   "cell_type": "markdown",
   "id": "7ec38986-8372-44ad-bfbc-61f94f607e5d",
   "metadata": {},
   "source": [
    "Other types of objects need to be converted – either to a string (in text mode) or a bytes object (in binary mode) – before writing them:"
   ]
  },
  {
   "cell_type": "code",
   "execution_count": 33,
   "id": "c9319a8f-1e52-416e-9f7d-33997875a864",
   "metadata": {},
   "outputs": [
    {
     "ename": "TypeError",
     "evalue": "write() argument must be str, not int",
     "output_type": "error",
     "traceback": [
      "\u001b[1;31m---------------------------------------------------------------------------\u001b[0m",
      "\u001b[1;31mTypeError\u001b[0m                                 Traceback (most recent call last)",
      "\u001b[1;32m~\\AppData\\Local\\Temp/ipykernel_12960/2002637140.py\u001b[0m in \u001b[0;36m<module>\u001b[1;34m\u001b[0m\n\u001b[0;32m      1\u001b[0m \u001b[0mf2\u001b[0m \u001b[1;33m=\u001b[0m \u001b[0mopen\u001b[0m\u001b[1;33m(\u001b[0m\u001b[1;34m'newfile'\u001b[0m\u001b[1;33m,\u001b[0m \u001b[1;34m'r+'\u001b[0m\u001b[1;33m)\u001b[0m\u001b[1;33m\u001b[0m\u001b[1;33m\u001b[0m\u001b[0m\n\u001b[1;32m----> 2\u001b[1;33m \u001b[0mf2\u001b[0m\u001b[1;33m.\u001b[0m\u001b[0mwrite\u001b[0m\u001b[1;33m(\u001b[0m\u001b[0ma\u001b[0m\u001b[1;33m)\u001b[0m\u001b[1;33m\u001b[0m\u001b[1;33m\u001b[0m\u001b[0m\n\u001b[0m\u001b[0;32m      3\u001b[0m \u001b[0mf2\u001b[0m\u001b[1;33m.\u001b[0m\u001b[0mreadlines\u001b[0m\u001b[1;33m(\u001b[0m\u001b[1;33m)\u001b[0m\u001b[1;33m\u001b[0m\u001b[1;33m\u001b[0m\u001b[0m\n",
      "\u001b[1;31mTypeError\u001b[0m: write() argument must be str, not int"
     ]
    }
   ],
   "source": [
    "f2 = open('newfile', 'r+')\n",
    "f2.write(a)\n",
    "f2.readlines()"
   ]
  },
  {
   "cell_type": "code",
   "execution_count": 37,
   "id": "98a95724-10fe-48a4-a74e-a259eb0fa513",
   "metadata": {},
   "outputs": [
    {
     "data": {
      "text/plain": [
       "['1 1\\n', '2 4\\n', '3 9\\n', '4 16\\n', '5 253333']"
      ]
     },
     "execution_count": 37,
     "metadata": {},
     "output_type": "execute_result"
    }
   ],
   "source": [
    "f2.write(str(a))\n",
    "f2.flush()\n",
    "f2.close()\n",
    "f3 = open('newfile', 'r')\n",
    "f3.readlines()"
   ]
  },
  {
   "cell_type": "code",
   "execution_count": 38,
   "id": "0e7da755-9173-48c8-bf2c-1704cb0439af",
   "metadata": {},
   "outputs": [],
   "source": [
    "f3.close()"
   ]
  },
  {
   "cell_type": "code",
   "execution_count": 47,
   "id": "cc97846f-fb1b-4f0a-bb70-29d2cbc23502",
   "metadata": {},
   "outputs": [],
   "source": [
    "f4 = open('newfile', 'a')\n",
    "f4.write(\"append\\n\")\n",
    "f4.close()"
   ]
  },
  {
   "cell_type": "code",
   "execution_count": 48,
   "id": "b1d997f5-5c97-40af-b516-eee45257e268",
   "metadata": {},
   "outputs": [
    {
     "name": "stdout",
     "output_type": "stream",
     "text": [
      "['1 1\\n', '2 4\\n', '3 9\\n', '4 16\\n', '5 253333append\\n', 'append\\n', 'append\\n', 'append\\n']\n"
     ]
    }
   ],
   "source": [
    "f5 = open('newfile', 'r')\n",
    "print(f5.readlines())\n",
    "f5.close()"
   ]
  },
  {
   "cell_type": "markdown",
   "id": "52898804-3985-45b5-87e1-03751d31e269",
   "metadata": {},
   "source": [
    "## File I/O with numpy"
   ]
  },
  {
   "cell_type": "code",
   "execution_count": 49,
   "id": "6803d5b7-08fb-46d1-96d9-4503eec4ab3f",
   "metadata": {},
   "outputs": [],
   "source": [
    "import numpy as np"
   ]
  },
  {
   "cell_type": "markdown",
   "id": "b78b03eb-d1cd-4c7a-932e-1519778d69db",
   "metadata": {},
   "source": [
    "### numpy binary files"
   ]
  },
  {
   "cell_type": "code",
   "execution_count": 50,
   "id": "5d477e00-e551-43ac-a34f-88b08734efd6",
   "metadata": {},
   "outputs": [
    {
     "name": "stdout",
     "output_type": "stream",
     "text": [
      "[0 1 2 3 4 5 6 7 8 9]\n"
     ]
    }
   ],
   "source": [
    "x = np.arange(10)\n",
    "print (x)"
   ]
  },
  {
   "cell_type": "code",
   "execution_count": 51,
   "id": "fdfc6e35-ccb7-43ad-be37-904bf7f1f0cb",
   "metadata": {},
   "outputs": [],
   "source": [
    "fnp = open('npfile.npy', 'wb')\n",
    "np.save(fnp, x)"
   ]
  },
  {
   "cell_type": "code",
   "execution_count": 52,
   "id": "60440ef6-9dfc-4c3f-9b9f-47994a874f55",
   "metadata": {},
   "outputs": [],
   "source": [
    "fnp.close()"
   ]
  },
  {
   "cell_type": "code",
   "execution_count": 53,
   "id": "e877b5d3-d9ed-4cb6-b629-b94b75e4d28f",
   "metadata": {},
   "outputs": [],
   "source": [
    "fnp = open('npfile.npy', 'rb')\n",
    "xl = np.load(fnp)"
   ]
  },
  {
   "cell_type": "code",
   "execution_count": 54,
   "id": "7bc2a616-9d02-43ee-bf78-1166f8157d77",
   "metadata": {
    "tags": []
   },
   "outputs": [
    {
     "name": "stdout",
     "output_type": "stream",
     "text": [
      "[0 1 2 3 4 5 6 7 8 9]\n"
     ]
    }
   ],
   "source": [
    "print (xl)"
   ]
  },
  {
   "cell_type": "code",
   "execution_count": 55,
   "id": "e0198ca1-17c5-4916-be4e-b7ffe62edd0d",
   "metadata": {},
   "outputs": [],
   "source": [
    "with open('npfile.npy', 'wb') as f:\n",
    "    np.save(f, np.array([[1,2], [3,4]]))"
   ]
  },
  {
   "cell_type": "code",
   "execution_count": 56,
   "id": "ac881d66-14b1-4f26-8a7a-c50f1861e802",
   "metadata": {},
   "outputs": [
    {
     "name": "stdout",
     "output_type": "stream",
     "text": [
      "[[1 2]\n",
      " [3 4]]\n"
     ]
    }
   ],
   "source": [
    "with open ('npfile.npy', 'rb') as f:\n",
    "    xl = np.load(f)\n",
    "print (xl)"
   ]
  },
  {
   "cell_type": "code",
   "execution_count": 57,
   "id": "1ca9a2b5-3b9c-4b21-ad60-172999ab32fc",
   "metadata": {},
   "outputs": [],
   "source": [
    "y = np.exp(x)"
   ]
  },
  {
   "cell_type": "code",
   "execution_count": 58,
   "id": "d185b8d9-4b7e-492b-bfb6-e97362fccb8e",
   "metadata": {},
   "outputs": [],
   "source": [
    "f = open('npfile.npz', 'wb')\n",
    "np.savez(f, x, y)\n",
    "f.close()"
   ]
  },
  {
   "cell_type": "code",
   "execution_count": 59,
   "id": "ac091e37-8f1e-483a-a083-dbf5d041e974",
   "metadata": {},
   "outputs": [],
   "source": [
    "f = open ('npfile.npz', 'rb')\n",
    "npdata = np.load(f)"
   ]
  },
  {
   "cell_type": "code",
   "execution_count": 60,
   "id": "ef7d5d39-cc80-42cd-a6d2-64ea043c085c",
   "metadata": {},
   "outputs": [
    {
     "data": {
      "text/plain": [
       "['arr_0', 'arr_1']"
      ]
     },
     "execution_count": 60,
     "metadata": {},
     "output_type": "execute_result"
    }
   ],
   "source": [
    "npdata.files"
   ]
  },
  {
   "cell_type": "code",
   "execution_count": 62,
   "id": "64928f8b-7f3a-4f0f-8804-424ad6682f3d",
   "metadata": {},
   "outputs": [
    {
     "data": {
      "text/plain": [
       "array([1.00000000e+00, 2.71828183e+00, 7.38905610e+00, 2.00855369e+01,\n",
       "       5.45981500e+01, 1.48413159e+02, 4.03428793e+02, 1.09663316e+03,\n",
       "       2.98095799e+03, 8.10308393e+03])"
      ]
     },
     "execution_count": 62,
     "metadata": {},
     "output_type": "execute_result"
    }
   ],
   "source": [
    "npdata['arr_1']"
   ]
  },
  {
   "cell_type": "code",
   "execution_count": 63,
   "id": "0d198cd1-3853-48d2-b3fb-616b96e42f35",
   "metadata": {},
   "outputs": [],
   "source": [
    "f.close()"
   ]
  },
  {
   "cell_type": "code",
   "execution_count": 64,
   "id": "51ffad49-8d21-47b7-8340-b708294e2a6b",
   "metadata": {},
   "outputs": [],
   "source": [
    "f = open('npfile.npz', 'wb')\n",
    "np.savez(f, x=x, z=y)\n",
    "f.close()"
   ]
  },
  {
   "cell_type": "code",
   "execution_count": 65,
   "id": "8105844b-8dcf-4fc7-8031-70bf329fc921",
   "metadata": {},
   "outputs": [
    {
     "data": {
      "text/plain": [
       "['x', 'z']"
      ]
     },
     "execution_count": 65,
     "metadata": {},
     "output_type": "execute_result"
    }
   ],
   "source": [
    "f = open ('npfile.npz', 'rb')\n",
    "npdata = np.load(f)\n",
    "npdata.files"
   ]
  },
  {
   "cell_type": "code",
   "execution_count": 66,
   "id": "8de7950d-6520-4383-89d3-7362de93341b",
   "metadata": {},
   "outputs": [
    {
     "data": {
      "text/plain": [
       "array([1.00000000e+00, 2.71828183e+00, 7.38905610e+00, 2.00855369e+01,\n",
       "       5.45981500e+01, 1.48413159e+02, 4.03428793e+02, 1.09663316e+03,\n",
       "       2.98095799e+03, 8.10308393e+03])"
      ]
     },
     "execution_count": 66,
     "metadata": {},
     "output_type": "execute_result"
    }
   ],
   "source": [
    "npdata['z']"
   ]
  },
  {
   "cell_type": "code",
   "execution_count": 67,
   "id": "200b3c61-da8b-435a-be6f-7a2fb4cf159a",
   "metadata": {},
   "outputs": [],
   "source": [
    "f.close()"
   ]
  },
  {
   "cell_type": "code",
   "execution_count": 68,
   "id": "b5863fb6-5642-4c74-9b14-359f9fe43590",
   "metadata": {},
   "outputs": [],
   "source": [
    "z = np.sin(x)"
   ]
  },
  {
   "cell_type": "code",
   "execution_count": 69,
   "id": "98036404-810e-4d65-ab93-af7693eadbaf",
   "metadata": {},
   "outputs": [],
   "source": [
    "f = open('npfile.txt', 'w')"
   ]
  },
  {
   "cell_type": "code",
   "execution_count": 70,
   "id": "172128b1-051b-44a0-ac9e-1cd6084b0f92",
   "metadata": {},
   "outputs": [],
   "source": [
    "np.savetxt(f, x, delimiter=',')\n",
    "f.close()"
   ]
  },
  {
   "cell_type": "code",
   "execution_count": 71,
   "id": "03419f1f-eeeb-4eda-baeb-a3af8d0851ec",
   "metadata": {},
   "outputs": [
    {
     "data": {
      "text/plain": [
       "array([0., 1., 2., 3., 4., 5., 6., 7., 8., 9.])"
      ]
     },
     "execution_count": 71,
     "metadata": {},
     "output_type": "execute_result"
    }
   ],
   "source": [
    "f = open('npfile.txt', 'r')\n",
    "np.loadtxt(f)"
   ]
  },
  {
   "cell_type": "code",
   "execution_count": 81,
   "id": "a0f0403f-c283-4090-a4a2-15b527b8abab",
   "metadata": {},
   "outputs": [],
   "source": [
    "f = open('npfile.txt', 'w')\n",
    "np.savetxt(f, (x,y,z))\n",
    "f.close()\n",
    "f = open('npfile.txt', 'r')\n",
    "x, y, _= np.loadtxt(f)\n",
    "f.close()"
   ]
  },
  {
   "cell_type": "code",
   "execution_count": 82,
   "id": "95e402f6-a006-4211-a33a-2b24e50bd6f3",
   "metadata": {},
   "outputs": [
    {
     "name": "stdout",
     "output_type": "stream",
     "text": [
      "[0. 1. 2. 3. 4. 5. 6. 7. 8. 9.]\n"
     ]
    }
   ],
   "source": [
    "print (x)"
   ]
  },
  {
   "cell_type": "code",
   "execution_count": 83,
   "id": "427813a0-d0c6-4bce-8a46-de33c67399b0",
   "metadata": {},
   "outputs": [
    {
     "name": "stdout",
     "output_type": "stream",
     "text": [
      "[1.00000000e+00 2.71828183e+00 7.38905610e+00 2.00855369e+01\n",
      " 5.45981500e+01 1.48413159e+02 4.03428793e+02 1.09663316e+03\n",
      " 2.98095799e+03 8.10308393e+03]\n"
     ]
    }
   ],
   "source": [
    "print (y)"
   ]
  },
  {
   "cell_type": "code",
   "execution_count": 84,
   "id": "569768ba-7b45-49c7-b687-0096d8013d77",
   "metadata": {},
   "outputs": [
    {
     "name": "stdout",
     "output_type": "stream",
     "text": [
      "[ 0.          0.84147098  0.90929743  0.14112001 -0.7568025  -0.95892427\n",
      " -0.2794155   0.6569866   0.98935825  0.41211849]\n"
     ]
    }
   ],
   "source": [
    "print (z)"
   ]
  },
  {
   "cell_type": "markdown",
   "id": "78e15d04-5a21-4b71-98d3-e3713ac1840a",
   "metadata": {},
   "source": [
    "## Hierarchical Data Format"
   ]
  },
  {
   "cell_type": "markdown",
   "id": "83427517-3dce-4636-b577-d6244d4e8556",
   "metadata": {},
   "source": [
    "Hierarchical Data Format (HDF) is a set of file formats (HDF4, HDF5) designed to store and organize large amounts of data.\n",
    "\n",
    "HDF5 simplifies the file structure to include only two major types of object:\n",
    "1) Groups, which are container structures which can hold datasets and other groups\n",
    "2) Datasets, which are multidimensional arrays of a homogeneous type\n",
    "3) Attributes, which are small metadata objects describing the nature and/or intended usage of a primary data object\n",
    "\n",
    "This results in a truly hierarchical, filesystem-like data format"
   ]
  },
  {
   "cell_type": "markdown",
   "id": "0ea09335-be14-4aad-a4ab-cab8c0c2e05f",
   "metadata": {},
   "source": [
    "In order to use HDF formatting, first install hdf5 and pytables. Open a terminal and type below command"
   ]
  },
  {
   "cell_type": "markdown",
   "id": "75e89ff8-5232-4abf-8896-0ae8aa31d7e0",
   "metadata": {},
   "source": [
    "```\n",
    "$ conda install pytables\n",
    "```"
   ]
  },
  {
   "cell_type": "markdown",
   "id": "fc57b4d5-16e9-49a9-9df7-5c3becf09f17",
   "metadata": {},
   "source": [
    "PyTables is built on top of the HDF5 library, using the Python language and the NumPy package. "
   ]
  },
  {
   "cell_type": "code",
   "execution_count": 85,
   "id": "9c75603d-16c6-40ec-a962-cd6aa5c5bac6",
   "metadata": {},
   "outputs": [],
   "source": [
    "import tables"
   ]
  },
  {
   "cell_type": "code",
   "execution_count": 86,
   "id": "04699dd0-e702-4ee2-a8a2-e7cbaa14c045",
   "metadata": {},
   "outputs": [
    {
     "data": {
      "text/plain": [
       "'3.6.1'"
      ]
     },
     "execution_count": 86,
     "metadata": {},
     "output_type": "execute_result"
    }
   ],
   "source": [
    "tables.__version__"
   ]
  },
  {
   "cell_type": "code",
   "execution_count": 87,
   "id": "ad99890e-f64a-4719-a4f6-a8ed72b2fd43",
   "metadata": {},
   "outputs": [],
   "source": [
    "h5file = tables.open_file(\"test.h5\", mode=\"w\", title=\"Test file\")"
   ]
  },
  {
   "cell_type": "code",
   "execution_count": 88,
   "id": "8b9829f9-3485-489b-8c67-83608962398c",
   "metadata": {},
   "outputs": [
    {
     "data": {
      "text/plain": [
       "File(filename=test.h5, title='Test file', mode='w', root_uep='/', filters=Filters(complevel=0, shuffle=False, bitshuffle=False, fletcher32=False, least_significant_digit=None))\n",
       "/ (RootGroup) 'Test file'"
      ]
     },
     "execution_count": 88,
     "metadata": {},
     "output_type": "execute_result"
    }
   ],
   "source": [
    "h5file"
   ]
  },
  {
   "cell_type": "code",
   "execution_count": 89,
   "id": "ec04356f-9486-4b47-93ef-c1a1abaa2758",
   "metadata": {},
   "outputs": [],
   "source": [
    "group1 = h5file.create_group(\"/\", 'particles', 'particle data')"
   ]
  },
  {
   "cell_type": "code",
   "execution_count": 90,
   "id": "00e41df8-fe62-4863-a8aa-ade63ea85bcf",
   "metadata": {},
   "outputs": [
    {
     "data": {
      "text/plain": [
       "/particles (Group) 'particle data'\n",
       "  children := []"
      ]
     },
     "execution_count": 90,
     "metadata": {},
     "output_type": "execute_result"
    }
   ],
   "source": [
    "h5file.root.particles"
   ]
  },
  {
   "cell_type": "code",
   "execution_count": 91,
   "id": "d3066dbb-2f68-4249-a41e-263bcd99fd26",
   "metadata": {
    "tags": []
   },
   "outputs": [],
   "source": [
    "group2 = h5file.create_group(\"/\", \"twiss\", \"twiss data\")"
   ]
  },
  {
   "cell_type": "code",
   "execution_count": 92,
   "id": "c9b44c42-f282-4a5e-b08c-ca95ba31bb19",
   "metadata": {},
   "outputs": [
    {
     "data": {
      "text/plain": [
       "/ (RootGroup) 'Test file'\n",
       "  children := ['particles' (Group), 'twiss' (Group)]"
      ]
     },
     "execution_count": 92,
     "metadata": {},
     "output_type": "execute_result"
    }
   ],
   "source": [
    "h5file.root"
   ]
  },
  {
   "cell_type": "code",
   "execution_count": 93,
   "id": "9fc96f1d-41c2-4108-85e1-22d1df64b01e",
   "metadata": {},
   "outputs": [],
   "source": [
    "# Twiss parameters\n",
    "ax = -0.5\n",
    "bx = 1.3\n",
    "cx = 2.1\n",
    "ex = 3.1\n",
    "twiss = np.array([ax, bx, cx, ex])\n",
    "\n",
    "# Covariance matrix\n",
    "s11 = ex * bx\n",
    "s12 = - ex * ax\n",
    "s22 = ex * cx\n",
    "cov = np.zeros((2,2))\n",
    "cov[0,0] = s11\n",
    "cov[0,1] = s12\n",
    "cov[1,0] = s12\n",
    "cov[1,1] = s22\n",
    "\n",
    "# beam distribution\n",
    "mean = [np.sqrt(s11), np.sqrt(s22)]\n",
    "Np = 10000\n",
    "coords = np.random.multivariate_normal(mean, cov, Np)"
   ]
  },
  {
   "cell_type": "code",
   "execution_count": 94,
   "id": "9b832934-2acf-45e6-a109-9b33baab6f11",
   "metadata": {},
   "outputs": [],
   "source": [
    "earray1 = h5file.create_earray(group1, 'coords', obj=coords)\n",
    "earray2 = h5file.create_earray(group2, 'twiss', obj=twiss)\n",
    "earray3 = h5file.create_earray(group2, 'cov', obj=cov)"
   ]
  },
  {
   "cell_type": "code",
   "execution_count": 95,
   "id": "1eb92785-76a2-4c6c-9a62-00574eb7f950",
   "metadata": {},
   "outputs": [],
   "source": [
    "charge = 1\n",
    "group3 = h5file.create_group(group1, \"charge\", \"particle charge\")\n",
    "array1 = h5file.create_array(group3, \"charge\", obj=charge)"
   ]
  },
  {
   "cell_type": "code",
   "execution_count": 96,
   "id": "d3832724-db37-42b3-a8d6-16f96d89419c",
   "metadata": {},
   "outputs": [],
   "source": [
    "h5file.close()"
   ]
  },
  {
   "cell_type": "code",
   "execution_count": 97,
   "id": "8d4a1c55-5943-41ee-b1d2-7f4bc0e82b4d",
   "metadata": {},
   "outputs": [],
   "source": [
    "h5file = tables.open_file('test.h5', 'r')"
   ]
  },
  {
   "cell_type": "code",
   "execution_count": 98,
   "id": "180d1254-df4c-44d3-85be-2e2a6f13b7a5",
   "metadata": {},
   "outputs": [
    {
     "data": {
      "text/plain": [
       "File(filename=test.h5, title='Test file', mode='r', root_uep='/', filters=Filters(complevel=0, shuffle=False, bitshuffle=False, fletcher32=False, least_significant_digit=None))\n",
       "/ (RootGroup) 'Test file'\n",
       "/particles (Group) 'particle data'\n",
       "/particles/coords (EArray(10000, 2)) ''\n",
       "  atom := Float64Atom(shape=(), dflt=0.0)\n",
       "  maindim := 0\n",
       "  flavor := 'numpy'\n",
       "  byteorder := 'little'\n",
       "  chunkshape := (4096, 2)\n",
       "/twiss (Group) 'twiss data'\n",
       "/twiss/cov (EArray(2, 2)) ''\n",
       "  atom := Float64Atom(shape=(), dflt=0.0)\n",
       "  maindim := 0\n",
       "  flavor := 'numpy'\n",
       "  byteorder := 'little'\n",
       "  chunkshape := (4096, 2)\n",
       "/twiss/twiss (EArray(4,)) ''\n",
       "  atom := Float64Atom(shape=(), dflt=0.0)\n",
       "  maindim := 0\n",
       "  flavor := 'numpy'\n",
       "  byteorder := 'little'\n",
       "  chunkshape := (8192,)\n",
       "/particles/charge (Group) 'particle charge'\n",
       "/particles/charge/charge (Array()) ''\n",
       "  atom := Int32Atom(shape=(), dflt=0)\n",
       "  maindim := 0\n",
       "  flavor := 'python'\n",
       "  byteorder := 'little'\n",
       "  chunkshape := None"
      ]
     },
     "execution_count": 98,
     "metadata": {},
     "output_type": "execute_result"
    }
   ],
   "source": [
    "h5file"
   ]
  },
  {
   "cell_type": "code",
   "execution_count": 99,
   "id": "2770990f-a6d8-4b0f-85cb-3b9c3e78c3c4",
   "metadata": {},
   "outputs": [
    {
     "data": {
      "text/plain": [
       "/ (RootGroup) 'Test file'\n",
       "  children := ['particles' (Group), 'twiss' (Group)]"
      ]
     },
     "execution_count": 99,
     "metadata": {},
     "output_type": "execute_result"
    }
   ],
   "source": [
    "h5file.root"
   ]
  },
  {
   "cell_type": "code",
   "execution_count": 100,
   "id": "53210749-82a3-4946-bb72-32525bfe5437",
   "metadata": {},
   "outputs": [
    {
     "data": {
      "text/plain": [
       "/particles (Group) 'particle data'\n",
       "  children := ['charge' (Group), 'coords' (EArray)]"
      ]
     },
     "execution_count": 100,
     "metadata": {},
     "output_type": "execute_result"
    }
   ],
   "source": [
    "h5file.root.particles"
   ]
  },
  {
   "cell_type": "code",
   "execution_count": 103,
   "id": "71b29a3a-f41c-44f2-87e4-6b7a22a54b53",
   "metadata": {},
   "outputs": [
    {
     "data": {
      "text/plain": [
       "/particles/coords (EArray(10000, 2)) ''\n",
       "  atom := Float64Atom(shape=(), dflt=0.0)\n",
       "  maindim := 0\n",
       "  flavor := 'numpy'\n",
       "  byteorder := 'little'\n",
       "  chunkshape := (4096, 2)"
      ]
     },
     "execution_count": 103,
     "metadata": {},
     "output_type": "execute_result"
    }
   ],
   "source": [
    "h5file.root.particles.coords"
   ]
  },
  {
   "cell_type": "code",
   "execution_count": 104,
   "id": "26f82708-33a2-4997-8656-318e71c2e6cf",
   "metadata": {},
   "outputs": [
    {
     "data": {
      "text/plain": [
       "array([[ 5.09520953, -0.98146941],\n",
       "       [-0.01643098,  0.30759883],\n",
       "       [ 1.74871368,  6.94681421],\n",
       "       ...,\n",
       "       [ 5.5415468 ,  3.03397117],\n",
       "       [ 3.79974199,  5.56172535],\n",
       "       [ 4.20117932,  0.61000866]])"
      ]
     },
     "execution_count": 104,
     "metadata": {},
     "output_type": "execute_result"
    }
   ],
   "source": [
    "h5file.root.particles.coords.read()"
   ]
  },
  {
   "cell_type": "code",
   "execution_count": 105,
   "id": "1a798ca4-734b-40cd-ac99-a8f8f76948d0",
   "metadata": {},
   "outputs": [],
   "source": [
    "h5file.close()"
   ]
  },
  {
   "cell_type": "code",
   "execution_count": 106,
   "id": "58a60612-5ade-467d-af77-273bbf306642",
   "metadata": {},
   "outputs": [],
   "source": [
    "class Particle(tables.IsDescription):\n",
    "    name      = tables.StringCol(16)   # 16-character String                                                                                                         \n",
    "    ADCcount  = tables.UInt16Col()     # Unsigned short integer                                                                                                      \n",
    "    grid_i    = tables.Int32Col()      # 32-bit integer                                                                                                              \n",
    "    grid_j    = tables.Int32Col()      # 32-bit integer                                                                                                              \n",
    "    pressure  = tables.Float32Col()    # float  (single-precision)                                                                                                   \n",
    "    energy    = tables.Float64Col()    # double (double-precision)                                                                                                   \n",
    "    idnumber  = tables.Int64Col()      # Signed 64-bit integer                                                                                                       \n",
    "    pressure2    = tables.Float32Col(shape=(2,3)) # array of floats (single-precision)\n",
    "\n",
    "h5file = tables.open_file(\"test2.h5\", mode = \"w\", title = \"Test file\")\n",
    "group = h5file.create_group(\"/\", 'detector', 'Detector information')\n",
    "table = h5file.create_table(group, 'readout', Particle, \"Readout example\")\n",
    "particle = table.row\n",
    "for i in range(10):\n",
    "    particle['name']  = 'Particle: %6d' % (i)\n",
    "    particle['ADCcount'] = (i * 256) % (1 << 16)\n",
    "    particle['grid_i'] = i\n",
    "    particle['grid_j'] = 10 - i\n",
    "    particle['pressure'] = float(i*i)\n",
    "    particle['energy'] = float(particle['pressure'] ** 4)\n",
    "    particle['idnumber'] = i * (2 ** 34)\n",
    "    particle['pressure2'] = [\n",
    "        [0.5+float(i),1.5+float(i),2.5+float(i)],\n",
    "        [-1.5+float(i),-2.5+float(i),-3.5+float(i)]]\n",
    "    # Insert a new particle record                                                                                                                            \n",
    "    particle.append()\n",
    "\n",
    "h5file.close()"
   ]
  },
  {
   "cell_type": "code",
   "execution_count": 107,
   "id": "bc91c4ef-073c-4b6a-bba1-0b0c2cdccb48",
   "metadata": {},
   "outputs": [],
   "source": [
    "h5file = tables.open_file('test2.h5', 'r')"
   ]
  },
  {
   "cell_type": "code",
   "execution_count": 108,
   "id": "d1653980-8e30-4d81-89e7-4632d08b5e03",
   "metadata": {},
   "outputs": [
    {
     "data": {
      "text/plain": [
       "/ (RootGroup) 'Test file'\n",
       "  children := ['detector' (Group)]"
      ]
     },
     "execution_count": 108,
     "metadata": {},
     "output_type": "execute_result"
    }
   ],
   "source": [
    "h5file.root"
   ]
  },
  {
   "cell_type": "code",
   "execution_count": 109,
   "id": "911ac99d-c860-4b2c-8732-d04a219ab29a",
   "metadata": {},
   "outputs": [
    {
     "data": {
      "text/plain": [
       "/detector (Group) 'Detector information'\n",
       "  children := ['readout' (Table)]"
      ]
     },
     "execution_count": 109,
     "metadata": {},
     "output_type": "execute_result"
    }
   ],
   "source": [
    "h5file.root.detector"
   ]
  },
  {
   "cell_type": "code",
   "execution_count": 110,
   "id": "5ddb7ce4-3bde-4f84-9c0e-7215bd8d81bb",
   "metadata": {},
   "outputs": [],
   "source": [
    "h5file.close()"
   ]
  },
  {
   "cell_type": "code",
   "execution_count": null,
   "id": "283ea459-fcfd-47e8-bfb8-a6e11be3772a",
   "metadata": {},
   "outputs": [],
   "source": []
  }
 ],
 "metadata": {
  "kernelspec": {
   "display_name": "Python 3 (ipykernel)",
   "language": "python",
   "name": "python3"
  },
  "language_info": {
   "codemirror_mode": {
    "name": "ipython",
    "version": 3
   },
   "file_extension": ".py",
   "mimetype": "text/x-python",
   "name": "python",
   "nbconvert_exporter": "python",
   "pygments_lexer": "ipython3",
   "version": "3.8.11"
  }
 },
 "nbformat": 4,
 "nbformat_minor": 5
}
