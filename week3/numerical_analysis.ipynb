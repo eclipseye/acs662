{
 "cells": [
  {
   "cell_type": "markdown",
   "id": "cebff6fd-e148-4d1d-aefe-11c1de3e384e",
   "metadata": {},
   "source": [
    "# **Numerical Analysis**"
   ]
  },
  {
   "cell_type": "markdown",
   "id": "360b3b7f-4920-4b6b-94e4-8205cb1f48d1",
   "metadata": {},
   "source": [
    "*Numerical analysis* involves the study, development, and analysis of algorithms for obtaining numerical solutions to various mathematical problems. Frequently, numerical analysis is so called mathematics of scientific computing."
   ]
  },
  {
   "cell_type": "markdown",
   "id": "cb7e8409-a83e-4b77-a060-dad15483ee15",
   "metadata": {},
   "source": [
    "Numerical analysis covers:\n",
    "   - Solving of linear or nonlinear equations\n",
    "   - Numerical linear algebra\n",
    "   - Approximating functions\n",
    "   - Numerical differentiation\n",
    "   - Numerical integration\n",
    "   - Solving of ODE and PDE\n",
    "   - Optimization\n",
    "   - and so on"
   ]
  },
  {
   "cell_type": "markdown",
   "id": "3e2fb2b1-b207-412c-a9fd-2c9125d647ea",
   "metadata": {},
   "source": [
    "Today's class will cover only numerical differentiation and integration methods."
   ]
  },
  {
   "cell_type": "markdown",
   "id": "20367ecb-97ab-4551-9258-68a3bf830b32",
   "metadata": {},
   "source": [
    "Let $D_{n}$ be a set of $n+1$ given points in the $(x, y)$ plane:\n",
    "\n",
    "$$\n",
    "D_{n} = {(x_i, y_i) | 0 \\le i \\le n; a = x_0 < x-1 < ...< x_n = b; y_i = f(x_{i})}\n",
    "$$\n",
    "\n",
    "for some function $f(x)$. <br><br>\n",
    "We are seeking to find accurate *approximations* for: <br>\n",
    "1. $f^{\\prime}(x_{i})$ and/or $f^{\\prime\\prime}(x_{i})$: $i = 0, 1, ..., n$ (*Numerical Differentiation*), <br>\n",
    "2. $I = \\int^{b}_{a} f(x) dx$ (Numerical Integration)."
   ]
  },
  {
   "cell_type": "markdown",
   "id": "c4b092b8-bcaa-448b-9ae9-fadd6f1517a9",
   "metadata": {},
   "source": [
    "## Mathematical Prerequisites"
   ]
  },
  {
   "cell_type": "markdown",
   "id": "613ac8b8-794f-440a-b0f9-2f232195fa3c",
   "metadata": {},
   "source": [
    "### **Taylor's formula**"
   ]
  },
  {
   "cell_type": "markdown",
   "id": "887db9c7-03ef-4cce-8de1-507e0d3501d4",
   "metadata": {},
   "source": [
    "Let $h_0 > 0$ and $m \\in {\\rm I\\!R}$. Assume that the function $f(x) \\in C^{k+1}[(m-h_0, m+h_0)]$ that is, its derivatives\n",
    "\n",
    "$$\n",
    "{f^{(j)} (x) : j =1, ..., k, k+1}\n",
    "$$\n",
    "\n",
    "are continuous in the interval $(m-h_0, m+h_0)$. Then for all $h < h_0 \\in {\\rm I\\!R}$, there exists $t \\in (0, 1)$, such that:\n",
    "\n",
    "$$f(m+h) = f(m) + f^{\\prime}(m)h + f^{(2)}(m) \\frac{h^2}{2} + ... + f^{(k)}(m) \\frac{h^{k}}{k!} + f^{(k+1)}(c) \\frac{h^{k+1}}{(k+1)!}\n",
    "$$\n",
    "\n",
    "with $c = m + th$.<br>\n",
    "We can abbreviate the formula as follows:\n",
    "\n",
    "$$\n",
    "f(m+h) = f(m) + f^{\\prime}(m)h + f^{(2)}(m) \\frac{h^2}{2} + ... + f^{(k)}(m) \\frac{h^{k}}{k!} + O(h^{k+1})\n",
    "$$\n",
    "\n",
    "For the cas where $f$ is analytic, then\n",
    "\n",
    "$$\n",
    "f(m+h) = f(m) + f^{\\prime}(m)h + f^{(2)}(m) \\frac{h^2}{2} + ... + f^{(k)}(m) \\frac{h^{k}}{k!} + ... = \\sum^{\\infty}_{n=0} f^{(n)}(m) \\frac{h^{n}}{n!}\n",
    "$$"
   ]
  },
  {
   "cell_type": "markdown",
   "id": "9b0e4b9c-1193-4cc8-a10d-d98781907027",
   "metadata": {},
   "source": [
    "Evaluation of $e^x$ for an arbitrary $x$.\n",
    "\n",
    "$$\n",
    "e^{x} = \\sum^{\\infty}_{n=0} \\frac{x^n}{n!}\n",
    "$$"
   ]
  },
  {
   "cell_type": "code",
   "execution_count": 1,
   "id": "2e2127b6-828a-4a42-b458-2b9d63826305",
   "metadata": {},
   "outputs": [
    {
     "name": "stdout",
     "output_type": "stream",
     "text": [
      "7.38905609893065\n"
     ]
    }
   ],
   "source": [
    "import math\n",
    "\n",
    "x = 2\n",
    "exact_f = math.exp(x)\n",
    "print (exact_f)"
   ]
  },
  {
   "cell_type": "code",
   "execution_count": 2,
   "id": "946cbd7f-16e6-4de4-b162-255bca0e3300",
   "metadata": {},
   "outputs": [],
   "source": [
    "def exp_x(y, n):\n",
    "    ret = 0\n",
    "    for i in range(0, n):\n",
    "        ret += y**i / math.factorial(i)\n",
    "    return ret"
   ]
  },
  {
   "cell_type": "code",
   "execution_count": 3,
   "id": "8b9c9cf8-27bb-4a25-8a64-42e858ad7a8d",
   "metadata": {},
   "outputs": [
    {
     "name": "stdout",
     "output_type": "stream",
     "text": [
      "7.389056098930649\n"
     ]
    }
   ],
   "source": [
    "approx_f = exp_x(x, 100)\n",
    "print (approx_f)"
   ]
  },
  {
   "cell_type": "code",
   "execution_count": 4,
   "id": "3430af43-bbd5-4d05-b037-511522cf869c",
   "metadata": {},
   "outputs": [
    {
     "name": "stdout",
     "output_type": "stream",
     "text": [
      "1th terms: Taylor Series approx= 1.0, exact= 7.38905609893065, error = 6.38905609893065\n",
      "2th terms: Taylor Series approx= 3.0, exact= 7.38905609893065, error = 4.38905609893065\n",
      "3th terms: Taylor Series approx= 5.0, exact= 7.38905609893065, error = 2.3890560989306504\n",
      "4th terms: Taylor Series approx= 6.333333333333333, exact= 7.38905609893065, error = 1.0557227655973174\n",
      "5th terms: Taylor Series approx= 7.0, exact= 7.38905609893065, error = 0.3890560989306504\n",
      "6th terms: Taylor Series approx= 7.266666666666667, exact= 7.38905609893065, error = 0.1223894322639838\n",
      "7th terms: Taylor Series approx= 7.355555555555555, exact= 7.38905609893065, error = 0.033500543375095226\n",
      "8th terms: Taylor Series approx= 7.3809523809523805, exact= 7.38905609893065, error = 0.00810371797826992\n",
      "9th terms: Taylor Series approx= 7.387301587301587, exact= 7.38905609893065, error = 0.0017545116290635931\n",
      "10th terms: Taylor Series approx= 7.3887125220458545, exact= 7.38905609893065, error = 0.0003435768847959153\n",
      "11th terms: Taylor Series approx= 7.388994708994708, exact= 7.38905609893065, error = 6.138993594273501e-05\n",
      "12th terms: Taylor Series approx= 7.389046015712681, exact= 7.38905609893065, error = 1.0083217969025782e-05\n",
      "13th terms: Taylor Series approx= 7.3890545668323435, exact= 7.38905609893065, error = 1.5320983068889404e-06\n",
      "14th terms: Taylor Series approx= 7.389055882389215, exact= 7.38905609893065, error = 2.1654143544935778e-07\n",
      "15th terms: Taylor Series approx= 7.3890560703259105, exact= 7.38905609893065, error = 2.860473991006529e-08\n",
      "16th terms: Taylor Series approx= 7.389056095384136, exact= 7.38905609893065, error = 3.546514193430994e-09\n",
      "17th terms: Taylor Series approx= 7.389056098516415, exact= 7.38905609893065, error = 4.14235756807102e-10\n",
      "18th terms: Taylor Series approx= 7.389056098884918, exact= 7.38905609893065, error = 4.573230683035945e-11\n",
      "19th terms: Taylor Series approx= 7.389056098925863, exact= 7.38905609893065, error = 4.787281682183675e-12\n"
     ]
    }
   ],
   "source": [
    "for i in range(1, 20):\n",
    "    approx_f = exp_x(x, i)\n",
    "    error_f = abs(approx_f - exact_f)\n",
    "    print (f'{i}th terms: Taylor Series approx= {approx_f}, exact= {exact_f}, error = {error_f}')    "
   ]
  },
  {
   "cell_type": "markdown",
   "id": "8fcbeebd-563d-4809-8c52-752a2737180f",
   "metadata": {},
   "source": [
    "### **Intermediate value theorem**"
   ]
  },
  {
   "cell_type": "markdown",
   "id": "07475231-7224-4439-ac8f-31e6fa76a3a6",
   "metadata": {},
   "source": [
    "The *intermediate value theorem* states that if $f$ is a continuous function whose domain contains the interval $[a, b]$, then it takes on any given value between $f(a)$ and $f(b)$ at some point within the interval.\n",
    "- If a continuous function has values of opposite sign inside an interval, then it has a root in that interval (Bolzano's theorem)."
   ]
  },
  {
   "cell_type": "markdown",
   "id": "b194d630-830c-491b-ae16-71b08f577146",
   "metadata": {},
   "source": [
    "### **Mean value theorm**"
   ]
  },
  {
   "cell_type": "markdown",
   "id": "713053a8-1f14-4cdd-b239-fa3d4c435a13",
   "metadata": {},
   "source": [
    "*Mean value theorem* results from the application of Taylor's formula where the error term is expressed in terms of a first derivative, specifically:\n",
    "\n",
    "$$\n",
    "f(m + h) - f(m) = hf^{\\prime}(c); c \\in (m, m + h);\n",
    "$$\n",
    "\n",
    "which is equivalent to:\n",
    "\n",
    "$$\n",
    "\\int^{m+h}_{m} f^{\\prime}(x)dx = f^{\\prime}(c) h\n",
    "$$"
   ]
  },
  {
   "cell_type": "markdown",
   "id": "e288ce7c-3434-4528-9218-c66d4049f43a",
   "metadata": {},
   "source": [
    "## Numerical Differentiation"
   ]
  },
  {
   "cell_type": "markdown",
   "id": "e9a89270-a893-4e8e-a1b3-1e5f4141c405",
   "metadata": {
    "tags": []
   },
   "source": [
    "### **Approximation of first derivatives**"
   ]
  },
  {
   "cell_type": "markdown",
   "id": "67230500-18f4-4dc0-8b59-26fa4e3f474b",
   "metadata": {},
   "source": [
    "***1) The forward divided difference approximation***"
   ]
  },
  {
   "cell_type": "markdown",
   "id": "912e01d6-d0ad-4f97-bc3e-0f37647eb49c",
   "metadata": {},
   "source": [
    "Using Taylor's formula up to order 1,\n",
    "\n",
    "$$\n",
    "f(x+h) = f(x) + h f^{\\prime}(x) + \\frac{1}{2} h^2 f^{\\prime\\prime}(c)\n",
    "$$\n",
    "where $c$ is in ther interval $(x, x+h)$, then\n",
    "\n",
    "$$\n",
    "f^{\\prime} (x) = \\frac{1}{h} \\left[ f(x+h) - f(x) \\right] - \\frac{1}{2} h^2 f^{\\prime\\prime}(c)\n",
    "$$\n",
    "\n",
    "Therefore, the approximation\n",
    "\n",
    "$$f^{\\prime} (x) \\approx \\frac{1}{h} \\left[ f(x+h) - f(x) \\right]\n",
    "$$\n",
    "\n",
    "is the first order *forward divided difference approximation* with a truncation error term $-\\frac{1}{2} h^2 f^{\\prime\\prime}(c)$ of order $h$.\n"
   ]
  },
  {
   "cell_type": "markdown",
   "id": "c2cbf742-ad85-4fa2-b0b2-0e3c5e8440a6",
   "metadata": {},
   "source": [
    "***2) The backward divided difference approximation***"
   ]
  },
  {
   "cell_type": "markdown",
   "id": "a7857a06-9eeb-47f3-9aa2-6124ccf7329e",
   "metadata": {},
   "source": [
    "Likewise, replacing $h$ by $-h$,,\n",
    "\n",
    "$$\n",
    "f(x-h) = f(x) - h f^{\\prime}(x) + \\frac{1}{2} h^2 f^{\\prime\\prime}(c)\n",
    "$$\n",
    "\n",
    "where $c$ is in ther interval $(x-h, x)$, then\n",
    "\n",
    "$$\n",
    "f^{\\prime} (x) = \\frac{1}{h} \\left[ f(x) - f(x-h) \\right] + \\frac{1}{2} h^2 f^{\\prime\\prime}(c)\n",
    "$$\n",
    "\n",
    "Therefore, the approximation\n",
    "\n",
    "$$\n",
    "f^{\\prime} (x) \\approx \\frac{1}{h} \\left[ f(x) - f(x-h) \\right]\n",
    "$$\n",
    "\n",
    "is the first order *backward divided difference approximation* with a truncation error term $+\\frac{1}{2} h^2 f^{\\prime\\prime}(c)$ of order $h$."
   ]
  },
  {
   "cell_type": "markdown",
   "id": "2568f8d7-705b-4901-a564-22697067f0b8",
   "metadata": {},
   "source": [
    "***3)The central difference approximation***"
   ]
  },
  {
   "cell_type": "markdown",
   "id": "67ed91a2-fa26-4506-a064-5a24d6a46eca",
   "metadata": {},
   "source": [
    "Using Taylor's formula up to order 3,\n",
    "\n",
    "$$\n",
    "f(x+h) = f(x) + h f^{\\prime}(x) + \\frac{1}{2!} h^2 f^{(2)}(x) + \\frac{1}{3!} h^3 f^{(3)}(c_1)\n",
    "$$\n",
    "\n",
    "where $c_1$ is in the interval $(x, x+h)$, and similarly\n",
    "\n",
    "$$\n",
    "f(x-h) = f(x) - h f^{\\prime}(x) + \\frac{1}{2!} h^2 f^{(2)}(x) - \\frac{1}{3!} h^3 f^{(3)}(c_2)\n",
    "$$\n",
    "\n",
    "where $c_2$ is in the interval $(x-h, x)$.<br>\n",
    "By substraction, and using the intermediate value theorem,\n",
    "\n",
    "$$\n",
    "$f(x+h) - f(x-h) = 2hf^{\\prime}(x) + \\frac{2}{3!} h^3 f^{(3)} (c)\n",
    "$$\n",
    "\n",
    "This leads to a new approximation for $f^{\\prime}(x)$:\n",
    "\n",
    "$$f^{\\prime} (x) \\approx \\frac{1}{2h} \\left[ f(x+h) - f(x-h) \\right] - \\frac{1}{3!} h^2 f^{(3)} (c)\n",
    "$$\n",
    "\n",
    "where the approximation\n",
    "\n",
    "$$\n",
    "f^{\\prime} (x) \\approx \\frac{ \\left[ f(x+h) - f(x-h) \\right]}{2h}\n",
    "$$\n",
    "\n",
    "is the first order *central difference approximation* to $f^{\\prime}(x)$, with its truncation error $O(h^2)$."
   ]
  },
  {
   "cell_type": "code",
   "execution_count": 7,
   "id": "48ff3306-538c-4e16-a85b-fff6ebc82030",
   "metadata": {},
   "outputs": [
    {
     "name": "stdout",
     "output_type": "stream",
     "text": [
      "[1 2 3 4 5]\n",
      "[  1   8  27  64 125]\n",
      "[ 3 12 27 48 75]\n"
     ]
    }
   ],
   "source": [
    "import numpy as np\n",
    "\n",
    "def f(x):\n",
    "    return (x*x*x)\n",
    "\n",
    "def fprime(x):\n",
    "    return (3*x*x)\n",
    "\n",
    "xval = np.array([1, 2, 3, 4, 5])\n",
    "fval = f(xval)\n",
    "fprimeval = fprime(xval)\n",
    "print (xval)\n",
    "print (fval)\n",
    "print (fprimeval)"
   ]
  },
  {
   "cell_type": "code",
   "execution_count": 8,
   "id": "6c2ceaf5-1640-42d6-a1a0-edd987d3a9c3",
   "metadata": {},
   "outputs": [
    {
     "name": "stdout",
     "output_type": "stream",
     "text": [
      "[ 3.0001 12.0001 27.0001 48.0001 75.0001]\n",
      "[1.00000000e-04 9.99999998e-05 9.99999995e-05 9.99999987e-05\n",
      " 9.99999983e-05]\n",
      "9.999999928496095e-05 6.509378139315772e-13\n"
     ]
    }
   ],
   "source": [
    "from scipy.misc import derivative\n",
    "\n",
    "dev = derivative(f, xval, dx=0.01, n=1)\n",
    "err = dev - fprimeval\n",
    "err_mean = np.mean(err)\n",
    "err_std = np.std(err)\n",
    "print (dev)\n",
    "print (err)\n",
    "print (err_mean, err_std)"
   ]
  },
  {
   "cell_type": "code",
   "execution_count": 9,
   "id": "cdb70f43-51e7-4c24-97be-4d8a97cfa9a5",
   "metadata": {
    "tags": []
   },
   "outputs": [],
   "source": [
    "def numerical_derivative_first(g,a,method='central',h=0.01):\n",
    "    '''\n",
    "    Difference formula:\n",
    "    forward: g(a+h) - g(a))/h\n",
    "    backward: g(a) - g(a-h))/h            \n",
    "    central: g(a+h) - g(a-h))/(2*h)\n",
    "    '''\n",
    "    if method == 'forward':\n",
    "        return (g(a + h) - g(a))/h\n",
    "    elif method == 'backward':\n",
    "        return (g(a) - g(a - h))/h\n",
    "    elif method == 'central':\n",
    "        return (g(a + h) - g(a - h))/(2*h)\n",
    "    else:\n",
    "        raise ValueError(\"Method must be 'central', 'forward' or 'backward'.\")"
   ]
  },
  {
   "cell_type": "code",
   "execution_count": 10,
   "id": "c08a319e-8e61-425a-866c-fe09795a9fa2",
   "metadata": {
    "tags": []
   },
   "outputs": [
    {
     "name": "stdout",
     "output_type": "stream",
     "text": [
      "[ 3.003001 12.006001 27.009001 48.012001 75.015001]\n",
      "[0.003001 0.006001 0.009001 0.012001 0.015001]\n",
      "0.009001000007698323 0.004242640697029869\n"
     ]
    }
   ],
   "source": [
    "dev_forward = numerical_derivative_first(f, xval, method=\"forward\", h=0.001)\n",
    "err1 = dev_forward - fprimeval\n",
    "err1_mean = np.mean(err1)\n",
    "err1_std = np.std(err1)\n",
    "print (dev_forward)\n",
    "print (err1)\n",
    "print (err1_mean, err1_std)"
   ]
  },
  {
   "cell_type": "code",
   "execution_count": 11,
   "id": "c4c29bb1-6200-4d9a-b320-f4f0258e7cae",
   "metadata": {},
   "outputs": [
    {
     "name": "stdout",
     "output_type": "stream",
     "text": [
      "[ 2.71 11.41 26.11 46.81 73.51]\n",
      "[-0.29 -0.59 -0.89 -1.19 -1.49]\n",
      "-0.8900000000000468 0.4242640687120061\n"
     ]
    }
   ],
   "source": [
    "dev_backward = numerical_derivative_first(f, xval, method=\"backward\", h=0.1)\n",
    "err2 = dev_backward - fprimeval\n",
    "err2_mean = np.mean(err2)\n",
    "err2_std = np.std(err2)\n",
    "print (dev_backward)\n",
    "print (err2)\n",
    "print (err2_mean, err2_std)"
   ]
  },
  {
   "cell_type": "code",
   "execution_count": 12,
   "id": "448b3538-31ab-4f7d-87c5-dcbe68e6162c",
   "metadata": {
    "tags": []
   },
   "outputs": [
    {
     "name": "stdout",
     "output_type": "stream",
     "text": [
      "[ 3.0001 12.0001 27.0001 48.0001 75.0001]\n",
      "[1.00000000e-04 9.99999998e-05 9.99999995e-05 9.99999987e-05\n",
      " 9.99999983e-05]\n",
      "9.999999928496095e-05 6.509378139315772e-13\n"
     ]
    }
   ],
   "source": [
    "dev_central = numerical_derivative_first(f, xval, method=\"central\", h=0.01)\n",
    "err3 = dev_central - fprimeval\n",
    "err3_mean = np.mean(err3)\n",
    "err3_std = np.std(err3)\n",
    "print (dev_central)\n",
    "print (err3)\n",
    "print (err3_mean, err3_std)"
   ]
  },
  {
   "cell_type": "markdown",
   "id": "da91aac5-9e49-45de-8d5e-153c06723034",
   "metadata": {},
   "source": [
    "### **Approximation of second derivatives**"
   ]
  },
  {
   "cell_type": "markdown",
   "id": "02d84ceb-a61d-4e56-a73e-df473fbfb4d6",
   "metadata": {},
   "source": [
    "***1) The forward divided difference approximation***"
   ]
  },
  {
   "cell_type": "markdown",
   "id": "62f73609-f483-4485-91d2-0e973478f4c0",
   "metadata": {},
   "source": [
    "Consider the 2 Taylor's series expansions of $f$ up to second order given by:\n",
    "\n",
    "$$\n",
    "f(x+h) = f(x) + h f^{\\prime}(x) + \\frac{1}{2!} h^2 f^{\\prime\\prime}(x) + \\frac{1}{3!} h^3 f^{(3)} (c_1); c_1 \\in (x, x+h)\n",
    "$$\n",
    "\n",
    "$$\n",
    "f(x+2h) = f(x) + (2h) f^{\\prime}(x) + \\frac{1}{2!} (2h)^2 f^{\\prime\\prime} (x) + \\frac{1}{3!} (2h)^3 f^{(3)} (c_2); c_2 \\in (x, x+2h)\n",
    "$$\n",
    "\n",
    "where f is assumed to be a $C^{3}$-function.<br>\n",
    "Then, the algebraic operation, $f(x+2h) - 2f(x+h)$ leads to the forward difference approximation to $f^{\\prime\\prime}(x)$, which satisfies the following:\n",
    "\n",
    "$$\n",
    "f^{\\prime\\prime}(x) = \\frac{f(x+2h) - 2f(x+h) + f(x)}{h^{2}} + O(h)\n",
    "$$"
   ]
  },
  {
   "cell_type": "markdown",
   "id": "c7a0edd6-5c9b-4553-bc7c-6ec309ca821e",
   "metadata": {},
   "source": [
    "***2) The backward divided difference approximation***"
   ]
  },
  {
   "cell_type": "markdown",
   "id": "6acee89b-7982-4872-a219-229e3ad6ef3c",
   "metadata": {},
   "source": [
    "Replacing $h$ by $-h$,,\n",
    "\n",
    "$$\n",
    "f(x+h) = f(x) - h f^{\\prime}(x) + \\frac{1}{2!} h^2 f^{\\prime\\prime}(x) - \\frac{1}{3!} h^3 f^{(3)} (c_1); c_1 \\in (x-h, x)\n",
    "$$\n",
    "\n",
    "$$\n",
    "f(x-2h) = f(x) - (2h) f^{\\prime}(x) + \\frac{1}{2!} (2h)^2 f^{\\prime\\prime} (x) - \\frac{1}{3!} (2h)^3 f^{(3)} (c_2); c_2 \\in (x-2h, x)\n",
    "$$\n",
    "\n",
    "Then, the algebraic operation, $f(x-2h) - 2f(x-h)$ leads to the forward difference approximation to $f^{\\prime\\prime}(x)$, which satisfies the following:\n",
    "\n",
    "$$\n",
    "f^{\\prime\\prime}(x) = \\frac{f(x-2h) - 2f(x-h) + f(x)}{h^{2}} + O(h)\n",
    "$$"
   ]
  },
  {
   "cell_type": "markdown",
   "id": "9cb2b5ed-26fd-4746-aff0-75c4f3deb6e9",
   "metadata": {},
   "source": [
    "***3)The central difference approximation***"
   ]
  },
  {
   "cell_type": "markdown",
   "id": "7b01734d-8037-4485-9e28-5de765ac69d4",
   "metadata": {},
   "source": [
    "Using Taylor's formula up to order 3,\n",
    "\n",
    "$$\n",
    "f(x+h) = f(x) + h f^{\\prime}(x) + \\frac{1}{2!} h^2 f^{(2)}(x) + \\frac{1}{3!} h^3 f^{(3)} (x) + \\frac{1}{4!} h^4 f^{(4)} (c_1); c_1 \\in (x, x+h)\n",
    "$$\n",
    "\n",
    "$$\n",
    "f(x-h) = f(x) - h f^{\\prime}(x) + \\frac{1}{2!} h^2 f^{(2)}(x) - \\frac{1}{3!} h^3 f^{(3)} (x) + \\frac{1}{4!} h^4 f^{(4)} (c_2); c_2 \\in (x-h, x)\n",
    "$$\n",
    "\n",
    "By addition,\n",
    "\n",
    "$$\n",
    "f(x+h) + f(x-h) = 2hf(x) + f^{\\prime\\prime}(x)h^2 + \\frac{1}{4!} h^4 \\left(f^{(4)} (c_1)+f^{(4)} (c_2) \\right)\n",
    "$$\n",
    "\n",
    "Dividing by $h^2$ and using the intermdiate value theorem, one conclude that:\n",
    "\n",
    "$$\n",
    "f^{\\prime\\prime} (x) \\approx \\frac{ \\left[ f(x+h) - 2f(x) + f(x-h) \\right]}{h^2} + O(h^2)\n",
    "$$\n",
    "\n",
    "which is the *central difference approximation* to $f^{\\prime\\prime}$."
   ]
  },
  {
   "cell_type": "code",
   "execution_count": 13,
   "id": "024476c9-fb50-4370-9301-d0c4bf103655",
   "metadata": {},
   "outputs": [
    {
     "name": "stdout",
     "output_type": "stream",
     "text": [
      "[ 6 12 18 24 30]\n"
     ]
    }
   ],
   "source": [
    "def fdoubleprime(x):\n",
    "    return (6*x)\n",
    "\n",
    "fdoubleprimeval = fdoubleprime(xval)\n",
    "print (fdoubleprimeval)"
   ]
  },
  {
   "cell_type": "code",
   "execution_count": 14,
   "id": "24c4a814-25d7-42e8-a4c3-ec112e3880cb",
   "metadata": {},
   "outputs": [
    {
     "name": "stdout",
     "output_type": "stream",
     "text": [
      "[ 6. 12. 18. 24. 30.]\n",
      "[ 4.88498131e-14 -7.99360578e-14  3.23296945e-13 -1.93622895e-12\n",
      "  1.12976295e-12]\n",
      "-1.028510610012745e-13 1.0085387624844923e-12\n"
     ]
    }
   ],
   "source": [
    "dev2 = derivative(f, xval, dx=0.1, n=2)\n",
    "err = dev2 - fdoubleprimeval\n",
    "err_mean = np.mean(err)\n",
    "err_std = np.std(err)\n",
    "print (dev2)\n",
    "print (err)\n",
    "print (err_mean, err_std)"
   ]
  },
  {
   "cell_type": "code",
   "execution_count": 15,
   "id": "91691d94-f4e8-4d25-a59d-03829574e233",
   "metadata": {},
   "outputs": [],
   "source": [
    "def numerical_derivative_second(g,a,method='central',h=0.01):\n",
    "    '''\n",
    "    Difference formula:\n",
    "    forward: (g(a+2*h) - 2*g(a+h) + g(a))/h**2\n",
    "    backward: (g(a-2*h) - 2*g(a-h) + g(a))/h**2\n",
    "    central: (g(a+h) - 2*g(x) + g(a-h))/h**2\n",
    "    '''\n",
    "    if method == 'forward':\n",
    "        return (g(a+2*h) - 2*g(a+h) + g(a))/h**2\n",
    "    elif method == 'backward':\n",
    "        return (g(a-2*h) - 2*g(a-h) + g(a))/h**2\n",
    "    elif method == 'central':\n",
    "        return (g(a+h) - 2*g(a) + g(a-h))/h**2\n",
    "    else:\n",
    "        raise ValueError(\"Method must be 'central', 'forward' or 'backward'.\")"
   ]
  },
  {
   "cell_type": "code",
   "execution_count": 16,
   "id": "68018199-b82d-4044-8289-ea07f079afec",
   "metadata": {
    "tags": []
   },
   "outputs": [
    {
     "name": "stdout",
     "output_type": "stream",
     "text": [
      "[ 6.0005334  11.99396138 17.98383664 24.01634447 29.98490345]\n",
      "[ 0.0005334  -0.00603862 -0.01616336  0.01634447 -0.01509655]\n",
      "-0.0040841314039425924 0.011913441603633569\n"
     ]
    }
   ],
   "source": [
    "dev2_forward = numerical_derivative_second(f, xval, method=\"forward\", h=1e-6)\n",
    "err4 = dev2_forward - fdoubleprimeval\n",
    "err4_mean = np.mean(err4)\n",
    "err4_std = np.std(err4)\n",
    "print (dev2_forward)\n",
    "print (err4)\n",
    "print (err4_mean, err4_std)"
   ]
  },
  {
   "cell_type": "code",
   "execution_count": 17,
   "id": "4fa89fd0-bc04-4ef4-8050-d86260f23ce9",
   "metadata": {},
   "outputs": [
    {
     "name": "stdout",
     "output_type": "stream",
     "text": [
      "[ 6.0005334  11.99573774 18.01225835 24.0234499  30.01332516]\n",
      "[ 0.0005334  -0.00426226  0.01225835  0.0234499   0.01332516]\n",
      "0.009060909207619261 0.009855715978367218\n"
     ]
    }
   ],
   "source": [
    "dev2_backward = numerical_derivative_second(f, xval, method=\"backward\", h=1e-6)\n",
    "err5 = dev2_backward - fdoubleprimeval\n",
    "err5_mean = np.mean(err5)\n",
    "err5_std = np.std(err5)\n",
    "print (dev2_backward)\n",
    "print (err5)\n",
    "print (err5_mean, err5_std)"
   ]
  },
  {
   "cell_type": "code",
   "execution_count": 18,
   "id": "da720f13-6152-4281-ba66-2dcf100ed742",
   "metadata": {
    "tags": []
   },
   "outputs": [
    {
     "name": "stdout",
     "output_type": "stream",
     "text": [
      "[ 6. 12. 18. 24. 30.]\n",
      "[ 4.88498131e-14  8.88178420e-15  3.23296945e-13 -1.22568622e-12\n",
      "  1.12976295e-12]\n",
      "5.702105454474804e-14 7.57548695767607e-13\n"
     ]
    }
   ],
   "source": [
    "dev2_central = numerical_derivative_second(f, xval, method=\"central\", h=0.1)\n",
    "err6 = dev2_central - fdoubleprimeval\n",
    "err6_mean = np.mean(err6)\n",
    "err6_std = np.std(err6)\n",
    "print (dev2_central)\n",
    "print (err6)\n",
    "print (err6_mean, err6_std)"
   ]
  },
  {
   "cell_type": "markdown",
   "id": "400e4e8d-3794-4493-8afc-28670efda2d2",
   "metadata": {},
   "source": [
    "## **2. Numerical Integration**"
   ]
  },
  {
   "cell_type": "markdown",
   "id": "10ac0674-36fe-42e7-8eba-95ab64819c0b",
   "metadata": {},
   "source": [
    "### **The trapezoidal rule**"
   ]
  },
  {
   "cell_type": "markdown",
   "id": "f95b3491-097c-48ef-8d7f-d26601a9f2b3",
   "metadata": {},
   "source": [
    "A simple geometric argument consists in approximating the surface between the $x$-axis, the curve $y = f(x)$ and the vertical lines $x = x_k$ and $x = x_{k+1}$ by the area of the rectangular trapezoid which vertices are $(x_k, 0)$, $(x_{k+1}, 0)$, $(x_k, f(x_k))$ and $(x_{k+1}. f(x_{k+1}))$. This leads first to the simple trapezoidal rule, given by:<br>\n",
    "\n",
    "$$\n",
    "g = \\int^{x_{k+1}}_{x_k} f(x)dx \\approx T_k = \\frac{h}{2} (f(x_k) + f(x_{k+1}))\n",
    "$$\n",
    "\n",
    "and subsequently to the composite trapezoid rule given by:<br>\n",
    "\n",
    "$$\n",
    "I = I(a,b) = \\int^{b}_{a} f(x) dx \\approx T(h) = \\frac{h}{2} \\sum^{n-1}_{k=0} \\left( f(x_k) + f(x_{k+1}) \\right)\n",
    "$$"
   ]
  },
  {
   "cell_type": "markdown",
   "id": "099e7467-b1b6-4253-b6c1-0e4d43e30456",
   "metadata": {},
   "source": [
    "An error of the trapezoidal rule can be derived to:\n",
    "\n",
    "$$\n",
    "I = I(a,b) = T(h) - \\frac{(b-a)}{12} f^{\\prime\\prime}(c) h^2; c \\in (a,b)\n",
    "$$"
   ]
  },
  {
   "cell_type": "code",
   "execution_count": 19,
   "id": "2bab09b5-a091-4264-b9aa-584bd920ec4c",
   "metadata": {},
   "outputs": [],
   "source": [
    "def trap(func, a, b, n):\n",
    "    h = (b-a) / n\n",
    "    int_val = 0.5 * h * (func(a) + func(b))\n",
    "    for i in range(0, int(n)):\n",
    "        int_val = int_val + h * func(i * h)\n",
    "    return int_val"
   ]
  },
  {
   "cell_type": "code",
   "execution_count": 20,
   "id": "00010543-0d89-4773-99be-8ce249503b8d",
   "metadata": {},
   "outputs": [
    {
     "name": "stdout",
     "output_type": "stream",
     "text": [
      "0.5\n",
      "0.375\n",
      "0.35185185185185186\n",
      "0.34375\n",
      "0.3400000000000001\n",
      "0.3379629629629629\n",
      "0.33673469387755095\n",
      "0.3359375\n",
      "0.3353909465020576\n"
     ]
    }
   ],
   "source": [
    "def f(x):\n",
    "    return (x ** 2)\n",
    "\n",
    "neval = 10\n",
    "for i in range(1, neval):\n",
    "    print (trap(f, 0, 1, i))"
   ]
  },
  {
   "cell_type": "code",
   "execution_count": 21,
   "id": "3c08601b-874e-4fe5-92ef-388228c511ff",
   "metadata": {},
   "outputs": [
    {
     "name": "stdout",
     "output_type": "stream",
     "text": [
      "0.33335000000000015\n"
     ]
    }
   ],
   "source": [
    "print (trap(f, 0, 1, 100))"
   ]
  },
  {
   "cell_type": "markdown",
   "id": "1c45c06a-37e9-45e6-bd4e-38e169a7a198",
   "metadata": {},
   "source": [
    "### **Simpson's rule**"
   ]
  },
  {
   "cell_type": "markdown",
   "id": "dc9514cd-c5d5-48e7-acbc-b58fda872bd8",
   "metadata": {},
   "source": [
    "Simpson’s rule is applicable only if the number of subintervals is even. Its accuracy is higher  than the trapezoid rule. The simple Simpson’s rule is defined as:\n",
    "\n",
    "$$\n",
    "S_k = \\frac{h}{3} \\left[ f(x_{2k}) + 4 f(x_{2k+1}) + f(x_{2k+2}) \\right]\n",
    "$$\n",
    "\n",
    "Then the composite Simpson's rule can be derived into:\n",
    "\n",
    "$$\n",
    "I = I(a,b) = \\frac{h}{3} \\sum^{m-1}_{k=0} \\left[ f(x_{2k} + 4 f(x_{2k+1}) + f(x_{2k+2}) \\right] -\\frac{(b-a)h^{4}}{180} f^{(4)}(c)\n",
    "$$"
   ]
  },
  {
   "cell_type": "code",
   "execution_count": 22,
   "id": "527714c7-44c5-4720-91bc-5487d45a0ec3",
   "metadata": {},
   "outputs": [],
   "source": [
    "def simps(func,a,b,n=100):\n",
    "    if n % 2 == 1:\n",
    "        raise ValueError(\"N must be an even integer.\")\n",
    "    dx = (b-a)/float(n)\n",
    "    xi = np.linspace(a,b,n+1)\n",
    "    yi = func(xi)\n",
    "    S = dx/3 * np.sum(yi[0:-1:2] + 4*yi[1::2] + yi[2::2])\n",
    "    return S"
   ]
  },
  {
   "cell_type": "code",
   "execution_count": 23,
   "id": "60d150d9-cae8-4280-9ebc-ab26527db7e2",
   "metadata": {},
   "outputs": [
    {
     "name": "stdout",
     "output_type": "stream",
     "text": [
      "0.3333333333333333\n"
     ]
    }
   ],
   "source": [
    "neval = 4\n",
    "print (simps(f, 0, 1, neval))"
   ]
  }
 ],
 "metadata": {
  "kernelspec": {
   "display_name": "Python 3",
   "language": "python",
   "name": "python3"
  },
  "language_info": {
   "codemirror_mode": {
    "name": "ipython",
    "version": 3
   },
   "file_extension": ".py",
   "mimetype": "text/x-python",
   "name": "python",
   "nbconvert_exporter": "python",
   "pygments_lexer": "ipython3",
   "version": "3.8.8"
  }
 },
 "nbformat": 4,
 "nbformat_minor": 5
}
