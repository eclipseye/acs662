{
 "cells": [
  {
   "cell_type": "markdown",
   "id": "73cceab5-cdad-484c-b58f-8649fe8e815e",
   "metadata": {},
   "source": [
    "# **Practical Git Exercises**"
   ]
  },
  {
   "cell_type": "markdown",
   "id": "f4d77155-7124-48a6-a04c-e0f1d9466598",
   "metadata": {},
   "source": [
    "## What is version control?\n",
    "\n",
    "Version control (aka source control) is to track and manage changes of codes. Version control systems are of software tools to help one manage changes to source code over time.\n",
    "\n",
    "Version control software, such as cvs, svn, git, etc., keeps track of every modification to the code. If any mistake is made, code developers can trace back the clock and fix the mistake.\n",
    "\n",
    "Code developers in teams are committing new source code and/or changin existing code. \n",
    "Version control helps teams track every individual change by each contributor and helping prevent concurrent work from conflicting."
   ]
  },
  {
   "cell_type": "markdown",
   "id": "65d41749-f5ef-4dad-ae09-3d37a80a32b0",
   "metadata": {},
   "source": [
    "## What is Git?\n",
    "\n",
    "The most widely used version control system in the world is Git. It is originally developed in 2005 by Linus Tovalds.\n",
    "Git is a Distrivuted Version Control System in contrast to cvs and svn which have only one single place for the full version history of code. "
   ]
  },
  {
   "cell_type": "markdown",
   "id": "ba2fc9e1-07e4-4352-a5a4-b0c5b87f6af8",
   "metadata": {},
   "source": [
    "## Install Git\n",
    "\n",
    "On Linux (e.g., ubuntu or centos)\n",
    "```sh\n",
    "sudo apt install git\n",
    "```\n",
    "or\n",
    "```sh\n",
    "sudo yum install git\n",
    "```\n",
    "\n",
    "On general platforms with anaconda\n",
    "```sh\n",
    "conda install git\n",
    "```"
   ]
  },
  {
   "cell_type": "markdown",
   "id": "8ef95d75-f8c6-4694-8cf3-3045a37c37ec",
   "metadata": {},
   "source": [
    "## Setting-up git configurations: ```git config```\n",
    "```sh\n",
    "git config --global user.name <Your Name>\n",
    "git config --global user.email <Your email>\n",
    "```"
   ]
  },
  {
   "cell_type": "markdown",
   "id": "e096ae50-dca5-44af-bdad-690716f45899",
   "metadata": {},
   "source": [
    "## What is a Git repository?\n",
    "\n",
    "A Git repository is a virtual storage of code. In the repository, one can save versions of code, which can be accessible when needed."
   ]
  },
  {
   "cell_type": "markdown",
   "id": "3791633c-2ba7-4878-adc6-f9613550c8e3",
   "metadata": {},
   "source": [
    "## Initializing a new repository: ```git init```\n",
    "```sh\n",
    "cd /path/to/your/existing/code\n",
    "git init <path>\n",
    "```"
   ]
  },
  {
   "cell_type": "markdown",
   "id": "f430b71c-6d8c-420d-8cb0-f7f8c04b45fd",
   "metadata": {},
   "source": [
    "## Saving changes to the repository: ```git add``` and ```git commit```\n",
    "\n",
    "```sh\n",
    "cd /path/to/project \n",
    "echo \"This is a test for git\" >> test.txt \n",
    "git add test.txt \n",
    "git commit -m \"add test.txt to the repo\"\n",
    "```\n",
    "or\n",
    "```sh\n",
    "git commit -a \"add test.txt to the repo\"\n",
    "```"
   ]
  },
  {
   "cell_type": "markdown",
   "id": "a4a41a25-ce9b-4bb8-a4eb-e0ef79c57ac1",
   "metadata": {},
   "source": [
    "## Cloning an existing repository: git clone\n",
    "```sh\n",
    "git clone <repo url>\n",
    "```"
   ]
  },
  {
   "cell_type": "markdown",
   "id": "bbb58ed4-4202-4462-b77b-bc6ab92d63ec",
   "metadata": {},
   "source": [
    "## Repo-to-repo collaboration: git push\n",
    "If you created a bare git project, then there is no repo to push your changes.\n",
    "```sh\n",
    "git remote add <remote_name> <remote_rep_url>\n",
    "```\n",
    "If you cloned an existing git project, then you can push your change to the repo.\n",
    "```sh\n",
    "git push -u <remote_name> <local_branch_name>\n",
    "```\n",
    "Later, after you make changes, \n",
    "```sh\n",
    "git push\n",
    "```"
   ]
  }
 ],
 "metadata": {
  "kernelspec": {
   "display_name": "Python 3 (ipykernel)",
   "language": "python",
   "name": "python3"
  },
  "language_info": {
   "codemirror_mode": {
    "name": "ipython",
    "version": 3
   },
   "file_extension": ".py",
   "mimetype": "text/x-python",
   "name": "python",
   "nbconvert_exporter": "python",
   "pygments_lexer": "ipython3",
   "version": "3.8.10"
  }
 },
 "nbformat": 4,
 "nbformat_minor": 5
}
