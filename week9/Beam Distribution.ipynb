{
 "cells": [
  {
   "cell_type": "markdown",
   "id": "1d2c9f1f-3d64-449b-acf0-4fc0c835401e",
   "metadata": {},
   "source": [
    "# **Beam Distribution**"
   ]
  },
  {
   "cell_type": "markdown",
   "id": "8ff63070-de6e-4a11-9959-31090f1fff42",
   "metadata": {
    "tags": []
   },
   "source": [
    "## **Gaussian Beam Distribution**"
   ]
  },
  {
   "cell_type": "code",
   "execution_count": null,
   "id": "3e83b15a-da6e-4b51-bc31-e98e70600940",
   "metadata": {},
   "outputs": [],
   "source": []
  },
  {
   "cell_type": "code",
   "execution_count": null,
   "id": "23ac9867-3fe8-4332-a232-9c15d56d7874",
   "metadata": {},
   "outputs": [],
   "source": []
  },
  {
   "cell_type": "markdown",
   "id": "5f63f0e3-3880-44a4-9b8a-5f7fa7ccf690",
   "metadata": {
    "tags": []
   },
   "source": [
    "## **KV Beam Distribution**"
   ]
  },
  {
   "cell_type": "code",
   "execution_count": null,
   "id": "6cf3952a-6c20-491d-9294-2d770a83319b",
   "metadata": {},
   "outputs": [],
   "source": []
  },
  {
   "cell_type": "code",
   "execution_count": null,
   "id": "6a9d7233-a7fd-4939-a1cb-d99abc34c16c",
   "metadata": {},
   "outputs": [],
   "source": []
  },
  {
   "cell_type": "markdown",
   "id": "ebd3752e-de1b-4e87-8561-8db604348b11",
   "metadata": {
    "tags": []
   },
   "source": [
    "## **Waterbag Beam Distribution**"
   ]
  },
  {
   "cell_type": "code",
   "execution_count": null,
   "id": "61434043-828e-4e17-9d7e-c3e0b9293357",
   "metadata": {},
   "outputs": [],
   "source": []
  },
  {
   "cell_type": "code",
   "execution_count": null,
   "id": "658f9b60-2670-4147-9da7-f3342a163350",
   "metadata": {},
   "outputs": [],
   "source": []
  }
 ],
 "metadata": {
  "kernelspec": {
   "display_name": "Python 3 (ipykernel)",
   "language": "python",
   "name": "python3"
  },
  "language_info": {
   "codemirror_mode": {
    "name": "ipython",
    "version": 3
   },
   "file_extension": ".py",
   "mimetype": "text/x-python",
   "name": "python",
   "nbconvert_exporter": "python",
   "pygments_lexer": "ipython3",
   "version": "3.8.12"
  }
 },
 "nbformat": 4,
 "nbformat_minor": 5
}
